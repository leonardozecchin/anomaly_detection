{
 "cells": [
  {
   "cell_type": "code",
   "execution_count": null,
   "metadata": {},
   "outputs": [],
   "source": [
    "\n",
    "import pandas as pd \n",
    "import numpy as np\n",
    "import os"
   ]
  },
  {
   "cell_type": "code",
   "execution_count": null,
   "metadata": {},
   "outputs": [],
   "source": [
    "df1 = pd.read_csv('last12months/12months/204300479.csv')\n",
    "df2 = pd.read_csv('last12months/12months/220330932.csv')\n",
    "df3 = pd.read_csv('last12months/12months/224228487.csv')\n",
    "df1['dt'] = pd.to_datetime(df1['TIMESTAMP'],unit='ms')\n",
    "df2['dt'] = pd.to_datetime(df2['TIMESTAMP'],unit='ms')\n",
    "df3['dt'] = pd.to_datetime(df3['TIMESTAMP'],unit='ms')"
   ]
  },
  {
   "cell_type": "code",
   "execution_count": null,
   "metadata": {},
   "outputs": [],
   "source": [
    "def cleanCSV(df):\n",
    "  cols_to_check = df.columns\n",
    "  arr_col = []\n",
    "  for col in df.columns:\n",
    "    if df[col].isna().all():\n",
    "        print(\"La colonna\", col, \"contiene solo valori NaN.\")\n",
    "        arr_col.append(col)\n",
    "  df_cleaned = df.drop(columns=arr_col)\n",
    "  return df_cleaned"
   ]
  },
  {
   "cell_type": "code",
   "execution_count": null,
   "metadata": {},
   "outputs": [],
   "source": [
    "def sortDf(df):\n",
    "    if 'TIMESTAMP' in df.columns:\n",
    "        df = df.sort_values('TIMESTAMP',ascending=True)\n",
    "        df.index = range(len(df))\n",
    "    else:\n",
    "        print(\"La colonna TIMESTAMP non è presente nel dataframe.\")\n",
    "        return None\n",
    "    return df"
   ]
  },
  {
   "cell_type": "code",
   "execution_count": null,
   "metadata": {},
   "outputs": [],
   "source": [
    "def resampleDf(df,datetime):\n",
    "    if 'dt' in df.columns:\n",
    "        df.set_index('dt', inplace=True)\n",
    "    df_noNan = df.ffill()\n",
    "    df_resampled = df_noNan.resample(datetime).ffill()\n",
    "\n",
    "    return df_resampled"
   ]
  },
  {
   "cell_type": "code",
   "execution_count": null,
   "metadata": {},
   "outputs": [],
   "source": [
    "#check if a file is in a specific folder\n",
    "def checkFileInFolder(folder, file):\n",
    "    if file in os.listdir(folder):\n",
    "        return True\n",
    "    return False"
   ]
  },
  {
   "cell_type": "code",
   "execution_count": null,
   "metadata": {},
   "outputs": [],
   "source": [
    "if not checkFileInFolder(folder ='last12months/12months',file='204300479_resampled30s.csv'):\n",
    "    df1_sorted = sortDf(df1)\n",
    "    df1_sorted = cleanCSV(df1_sorted)\n",
    "    df1_resampled = resampleDf(df1_sorted,'30s')\n",
    "    df1_resampled.to_csv('last12months/12months/204300479_resampled30s.csv')\n",
    "else:\n",
    "    df1_resampled = pd.read_csv('last12months/12months/204300479_resampled30s.csv')\n",
    "\n",
    "if not checkFileInFolder(folder ='last12months/12months',file='220330932_resampled30s.csv'):\n",
    "    df2_sorted = sortDf(df2)\n",
    "    df2_sorted = cleanCSV(df2_sorted)\n",
    "    df2_resampled = resampleDf(df2_sorted,'30s')\n",
    "    df2_resampled.to_csv('last12months/12months/220330932_resampled30s.csv')\n",
    "else:\n",
    "    df2_resampled = pd.read_csv('last12months/12months/220330932_resampled30s.csv')\n",
    "\n",
    "if not checkFileInFolder(folder ='last12months/12months',file='224228487_resampled30s.csv'):\n",
    "    df3_sorted = sortDf(df3)\n",
    "    df3_sorted = cleanCSV(df3_sorted)\n",
    "    df3_resampled = resampleDf(df3_sorted,'30s')\n",
    "    df3_resampled.to_csv('last12months/12months/224228487_resampled30s.csv')\n",
    "else:\n",
    "    df3_resampled = pd.read_csv('last12months/12months/224228487_resampled30s.csv')\n"
   ]
  },
  {
   "cell_type": "code",
   "execution_count": null,
   "metadata": {},
   "outputs": [],
   "source": [
    "def getUniques(df):\n",
    "    cols = df.columns\n",
    "    dict_unique = dict.fromkeys(cols,None)\n",
    "    for col in cols:\n",
    "        dict_unique[col] = df[col].unique()\n",
    "    return dict_unique"
   ]
  },
  {
   "cell_type": "code",
   "execution_count": null,
   "metadata": {},
   "outputs": [],
   "source": [
    "def printUniques(df):\n",
    "    for key, value in df.items():\n",
    "        if len(value) < 4 and 1 in value:\n",
    "            print(key, value)"
   ]
  },
  {
   "cell_type": "code",
   "execution_count": null,
   "metadata": {},
   "outputs": [],
   "source": [
    "dict_unique1 = getUniques(df1_resampled)\n",
    "dict_unique2 = getUniques(df2_resampled)\n",
    "dict_unique3 = getUniques(df3_resampled)"
   ]
  },
  {
   "cell_type": "code",
   "execution_count": null,
   "metadata": {},
   "outputs": [],
   "source": [
    "printUniques(dict_unique1)\n",
    "printUniques(dict_unique2)\n",
    "printUniques(dict_unique3)"
   ]
  },
  {
   "cell_type": "code",
   "execution_count": null,
   "metadata": {},
   "outputs": [],
   "source": [
    "df1_sorted = sortDf(df1)\n",
    "df2_sorted = sortDf(df2)\n",
    "df3_sorted = sortDf(df3)\n",
    "df1_sorted = cleanCSV(df1_sorted)\n",
    "df2_sorted = cleanCSV(df2_sorted)\n",
    "df3_sorted = cleanCSV(df3_sorted)"
   ]
  },
  {
   "cell_type": "code",
   "execution_count": null,
   "metadata": {},
   "outputs": [],
   "source": [
    "\n",
    "df1_resampled = resampleDf(df1_sorted,'30s')\n",
    "df2_resampled = resampleDf(df2_sorted,'30s')\n",
    "df3_resampled = resampleDf(df3_sorted,'30s')"
   ]
  },
  {
   "cell_type": "code",
   "execution_count": null,
   "metadata": {},
   "outputs": [],
   "source": [
    "df1_resampled.to_csv('last12months/12months/204300479_resampled30s.csv')\n",
    "df2_resampled.to_csv('last12months/12months/220330932_resampled30s.csv')\n",
    "df3_resampled.to_csv('last12months/12months/224228487_resampled30s.csv')"
   ]
  }
 ],
 "metadata": {
  "kernelspec": {
   "display_name": "base",
   "language": "python",
   "name": "python3"
  },
  "language_info": {
   "codemirror_mode": {
    "name": "ipython",
    "version": 3
   },
   "file_extension": ".py",
   "mimetype": "text/x-python",
   "name": "python",
   "nbconvert_exporter": "python",
   "pygments_lexer": "ipython3",
   "version": "3.9.13"
  },
  "orig_nbformat": 4
 },
 "nbformat": 4,
 "nbformat_minor": 2
}

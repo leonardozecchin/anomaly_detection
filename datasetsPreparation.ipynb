{
 "cells": [
  {
   "cell_type": "code",
   "execution_count": 1,
   "metadata": {},
   "outputs": [],
   "source": [
    "import pandas as pd "
   ]
  },
  {
   "cell_type": "code",
   "execution_count": 2,
   "metadata": {},
   "outputs": [
    {
     "name": "stderr",
     "output_type": "stream",
     "text": [
      "/Users/leonardozecchin/anaconda3/lib/python3.8/site-packages/IPython/core/interactiveshell.py:3146: DtypeWarning: Columns (22,24,26,28) have mixed types.Specify dtype option on import or set low_memory=False.\n",
      "  has_raised = await self.run_ast_nodes(code_ast.body, cell_name,\n"
     ]
    }
   ],
   "source": [
    "dfTotal = pd.read_csv('last12months/12months/d_test_filled.csv')"
   ]
  },
  {
   "cell_type": "code",
   "execution_count": 31,
   "metadata": {},
   "outputs": [
    {
     "name": "stderr",
     "output_type": "stream",
     "text": [
      "/Users/leonardozecchin/anaconda3/lib/python3.8/site-packages/IPython/core/interactiveshell.py:3146: DtypeWarning: Columns (21,23,25,27,51) have mixed types.Specify dtype option on import or set low_memory=False.\n",
      "  has_raised = await self.run_ast_nodes(code_ast.body, cell_name,\n"
     ]
    }
   ],
   "source": [
    "df1 = pd.read_csv('last12months/12months/204300479.csv')"
   ]
  },
  {
   "cell_type": "code",
   "execution_count": 35,
   "metadata": {},
   "outputs": [
    {
     "data": {
      "text/plain": [
       "array([0.])"
      ]
     },
     "execution_count": 35,
     "metadata": {},
     "output_type": "execute_result"
    }
   ],
   "source": [
    "dfTotal['Anomalia #1'].unique()"
   ]
  },
  {
   "cell_type": "code",
   "execution_count": 19,
   "metadata": {},
   "outputs": [
    {
     "data": {
      "text/html": [
       "<div>\n",
       "<style scoped>\n",
       "    .dataframe tbody tr th:only-of-type {\n",
       "        vertical-align: middle;\n",
       "    }\n",
       "\n",
       "    .dataframe tbody tr th {\n",
       "        vertical-align: top;\n",
       "    }\n",
       "\n",
       "    .dataframe thead th {\n",
       "        text-align: right;\n",
       "    }\n",
       "</style>\n",
       "<table border=\"1\" class=\"dataframe\">\n",
       "  <thead>\n",
       "    <tr style=\"text-align: right;\">\n",
       "      <th></th>\n",
       "      <th>Unnamed: 0</th>\n",
       "      <th>dt</th>\n",
       "      <th>TIMESTAMP</th>\n",
       "      <th>Abilitazione al conteggio energia</th>\n",
       "      <th>Anomalia #1</th>\n",
       "      <th>Caldaia</th>\n",
       "      <th>Caldaia giornaliero</th>\n",
       "      <th>Connection Status</th>\n",
       "      <th>Energia parziale in riscaldamento caldaia</th>\n",
       "      <th>Energia parziale in sanitario caldaia</th>\n",
       "      <th>...</th>\n",
       "      <th>Stato attivazione BOOST sanitario</th>\n",
       "      <th>Taratura sensore</th>\n",
       "      <th>Temperatura di mandata</th>\n",
       "      <th>Temperatura esterna</th>\n",
       "      <th>Temperatura esterna mediata</th>\n",
       "      <th>Temperatura fumi</th>\n",
       "      <th>Temperatura sanitario</th>\n",
       "      <th>Temperatura scambiatore</th>\n",
       "      <th>Velocita' ventilatore</th>\n",
       "      <th>WiFi signal</th>\n",
       "    </tr>\n",
       "  </thead>\n",
       "  <tbody>\n",
       "    <tr>\n",
       "      <th>1084084</th>\n",
       "      <td>1084084</td>\n",
       "      <td>2023-07-12 08:02:00</td>\n",
       "      <td>1689148915763</td>\n",
       "      <td>1.0</td>\n",
       "      <td>0.0</td>\n",
       "      <td>3368569.0</td>\n",
       "      <td>417542.0</td>\n",
       "      <td>1.0</td>\n",
       "      <td>121.0</td>\n",
       "      <td>231.0</td>\n",
       "      <td>...</td>\n",
       "      <td>0.0</td>\n",
       "      <td>-2.3</td>\n",
       "      <td>34.7</td>\n",
       "      <td>0.0</td>\n",
       "      <td>0.0</td>\n",
       "      <td>0.0</td>\n",
       "      <td>31.5</td>\n",
       "      <td>0.0</td>\n",
       "      <td>0.0</td>\n",
       "      <td>-49.0</td>\n",
       "    </tr>\n",
       "    <tr>\n",
       "      <th>1084085</th>\n",
       "      <td>1084085</td>\n",
       "      <td>2023-07-12 08:02:30</td>\n",
       "      <td>1689148945527</td>\n",
       "      <td>1.0</td>\n",
       "      <td>0.0</td>\n",
       "      <td>3368569.0</td>\n",
       "      <td>417542.0</td>\n",
       "      <td>1.0</td>\n",
       "      <td>121.0</td>\n",
       "      <td>231.0</td>\n",
       "      <td>...</td>\n",
       "      <td>0.0</td>\n",
       "      <td>-2.3</td>\n",
       "      <td>34.7</td>\n",
       "      <td>0.0</td>\n",
       "      <td>0.0</td>\n",
       "      <td>0.0</td>\n",
       "      <td>31.5</td>\n",
       "      <td>0.0</td>\n",
       "      <td>0.0</td>\n",
       "      <td>-49.0</td>\n",
       "    </tr>\n",
       "    <tr>\n",
       "      <th>1084086</th>\n",
       "      <td>1084086</td>\n",
       "      <td>2023-07-12 08:03:00</td>\n",
       "      <td>1689148976831</td>\n",
       "      <td>1.0</td>\n",
       "      <td>0.0</td>\n",
       "      <td>3368569.0</td>\n",
       "      <td>417542.0</td>\n",
       "      <td>1.0</td>\n",
       "      <td>121.0</td>\n",
       "      <td>231.0</td>\n",
       "      <td>...</td>\n",
       "      <td>0.0</td>\n",
       "      <td>-2.3</td>\n",
       "      <td>34.6</td>\n",
       "      <td>0.0</td>\n",
       "      <td>0.0</td>\n",
       "      <td>0.0</td>\n",
       "      <td>31.4</td>\n",
       "      <td>0.0</td>\n",
       "      <td>0.0</td>\n",
       "      <td>-49.0</td>\n",
       "    </tr>\n",
       "    <tr>\n",
       "      <th>1084087</th>\n",
       "      <td>1084087</td>\n",
       "      <td>2023-07-12 08:03:30</td>\n",
       "      <td>1689149006629</td>\n",
       "      <td>1.0</td>\n",
       "      <td>0.0</td>\n",
       "      <td>3368569.0</td>\n",
       "      <td>417542.0</td>\n",
       "      <td>1.0</td>\n",
       "      <td>121.0</td>\n",
       "      <td>231.0</td>\n",
       "      <td>...</td>\n",
       "      <td>0.0</td>\n",
       "      <td>-2.3</td>\n",
       "      <td>34.6</td>\n",
       "      <td>0.0</td>\n",
       "      <td>0.0</td>\n",
       "      <td>0.0</td>\n",
       "      <td>31.4</td>\n",
       "      <td>0.0</td>\n",
       "      <td>0.0</td>\n",
       "      <td>-49.0</td>\n",
       "    </tr>\n",
       "    <tr>\n",
       "      <th>1084088</th>\n",
       "      <td>1084088</td>\n",
       "      <td>2023-07-12 08:04:00</td>\n",
       "      <td>1689149036525</td>\n",
       "      <td>1.0</td>\n",
       "      <td>0.0</td>\n",
       "      <td>3368569.0</td>\n",
       "      <td>417542.0</td>\n",
       "      <td>1.0</td>\n",
       "      <td>121.0</td>\n",
       "      <td>231.0</td>\n",
       "      <td>...</td>\n",
       "      <td>0.0</td>\n",
       "      <td>-2.3</td>\n",
       "      <td>34.5</td>\n",
       "      <td>0.0</td>\n",
       "      <td>0.0</td>\n",
       "      <td>0.0</td>\n",
       "      <td>31.4</td>\n",
       "      <td>0.0</td>\n",
       "      <td>0.0</td>\n",
       "      <td>-49.0</td>\n",
       "    </tr>\n",
       "  </tbody>\n",
       "</table>\n",
       "<p>5 rows × 57 columns</p>\n",
       "</div>"
      ],
      "text/plain": [
       "         Unnamed: 0                   dt      TIMESTAMP  \\\n",
       "1084084     1084084  2023-07-12 08:02:00  1689148915763   \n",
       "1084085     1084085  2023-07-12 08:02:30  1689148945527   \n",
       "1084086     1084086  2023-07-12 08:03:00  1689148976831   \n",
       "1084087     1084087  2023-07-12 08:03:30  1689149006629   \n",
       "1084088     1084088  2023-07-12 08:04:00  1689149036525   \n",
       "\n",
       "         Abilitazione al conteggio energia  Anomalia #1    Caldaia  \\\n",
       "1084084                                1.0          0.0  3368569.0   \n",
       "1084085                                1.0          0.0  3368569.0   \n",
       "1084086                                1.0          0.0  3368569.0   \n",
       "1084087                                1.0          0.0  3368569.0   \n",
       "1084088                                1.0          0.0  3368569.0   \n",
       "\n",
       "         Caldaia giornaliero  Connection Status  \\\n",
       "1084084             417542.0                1.0   \n",
       "1084085             417542.0                1.0   \n",
       "1084086             417542.0                1.0   \n",
       "1084087             417542.0                1.0   \n",
       "1084088             417542.0                1.0   \n",
       "\n",
       "         Energia parziale in riscaldamento caldaia  \\\n",
       "1084084                                      121.0   \n",
       "1084085                                      121.0   \n",
       "1084086                                      121.0   \n",
       "1084087                                      121.0   \n",
       "1084088                                      121.0   \n",
       "\n",
       "         Energia parziale in sanitario caldaia  ...  \\\n",
       "1084084                                  231.0  ...   \n",
       "1084085                                  231.0  ...   \n",
       "1084086                                  231.0  ...   \n",
       "1084087                                  231.0  ...   \n",
       "1084088                                  231.0  ...   \n",
       "\n",
       "         Stato attivazione BOOST sanitario  Taratura sensore  \\\n",
       "1084084                                0.0              -2.3   \n",
       "1084085                                0.0              -2.3   \n",
       "1084086                                0.0              -2.3   \n",
       "1084087                                0.0              -2.3   \n",
       "1084088                                0.0              -2.3   \n",
       "\n",
       "         Temperatura di mandata  Temperatura esterna  \\\n",
       "1084084                    34.7                  0.0   \n",
       "1084085                    34.7                  0.0   \n",
       "1084086                    34.6                  0.0   \n",
       "1084087                    34.6                  0.0   \n",
       "1084088                    34.5                  0.0   \n",
       "\n",
       "         Temperatura esterna mediata  Temperatura fumi  Temperatura sanitario  \\\n",
       "1084084                          0.0               0.0                   31.5   \n",
       "1084085                          0.0               0.0                   31.5   \n",
       "1084086                          0.0               0.0                   31.4   \n",
       "1084087                          0.0               0.0                   31.4   \n",
       "1084088                          0.0               0.0                   31.4   \n",
       "\n",
       "         Temperatura scambiatore  Velocita' ventilatore  WiFi signal  \n",
       "1084084                      0.0                    0.0        -49.0  \n",
       "1084085                      0.0                    0.0        -49.0  \n",
       "1084086                      0.0                    0.0        -49.0  \n",
       "1084087                      0.0                    0.0        -49.0  \n",
       "1084088                      0.0                    0.0        -49.0  \n",
       "\n",
       "[5 rows x 57 columns]"
      ]
     },
     "execution_count": 19,
     "metadata": {},
     "output_type": "execute_result"
    }
   ],
   "source": [
    "dfTotal.tail()"
   ]
  },
  {
   "cell_type": "code",
   "execution_count": 20,
   "metadata": {},
   "outputs": [],
   "source": [
    "start_date1 = '2022-06-01'\n",
    "end_date1 = '2022-11-31'\n",
    "dfHalfYear1 = dfTotal[(dfTotal['dt'] >= start_date1) & (dfTotal['dt'] <= end_date1)]\n",
    "\n",
    "start_date2 = '2022-12-01'\n",
    "end_date2 =  '2023-07-31'\n",
    "dfHalfYear2 = dfTotal[(dfTotal['dt'] >= start_date2) & (dfTotal['dt'] <= end_date2)]\n"
   ]
  },
  {
   "cell_type": "code",
   "execution_count": 23,
   "metadata": {},
   "outputs": [
    {
     "name": "stdout",
     "output_type": "stream",
     "text": [
      "Shape of the First half of the year:  (440880, 57)\n",
      "Shape of the Second half of the year (643209, 57)\n"
     ]
    }
   ],
   "source": [
    "print(\"Shape of the First half of the year: \",dfHalfYear1.shape)\n",
    "print(\"Shape of the Second half of the year\",dfHalfYear2.shape)"
   ]
  },
  {
   "cell_type": "code",
   "execution_count": 26,
   "metadata": {},
   "outputs": [],
   "source": [
    "nm_anomalies = dfHalfYear1[dfHalfYear1['Anomalia #1'] == 0] "
   ]
  },
  {
   "cell_type": "code",
   "execution_count": 29,
   "metadata": {},
   "outputs": [
    {
     "data": {
      "text/plain": [
       "(440880, 57)"
      ]
     },
     "execution_count": 29,
     "metadata": {},
     "output_type": "execute_result"
    }
   ],
   "source": [
    "nm_anomalies.shape"
   ]
  },
  {
   "cell_type": "code",
   "execution_count": 30,
   "metadata": {},
   "outputs": [
    {
     "data": {
      "text/plain": [
       "array([0.])"
      ]
     },
     "execution_count": 30,
     "metadata": {},
     "output_type": "execute_result"
    }
   ],
   "source": [
    "dfTotal['Anomalia #1'].unique()"
   ]
  },
  {
   "cell_type": "markdown",
   "metadata": {},
   "source": []
  }
 ],
 "metadata": {
  "kernelspec": {
   "display_name": "base",
   "language": "python",
   "name": "python3"
  },
  "language_info": {
   "codemirror_mode": {
    "name": "ipython",
    "version": 3
   },
   "file_extension": ".py",
   "mimetype": "text/x-python",
   "name": "python",
   "nbconvert_exporter": "python",
   "pygments_lexer": "ipython3",
   "version": "3.8.5"
  },
  "orig_nbformat": 4
 },
 "nbformat": 4,
 "nbformat_minor": 2
}

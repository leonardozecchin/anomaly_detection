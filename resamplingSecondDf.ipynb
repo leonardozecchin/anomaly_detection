{
 "cells": [
  {
   "cell_type": "markdown",
   "metadata": {},
   "source": []
  },
  {
   "cell_type": "code",
   "execution_count": null,
   "metadata": {},
   "outputs": [],
   "source": [
    "import pandas as pd \n",
    "import numpy as np\n",
    "import matplotlib.pyplot as plt\n",
    "import os"
   ]
  },
  {
   "cell_type": "code",
   "execution_count": null,
   "metadata": {},
   "outputs": [],
   "source": [
    "df2 = pd.read_csv('last12months/12months/220330932.csv')\n",
    "df2['dt'] = pd.to_datetime(df2['TIMESTAMP'],unit='ms')\n"
   ]
  },
  {
   "cell_type": "code",
   "execution_count": null,
   "metadata": {},
   "outputs": [],
   "source": [
    "def gotAnomalies(df:pd.DataFrame):\n",
    "    unique = df['Anomalia #1'].unique()\n",
    "    b = False\n",
    "    for v in unique:\n",
    "        if v == 0 or v == np.nan:\n",
    "            b = False\n",
    "        else:\n",
    "            b = True\n",
    "            break\n",
    "    return b, unique\n"
   ]
  },
  {
   "cell_type": "code",
   "execution_count": null,
   "metadata": {},
   "outputs": [],
   "source": [
    "print(gotAnomalies(df2))"
   ]
  },
  {
   "cell_type": "code",
   "execution_count": null,
   "metadata": {},
   "outputs": [],
   "source": [
    "def cleanCSV(df):\n",
    "  cols_to_check = df.columns\n",
    "  arr_col = []\n",
    "  for col in df.columns:\n",
    "    if df[col].isna().all():\n",
    "        print(\"La colonna\", col, \"contiene solo valori NaN.\")\n",
    "        arr_col.append(col)\n",
    "  df_cleaned = df.drop(columns=arr_col)\n",
    "  df_cleaned = df_cleaned.replace('---', 0)\n",
    "  return df_cleaned"
   ]
  },
  {
   "cell_type": "code",
   "execution_count": null,
   "metadata": {},
   "outputs": [],
   "source": [
    "def sortDf(df):\n",
    "    if 'TIMESTAMP' in df.columns:\n",
    "        df = df.sort_values('TIMESTAMP',ascending=True)\n",
    "        df.index = range(len(df))\n",
    "    else:\n",
    "        print(\"La colonna TIMESTAMP non è presente nel dataframe.\")\n",
    "        return None\n",
    "    return df"
   ]
  },
  {
   "cell_type": "code",
   "execution_count": null,
   "metadata": {},
   "outputs": [],
   "source": [
    "def resampleDf(df,datetime):\n",
    "    if 'dt' in df.columns:\n",
    "        df.set_index('dt', inplace=True)\n",
    "    df_noNan = df.ffill()\n",
    "    df_resampled = df_noNan.resample(datetime).ffill()\n",
    "    df_resampled = df_resampled.replace('---', 0)\n",
    "    return df_resampled\n",
    "    "
   ]
  },
  {
   "cell_type": "code",
   "execution_count": null,
   "metadata": {},
   "outputs": [],
   "source": [
    "def checkFileInFolder(folder, file):\n",
    "    if file in os.listdir(folder):\n",
    "        return True\n",
    "    return False"
   ]
  },
  {
   "cell_type": "code",
   "execution_count": null,
   "metadata": {},
   "outputs": [],
   "source": [
    "def getResampledDf(df,file_path):\n",
    "    if not checkFileInFolder(folder ='last12months/12months',file=file_path):\n",
    "        df_sorted = sortDf(df)\n",
    "        df_sorted = cleanCSV(df_sorted)\n",
    "        df_resampled = resampleDf(df_sorted,'30s')\n",
    "        df_resampled.to_csv('last12months/12months/' + file_path)\n",
    "        return df_sorted, df_resampled\n",
    "    else:\n",
    "        df_resampled = pd.read_csv('last12months/12months/'+ file_path)\n",
    "        return None, df_resampled\n",
    "\n",
    "    "
   ]
  },
  {
   "cell_type": "code",
   "execution_count": null,
   "metadata": {},
   "outputs": [],
   "source": [
    "df2_sorted, df2_resampled = getResampledDf(df2,'220330932_resampled30s.csv')"
   ]
  },
  {
   "cell_type": "code",
   "execution_count": null,
   "metadata": {},
   "outputs": [],
   "source": [
    "df2_resampled['Anomalia #1'] = df2_resampled['Anomalia #1'].replace(np.nan,0)\n",
    "df2_resampled.head()"
   ]
  },
  {
   "cell_type": "code",
   "execution_count": null,
   "metadata": {},
   "outputs": [],
   "source": []
  },
  {
   "cell_type": "code",
   "execution_count": null,
   "metadata": {},
   "outputs": [],
   "source": []
  },
  {
   "cell_type": "code",
   "execution_count": null,
   "metadata": {},
   "outputs": [],
   "source": []
  },
  {
   "cell_type": "code",
   "execution_count": null,
   "metadata": {},
   "outputs": [],
   "source": [
    "def getUniques(df):\n",
    "    cols = df.columns\n",
    "    dict_unique = dict.fromkeys(cols,None)\n",
    "    for col in cols:\n",
    "        dict_unique[col] = df[col].unique()\n",
    "    return dict_unique"
   ]
  },
  {
   "cell_type": "code",
   "execution_count": null,
   "metadata": {},
   "outputs": [],
   "source": [
    "def getBooelan(dict):\n",
    "    arr = []\n",
    "    for key, value in dict.items():\n",
    "        if len(value) < 4:\n",
    "            b = True\n",
    "            for v in value:\n",
    "                # print(v,pd.isna(v))\n",
    "                if pd.isna(v)==False:\n",
    "                    if int(v) != 0 and int(v) != 1:\n",
    "                        # print('ciao')\n",
    "                        b = False\n",
    "                        break\n",
    "            # print(value,b)\n",
    "            if b:\n",
    "                arr.append(key)\n",
    "    return arr"
   ]
  },
  {
   "cell_type": "code",
   "execution_count": null,
   "metadata": {},
   "outputs": [],
   "source": [
    "def printUniques(dict,tp):\n",
    "    booleans = getBooelan(dict)\n",
    "    for key, value in dict.items():\n",
    "        counts = []\n",
    "        if key in booleans and tp ==1:\n",
    "            print(key, value)\n",
    "        elif tp==2 and len(value) > 4 :\n",
    "            print(key, value[0:5])"
   ]
  },
  {
   "cell_type": "code",
   "execution_count": null,
   "metadata": {},
   "outputs": [],
   "source": [
    "def countOccurences(df,dict):\n",
    "    booleans = getBooelan(dict)\n",
    "    counters = dict.fromkeys(booleans,None)\n",
    "    for key, value in dict.items():\n",
    "        if key in booleans:\n",
    "            value = value[1:]\n",
    "            counts = dict.fromkeys(value,None)\n",
    "            for v in value:\n",
    "                if not pd.isna(v):\n",
    "                    counts[v]= df[key].value_counts()[v]\n",
    "            counters[key] = counts\n",
    "            # print(key, counts, max(counts))\n",
    "    return counters\n",
    "            "
   ]
  },
  {
   "cell_type": "code",
   "execution_count": null,
   "metadata": {},
   "outputs": [],
   "source": [
    "def getMax(dict):\n",
    "    maxs = dict.fromkeys(dict.keys(),None)\n",
    "    for key, value in dict.items():\n",
    "        # print(key, value)\n",
    "        for k, v in value.items():\n",
    "            if v == max(value.values()):\n",
    "                maxs[key] = k\n",
    "    return maxs"
   ]
  },
  {
   "cell_type": "code",
   "execution_count": null,
   "metadata": {},
   "outputs": [],
   "source": [
    "def plotColumn(df,col):\n",
    "    if col not in df.columns:\n",
    "        print(\"La colonna\", col, \"non è presente nel dataframe.\")\n",
    "        return None\n",
    "    df_toPlot = df[col]\n",
    "    plt.plot(df_toPlot)\n",
    "    try: \n",
    "        plt.ylim(0, max(df_toPlot.unique())+1)\n",
    "    except:\n",
    "        pass\n",
    "\n",
    "    plt.show()\n"
   ]
  },
  {
   "cell_type": "code",
   "execution_count": null,
   "metadata": {},
   "outputs": [],
   "source": [
    "dict_unique2 = getUniques(df2_resampled)\n",
    "arr_booleani2 = getBooelan(dict_unique2)\n"
   ]
  },
  {
   "cell_type": "code",
   "execution_count": null,
   "metadata": {},
   "outputs": [],
   "source": [
    "def getLastValues(df):\n",
    "    d_sample = df.iloc[-1]\n",
    "    dictionary = dict.fromkeys(df.columns,None)\n",
    "\n",
    "    for col in df.columns:\n",
    "        if col in d_sample.index:\n",
    "            dictionary[col] = d_sample[col]\n",
    "\n",
    "    return dictionary"
   ]
  },
  {
   "cell_type": "code",
   "execution_count": null,
   "metadata": {},
   "outputs": [],
   "source": [
    "def reversedMax(dizionario):\n",
    "    for key, value in dizionario.items():\n",
    "        if value == 1:\n",
    "            dizionario[key] = 0\n",
    "        else:\n",
    "            dizionario[key] = 1\n",
    "    return dizionario"
   ]
  },
  {
   "cell_type": "code",
   "execution_count": null,
   "metadata": {},
   "outputs": [],
   "source": [
    "def getGeneralBooleans(df2):\n",
    "    b2 = getBooelan(getUniques(df2))\n",
    "    intersection = list(set(b2))\n",
    "    intersection.sort()\n",
    "    return intersection"
   ]
  },
  {
   "cell_type": "code",
   "execution_count": null,
   "metadata": {},
   "outputs": [],
   "source": [
    "def fillBooleans(df,booleans,dizionario):\n",
    "    for key in booleans:\n",
    "        if key != 'Modalità Estate/Inverno (solo scrittura)' and key in dizionario.keys():\n",
    "            print(f'{key}: {dizionario[key]}')        \n",
    "            df[key] = df[key].replace(np.nan,dizionario[key])\n",
    "    return df"
   ]
  },
  {
   "cell_type": "code",
   "execution_count": null,
   "metadata": {},
   "outputs": [],
   "source": [
    "def fillOthers(df,sample):\n",
    "    col_s = sample.index\n",
    "    booleani = getBooelan(getUniques(df))\n",
    "    for col in df.columns:\n",
    "        # print(col)\n",
    "        if col == 'Anomalia #1':\n",
    "            df[col] = df[col].replace(np.nan,sample[col])\n",
    "        if col not in booleani and col in col_s:\n",
    "            # print('in')\n",
    "            df[col] = df[col].replace(np.nan,sample[col])\n",
    "    return df"
   ]
  },
  {
   "cell_type": "code",
   "execution_count": null,
   "metadata": {},
   "outputs": [],
   "source": [
    "print(\"Anomalies' values: \",df2_resampled['Anomalia #1'].unique())\n",
    "num_anomaliesDf2 = df2['Anomalia #1'].value_counts()[76]\n",
    "print(\"Number of anomalies type 76 in df2:\", num_anomaliesDf2)"
   ]
  },
  {
   "cell_type": "code",
   "execution_count": null,
   "metadata": {},
   "outputs": [],
   "source": [
    "num_anomaliesDf2 = df2_resampled['Anomalia #1'].value_counts()[76]\n",
    "print(\"Number of anomalies type 76 in df2:\", num_anomaliesDf2)"
   ]
  },
  {
   "cell_type": "code",
   "execution_count": null,
   "metadata": {},
   "outputs": [],
   "source": [
    "column_to_first_valid_index = {}\n",
    "\n",
    "for column in df2_resampled.columns:\n",
    "  first_valid_index = df2_resampled[column].first_valid_index()\n",
    "  column_to_first_valid_index[column] = first_valid_index\n",
    "\n",
    "#iterate the dict and print the key and value\n",
    "for key, value in column_to_first_valid_index.items():\n",
    "  print(key, ' : ', value)"
   ]
  },
  {
   "cell_type": "code",
   "execution_count": null,
   "metadata": {},
   "outputs": [],
   "source": [
    "#DEPRECATE\n",
    "\n",
    "#iterate the dict and print the min value different from 0 \n",
    "def getMinValue(dictionary:dict ):\n",
    "    minus = max(dictionary.values())\n",
    "    for key,value in dictionary.items():\n",
    "        # print(key, ':' , value)\n",
    "        if key == 'TIMESTAMP' or key == 'dt':\n",
    "            continue\n",
    "        else:\n",
    "            if value < minus:\n",
    "                minus = value\n",
    "            \n",
    "                \n",
    "    return key, minus\n",
    "\n",
    "def getMaxValue(dictionary:dict ):\n",
    "    max = 0\n",
    "    for key,value in dictionary.items():\n",
    "        # print(key, ':' , value)\n",
    "        if value > max:\n",
    "            max = value\n",
    "            \n",
    "                \n",
    "    return key, max\n"
   ]
  },
  {
   "cell_type": "code",
   "execution_count": null,
   "metadata": {},
   "outputs": [],
   "source": [
    "def "
   ]
  },
  {
   "cell_type": "code",
   "execution_count": null,
   "metadata": {},
   "outputs": [],
   "source": [
    "dfProva = df2_resampled.copy()\n",
    "dfProva = dfProva.dropna()"
   ]
  },
  {
   "cell_type": "code",
   "execution_count": null,
   "metadata": {},
   "outputs": [],
   "source": [
    "dfProva.head()"
   ]
  },
  {
   "cell_type": "code",
   "execution_count": null,
   "metadata": {},
   "outputs": [],
   "source": [
    "dfProva.shape"
   ]
  },
  {
   "cell_type": "markdown",
   "metadata": {},
   "source": [
    "## Work with final DataFrame"
   ]
  },
  {
   "cell_type": "code",
   "execution_count": null,
   "metadata": {},
   "outputs": [],
   "source": [
    "df = pd.read_csv('last12months/12months/220330932_resampled30s_noNan.csv')"
   ]
  },
  {
   "cell_type": "code",
   "execution_count": null,
   "metadata": {},
   "outputs": [],
   "source": [
    "df.head()"
   ]
  },
  {
   "cell_type": "code",
   "execution_count": null,
   "metadata": {},
   "outputs": [],
   "source": [
    "dfAnomalies = df[df['Anomalia #1'] == 76]"
   ]
  },
  {
   "cell_type": "code",
   "execution_count": null,
   "metadata": {},
   "outputs": [],
   "source": [
    "dfAnomalies"
   ]
  },
  {
   "cell_type": "code",
   "execution_count": null,
   "metadata": {},
   "outputs": [],
   "source": [
    "datesAnomalies = dfAnomalies['dt']\n",
    "#Create a new column month that contains only the month of the date\n",
    "datesAnomalies = pd.to_datetime(datesAnomalies)\n",
    "datesAnomalies = datesAnomalies.dt.month\n"
   ]
  },
  {
   "cell_type": "code",
   "execution_count": null,
   "metadata": {},
   "outputs": [],
   "source": [
    "months = datesAnomalies.unique()"
   ]
  },
  {
   "cell_type": "code",
   "execution_count": null,
   "metadata": {},
   "outputs": [],
   "source": [
    "months"
   ]
  },
  {
   "cell_type": "code",
   "execution_count": null,
   "metadata": {},
   "outputs": [],
   "source": []
  },
  {
   "cell_type": "markdown",
   "metadata": {},
   "source": [
    "## Data Mining"
   ]
  },
  {
   "cell_type": "code",
   "execution_count": null,
   "metadata": {},
   "outputs": [],
   "source": [
    "df2 = pd.read_csv('last12months/12months/220330932.csv')\n",
    "\n"
   ]
  },
  {
   "cell_type": "code",
   "execution_count": null,
   "metadata": {},
   "outputs": [],
   "source": [
    "ts = df2['TIMESTAMP']\n",
    "delta_t = np.diff(ts)\n",
    "\n",
    "media = np.mean(delta_t)\n",
    "\n"
   ]
  },
  {
   "cell_type": "code",
   "execution_count": null,
   "metadata": {},
   "outputs": [],
   "source": [
    "media/1000"
   ]
  },
  {
   "cell_type": "code",
   "execution_count": null,
   "metadata": {},
   "outputs": [],
   "source": [
    "seconds=(media/1000)/3600/24\n",
    "seconds"
   ]
  },
  {
   "cell_type": "code",
   "execution_count": null,
   "metadata": {},
   "outputs": [],
   "source": [
    "df2['Anomalia #1'].unique()"
   ]
  },
  {
   "cell_type": "code",
   "execution_count": null,
   "metadata": {},
   "outputs": [],
   "source": [
    "final = pd.read_csv('last12months/12months/220330932_resampled30s_noNan.csv')"
   ]
  },
  {
   "cell_type": "code",
   "execution_count": null,
   "metadata": {},
   "outputs": [],
   "source": [
    "print(gotAnomalies(final))"
   ]
  },
  {
   "cell_type": "code",
   "execution_count": null,
   "metadata": {},
   "outputs": [],
   "source": [
    "dfWithAnomalies = final[final['Anomalia #1'] != 0]"
   ]
  },
  {
   "cell_type": "code",
   "execution_count": null,
   "metadata": {},
   "outputs": [],
   "source": [
    "dfWithAnomalies.head()"
   ]
  },
  {
   "cell_type": "code",
   "execution_count": null,
   "metadata": {},
   "outputs": [],
   "source": [
    "final.head()"
   ]
  },
  {
   "cell_type": "code",
   "execution_count": null,
   "metadata": {},
   "outputs": [],
   "source": [
    "final['Normal/Attack'] = final['Anomalia #1'].apply(lambda x: 'Attack' if x != 0 else 'Normal')"
   ]
  },
  {
   "cell_type": "code",
   "execution_count": null,
   "metadata": {},
   "outputs": [],
   "source": [
    "final['Normal/Attack'].unique()"
   ]
  },
  {
   "cell_type": "code",
   "execution_count": null,
   "metadata": {},
   "outputs": [],
   "source": [
    "dfA = final.iloc[0:55820]\n",
    "df = final.iloc[55820:]\n",
    "dfN = dfA.loc[dfA['Normal/Attack'] == 'Normal'].reset_index(drop=True)\n"
   ]
  },
  {
   "cell_type": "code",
   "execution_count": null,
   "metadata": {},
   "outputs": [],
   "source": [
    "df.to_csv('last12months/baxi/BAXI_220330932_Normal.csv')\n",
    "dfA.to_csv('last12months/baxi/BAXI_220330932_Attack.csv')"
   ]
  },
  {
   "cell_type": "code",
   "execution_count": null,
   "metadata": {},
   "outputs": [],
   "source": [
    "df['TIMESTAMP'] = df['TIMESTAMP'].str.strip()\n",
    "dfA['TIMESTAMP'] = dfA['TIMESTAMP'].str.strip()"
   ]
  },
  {
   "cell_type": "code",
   "execution_count": null,
   "metadata": {},
   "outputs": [],
   "source": [
    "swat = pd.read_csv()"
   ]
  },
  {
   "cell_type": "markdown",
   "metadata": {},
   "source": [
    "## Create datasets for the notebook"
   ]
  },
  {
   "cell_type": "code",
   "execution_count": 1,
   "metadata": {},
   "outputs": [],
   "source": [
    "import pandas as pd \n",
    "import numpy as np\n",
    "import matplotlib.pyplot as plt\n",
    "import os\n",
    "import sys"
   ]
  },
  {
   "cell_type": "code",
   "execution_count": 4,
   "metadata": {},
   "outputs": [],
   "source": [
    "df = pd.read_csv('last12months/12months/220330932_resampled60min_noNan.csv')\n",
    "dfWithAnomalies = df[df['Anomalia #1'] != 0]\n",
    "df['Normal/Attack'] = df['Anomalia #1'].apply(lambda x: 'Attack' if x != 0 else 'Normal')"
   ]
  },
  {
   "cell_type": "code",
   "execution_count": 5,
   "metadata": {},
   "outputs": [
    {
     "data": {
      "text/plain": [
       "array(['Normal', 'Attack'], dtype=object)"
      ]
     },
     "execution_count": 5,
     "metadata": {},
     "output_type": "execute_result"
    }
   ],
   "source": [
    "df['Normal/Attack'].unique()"
   ]
  },
  {
   "cell_type": "code",
   "execution_count": 6,
   "metadata": {},
   "outputs": [
    {
     "data": {
      "text/html": [
       "<div>\n",
       "<style scoped>\n",
       "    .dataframe tbody tr th:only-of-type {\n",
       "        vertical-align: middle;\n",
       "    }\n",
       "\n",
       "    .dataframe tbody tr th {\n",
       "        vertical-align: top;\n",
       "    }\n",
       "\n",
       "    .dataframe thead th {\n",
       "        text-align: right;\n",
       "    }\n",
       "</style>\n",
       "<table border=\"1\" class=\"dataframe\">\n",
       "  <thead>\n",
       "    <tr style=\"text-align: right;\">\n",
       "      <th></th>\n",
       "      <th>dt</th>\n",
       "      <th>TIMESTAMP</th>\n",
       "      <th>Abilitazione al conteggio energia</th>\n",
       "      <th>Anomalia #1</th>\n",
       "      <th>Caldaia</th>\n",
       "      <th>Caldaia giornaliero</th>\n",
       "      <th>Cloud Status</th>\n",
       "      <th>Connection Status</th>\n",
       "      <th>Energia parziale in riscaldamento caldaia</th>\n",
       "      <th>Energia parziale in sanitario caldaia</th>\n",
       "      <th>...</th>\n",
       "      <th>Stato attivazione BOOST sanitario</th>\n",
       "      <th>Taratura sensore</th>\n",
       "      <th>Temperatura di mandata</th>\n",
       "      <th>Temperatura esterna</th>\n",
       "      <th>Temperatura esterna mediata</th>\n",
       "      <th>Temperatura fumi</th>\n",
       "      <th>Temperatura sanitario</th>\n",
       "      <th>Temperatura scambiatore</th>\n",
       "      <th>Velocita' ventilatore</th>\n",
       "      <th>WiFi signal</th>\n",
       "    </tr>\n",
       "  </thead>\n",
       "  <tbody>\n",
       "    <tr>\n",
       "      <th>462</th>\n",
       "      <td>2023-02-02 03:00:00</td>\n",
       "      <td>1675306785648</td>\n",
       "      <td>1.0</td>\n",
       "      <td>76.0</td>\n",
       "      <td>70625003.0</td>\n",
       "      <td>10330337.0</td>\n",
       "      <td>2.0</td>\n",
       "      <td>1.0</td>\n",
       "      <td>238.0</td>\n",
       "      <td>34.0</td>\n",
       "      <td>...</td>\n",
       "      <td>0.0</td>\n",
       "      <td>-2.5</td>\n",
       "      <td>20.3</td>\n",
       "      <td>0.0</td>\n",
       "      <td>0.0</td>\n",
       "      <td>0.0</td>\n",
       "      <td>18.3</td>\n",
       "      <td>0.0</td>\n",
       "      <td>0.0</td>\n",
       "      <td>-50.0</td>\n",
       "    </tr>\n",
       "    <tr>\n",
       "      <th>463</th>\n",
       "      <td>2023-02-02 04:00:00</td>\n",
       "      <td>1675310393588</td>\n",
       "      <td>1.0</td>\n",
       "      <td>76.0</td>\n",
       "      <td>70625003.0</td>\n",
       "      <td>10330337.0</td>\n",
       "      <td>2.0</td>\n",
       "      <td>1.0</td>\n",
       "      <td>238.0</td>\n",
       "      <td>34.0</td>\n",
       "      <td>...</td>\n",
       "      <td>0.0</td>\n",
       "      <td>-2.5</td>\n",
       "      <td>19.1</td>\n",
       "      <td>0.0</td>\n",
       "      <td>0.0</td>\n",
       "      <td>0.0</td>\n",
       "      <td>17.3</td>\n",
       "      <td>0.0</td>\n",
       "      <td>0.0</td>\n",
       "      <td>-49.0</td>\n",
       "    </tr>\n",
       "    <tr>\n",
       "      <th>464</th>\n",
       "      <td>2023-02-02 05:00:00</td>\n",
       "      <td>1675313993686</td>\n",
       "      <td>1.0</td>\n",
       "      <td>76.0</td>\n",
       "      <td>70625003.0</td>\n",
       "      <td>10330337.0</td>\n",
       "      <td>2.0</td>\n",
       "      <td>1.0</td>\n",
       "      <td>238.0</td>\n",
       "      <td>34.0</td>\n",
       "      <td>...</td>\n",
       "      <td>0.0</td>\n",
       "      <td>-2.5</td>\n",
       "      <td>18.1</td>\n",
       "      <td>0.0</td>\n",
       "      <td>0.0</td>\n",
       "      <td>0.0</td>\n",
       "      <td>16.6</td>\n",
       "      <td>0.0</td>\n",
       "      <td>0.0</td>\n",
       "      <td>-50.0</td>\n",
       "    </tr>\n",
       "  </tbody>\n",
       "</table>\n",
       "<p>3 rows × 57 columns</p>\n",
       "</div>"
      ],
      "text/plain": [
       "                      dt      TIMESTAMP  Abilitazione al conteggio energia  \\\n",
       "462  2023-02-02 03:00:00  1675306785648                                1.0   \n",
       "463  2023-02-02 04:00:00  1675310393588                                1.0   \n",
       "464  2023-02-02 05:00:00  1675313993686                                1.0   \n",
       "\n",
       "     Anomalia #1     Caldaia  Caldaia giornaliero  Cloud Status  \\\n",
       "462         76.0  70625003.0           10330337.0           2.0   \n",
       "463         76.0  70625003.0           10330337.0           2.0   \n",
       "464         76.0  70625003.0           10330337.0           2.0   \n",
       "\n",
       "     Connection Status  Energia parziale in riscaldamento caldaia  \\\n",
       "462                1.0                                      238.0   \n",
       "463                1.0                                      238.0   \n",
       "464                1.0                                      238.0   \n",
       "\n",
       "     Energia parziale in sanitario caldaia  ...  \\\n",
       "462                                   34.0  ...   \n",
       "463                                   34.0  ...   \n",
       "464                                   34.0  ...   \n",
       "\n",
       "     Stato attivazione BOOST sanitario  Taratura sensore  \\\n",
       "462                                0.0              -2.5   \n",
       "463                                0.0              -2.5   \n",
       "464                                0.0              -2.5   \n",
       "\n",
       "     Temperatura di mandata  Temperatura esterna  Temperatura esterna mediata  \\\n",
       "462                    20.3                  0.0                          0.0   \n",
       "463                    19.1                  0.0                          0.0   \n",
       "464                    18.1                  0.0                          0.0   \n",
       "\n",
       "     Temperatura fumi  Temperatura sanitario  Temperatura scambiatore  \\\n",
       "462               0.0                   18.3                      0.0   \n",
       "463               0.0                   17.3                      0.0   \n",
       "464               0.0                   16.6                      0.0   \n",
       "\n",
       "     Velocita' ventilatore  WiFi signal  \n",
       "462                    0.0        -50.0  \n",
       "463                    0.0        -49.0  \n",
       "464                    0.0        -50.0  \n",
       "\n",
       "[3 rows x 57 columns]"
      ]
     },
     "execution_count": 6,
     "metadata": {},
     "output_type": "execute_result"
    }
   ],
   "source": [
    "dfWithAnomalies.head()"
   ]
  },
  {
   "cell_type": "code",
   "execution_count": 12,
   "metadata": {},
   "outputs": [],
   "source": [
    "dfA = df.iloc[0:2000]\n",
    "df = df.iloc[2000:]\n",
    "dfN = dfA.loc[dfA['Normal/Attack'] == 'Normal'].reset_index(drop=True)"
   ]
  },
  {
   "cell_type": "code",
   "execution_count": 14,
   "metadata": {},
   "outputs": [],
   "source": [
    "df.to_csv('data/baxi/BAXI_220330932_Normal.csv')\n",
    "dfA.to_csv('data/baxi/BAXI_220330932_Attack.csv')"
   ]
  },
  {
   "cell_type": "code",
   "execution_count": null,
   "metadata": {},
   "outputs": [],
   "source": []
  }
 ],
 "metadata": {
  "kernelspec": {
   "display_name": "base",
   "language": "python",
   "name": "python3"
  },
  "language_info": {
   "codemirror_mode": {
    "name": "ipython",
    "version": 3
   },
   "file_extension": ".py",
   "mimetype": "text/x-python",
   "name": "python",
   "nbconvert_exporter": "python",
   "pygments_lexer": "ipython3",
   "version": "3.9.13"
  },
  "orig_nbformat": 4
 },
 "nbformat": 4,
 "nbformat_minor": 2
}

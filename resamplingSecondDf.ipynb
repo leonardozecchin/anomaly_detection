{
 "cells": [
  {
   "cell_type": "markdown",
   "metadata": {},
   "source": []
  },
  {
   "cell_type": "code",
   "execution_count": 73,
   "metadata": {},
   "outputs": [],
   "source": [
    "import pandas as pd \n",
    "import numpy as np\n",
    "import matplotlib.pyplot as plt\n",
    "import os"
   ]
  },
  {
   "cell_type": "code",
   "execution_count": 54,
   "metadata": {},
   "outputs": [
    {
     "name": "stderr",
     "output_type": "stream",
     "text": [
      "/Users/leonardozecchin/anaconda3/lib/python3.8/site-packages/IPython/core/interactiveshell.py:3269: DtypeWarning: Columns (21,23,25,27,51) have mixed types.Specify dtype option on import or set low_memory=False.\n",
      "  has_raised = await self.run_ast_nodes(code_ast.body, cell_name,\n"
     ]
    }
   ],
   "source": [
    "df2 = pd.read_csv('last12months/12months/220330932.csv')\n",
    "df2['dt'] = pd.to_datetime(df2['TIMESTAMP'],unit='ms')\n"
   ]
  },
  {
   "cell_type": "code",
   "execution_count": null,
   "metadata": {},
   "outputs": [],
   "source": [
    "def gotAnomalies(df:pd.DataFrame):\n",
    "    unique = df['Anomalia #1'].unique()\n",
    "    b = False\n",
    "    for v in unique:\n",
    "        if v == 0 or v == np.nan:\n",
    "            b = False\n",
    "        else:\n",
    "            b = True\n",
    "            break\n",
    "    return b, unique\n"
   ]
  },
  {
   "cell_type": "code",
   "execution_count": null,
   "metadata": {},
   "outputs": [],
   "source": [
    "print(gotAnomalies(df2))"
   ]
  },
  {
   "cell_type": "code",
   "execution_count": null,
   "metadata": {},
   "outputs": [],
   "source": [
    "def cleanCSV(df):\n",
    "  cols_to_check = df.columns\n",
    "  arr_col = []\n",
    "  for col in df.columns:\n",
    "    if df[col].isna().all():\n",
    "        print(\"La colonna\", col, \"contiene solo valori NaN.\")\n",
    "        arr_col.append(col)\n",
    "  df_cleaned = df.drop(columns=arr_col)\n",
    "  df_cleaned = df_cleaned.replace('---', 0)\n",
    "  return df_cleaned"
   ]
  },
  {
   "cell_type": "code",
   "execution_count": null,
   "metadata": {},
   "outputs": [],
   "source": [
    "def sortDf(df):\n",
    "    if 'TIMESTAMP' in df.columns:\n",
    "        df = df.sort_values('TIMESTAMP',ascending=True)\n",
    "        df.index = range(len(df))\n",
    "    else:\n",
    "        print(\"La colonna TIMESTAMP non è presente nel dataframe.\")\n",
    "        return None\n",
    "    return df"
   ]
  },
  {
   "cell_type": "code",
   "execution_count": null,
   "metadata": {},
   "outputs": [],
   "source": [
    "def resampleDf(df,datetime):\n",
    "    if 'dt' in df.columns:\n",
    "        df.set_index('dt', inplace=True)\n",
    "    df_noNan = df.ffill()\n",
    "    df_resampled = df_noNan.resample(datetime).ffill()\n",
    "    df_resampled = df_resampled.replace('---', 0)\n",
    "    return df_resampled\n",
    "    "
   ]
  },
  {
   "cell_type": "code",
   "execution_count": null,
   "metadata": {},
   "outputs": [],
   "source": [
    "def checkFileInFolder(folder, file):\n",
    "    if file in os.listdir(folder):\n",
    "        return True\n",
    "    return False"
   ]
  },
  {
   "cell_type": "code",
   "execution_count": null,
   "metadata": {},
   "outputs": [],
   "source": [
    "def getResampledDf(df,file_path):\n",
    "    if not checkFileInFolder(folder ='last12months/12months',file=file_path):\n",
    "        df_sorted = sortDf(df)\n",
    "        df_sorted = cleanCSV(df_sorted)\n",
    "        df_resampled = resampleDf(df_sorted,'30s')\n",
    "        df_resampled.to_csv('last12months/12months/' + file_path)\n",
    "        return df_sorted, df_resampled\n",
    "    else:\n",
    "        df_resampled = pd.read_csv('last12months/12months/'+ file_path)\n",
    "        return None, df_resampled\n",
    "\n",
    "    "
   ]
  },
  {
   "cell_type": "code",
   "execution_count": null,
   "metadata": {},
   "outputs": [],
   "source": [
    "df2_sorted, df2_resampled = getResampledDf(df2,'220330932_resampled30s.csv')"
   ]
  },
  {
   "cell_type": "code",
   "execution_count": null,
   "metadata": {},
   "outputs": [],
   "source": [
    "df2_resampled['Anomalia #1'] = df2_resampled['Anomalia #1'].replace(np.nan,0)\n",
    "df2_resampled.head()"
   ]
  },
  {
   "cell_type": "code",
   "execution_count": null,
   "metadata": {},
   "outputs": [],
   "source": []
  },
  {
   "cell_type": "code",
   "execution_count": null,
   "metadata": {},
   "outputs": [],
   "source": []
  },
  {
   "cell_type": "code",
   "execution_count": null,
   "metadata": {},
   "outputs": [],
   "source": []
  },
  {
   "cell_type": "code",
   "execution_count": null,
   "metadata": {},
   "outputs": [],
   "source": [
    "def getUniques(df):\n",
    "    cols = df.columns\n",
    "    dict_unique = dict.fromkeys(cols,None)\n",
    "    for col in cols:\n",
    "        dict_unique[col] = df[col].unique()\n",
    "    return dict_unique"
   ]
  },
  {
   "cell_type": "code",
   "execution_count": null,
   "metadata": {},
   "outputs": [],
   "source": [
    "def getBooelan(dict):\n",
    "    arr = []\n",
    "    for key, value in dict.items():\n",
    "        if len(value) < 4:\n",
    "            b = True\n",
    "            for v in value:\n",
    "                # print(v,pd.isna(v))\n",
    "                if pd.isna(v)==False:\n",
    "                    if int(v) != 0 and int(v) != 1:\n",
    "                        # print('ciao')\n",
    "                        b = False\n",
    "                        break\n",
    "            # print(value,b)\n",
    "            if b:\n",
    "                arr.append(key)\n",
    "    return arr"
   ]
  },
  {
   "cell_type": "code",
   "execution_count": null,
   "metadata": {},
   "outputs": [],
   "source": [
    "def printUniques(dict,tp):\n",
    "    booleans = getBooelan(dict)\n",
    "    for key, value in dict.items():\n",
    "        counts = []\n",
    "        if key in booleans and tp ==1:\n",
    "            print(key, value)\n",
    "        elif tp==2 and len(value) > 4 :\n",
    "            print(key, value[0:5])"
   ]
  },
  {
   "cell_type": "code",
   "execution_count": null,
   "metadata": {},
   "outputs": [],
   "source": [
    "def countOccurences(df,dict):\n",
    "    booleans = getBooelan(dict)\n",
    "    counters = dict.fromkeys(booleans,None)\n",
    "    for key, value in dict.items():\n",
    "        if key in booleans:\n",
    "            value = value[1:]\n",
    "            counts = dict.fromkeys(value,None)\n",
    "            for v in value:\n",
    "                if not pd.isna(v):\n",
    "                    counts[v]= df[key].value_counts()[v]\n",
    "            counters[key] = counts\n",
    "            # print(key, counts, max(counts))\n",
    "    return counters\n",
    "            "
   ]
  },
  {
   "cell_type": "code",
   "execution_count": null,
   "metadata": {},
   "outputs": [],
   "source": [
    "def getMax(dict):\n",
    "    maxs = dict.fromkeys(dict.keys(),None)\n",
    "    for key, value in dict.items():\n",
    "        # print(key, value)\n",
    "        for k, v in value.items():\n",
    "            if v == max(value.values()):\n",
    "                maxs[key] = k\n",
    "    return maxs"
   ]
  },
  {
   "cell_type": "code",
   "execution_count": null,
   "metadata": {},
   "outputs": [],
   "source": [
    "def plotColumn(df,col):\n",
    "    if col not in df.columns:\n",
    "        print(\"La colonna\", col, \"non è presente nel dataframe.\")\n",
    "        return None\n",
    "    df_toPlot = df[col]\n",
    "    plt.plot(df_toPlot)\n",
    "    try: \n",
    "        plt.ylim(0, max(df_toPlot.unique())+1)\n",
    "    except:\n",
    "        pass\n",
    "\n",
    "    plt.show()\n"
   ]
  },
  {
   "cell_type": "code",
   "execution_count": null,
   "metadata": {},
   "outputs": [],
   "source": [
    "dict_unique2 = getUniques(df2_resampled)\n",
    "arr_booleani2 = getBooelan(dict_unique2)\n"
   ]
  },
  {
   "cell_type": "code",
   "execution_count": null,
   "metadata": {},
   "outputs": [],
   "source": [
    "def getLastValues(df):\n",
    "    d_sample = df.iloc[-1]\n",
    "    dictionary = dict.fromkeys(df.columns,None)\n",
    "\n",
    "    for col in df.columns:\n",
    "        if col in d_sample.index:\n",
    "            dictionary[col] = d_sample[col]\n",
    "\n",
    "    return dictionary"
   ]
  },
  {
   "cell_type": "code",
   "execution_count": null,
   "metadata": {},
   "outputs": [],
   "source": [
    "def reversedMax(dizionario):\n",
    "    for key, value in dizionario.items():\n",
    "        if value == 1:\n",
    "            dizionario[key] = 0\n",
    "        else:\n",
    "            dizionario[key] = 1\n",
    "    return dizionario"
   ]
  },
  {
   "cell_type": "code",
   "execution_count": null,
   "metadata": {},
   "outputs": [],
   "source": [
    "def getGeneralBooleans(df2):\n",
    "    b2 = getBooelan(getUniques(df2))\n",
    "    intersection = list(set(b2))\n",
    "    intersection.sort()\n",
    "    return intersection"
   ]
  },
  {
   "cell_type": "code",
   "execution_count": null,
   "metadata": {},
   "outputs": [],
   "source": [
    "def fillBooleans(df,booleans,dizionario):\n",
    "    for key in booleans:\n",
    "        if key != 'Modalità Estate/Inverno (solo scrittura)' and key in dizionario.keys():\n",
    "            print(f'{key}: {dizionario[key]}')        \n",
    "            df[key] = df[key].replace(np.nan,dizionario[key])\n",
    "    return df"
   ]
  },
  {
   "cell_type": "code",
   "execution_count": null,
   "metadata": {},
   "outputs": [],
   "source": [
    "def fillOthers(df,sample):\n",
    "    col_s = sample.index\n",
    "    booleani = getBooelan(getUniques(df))\n",
    "    for col in df.columns:\n",
    "        # print(col)\n",
    "        if col == 'Anomalia #1':\n",
    "            df[col] = df[col].replace(np.nan,sample[col])\n",
    "        if col not in booleani and col in col_s:\n",
    "            # print('in')\n",
    "            df[col] = df[col].replace(np.nan,sample[col])\n",
    "    return df"
   ]
  },
  {
   "cell_type": "code",
   "execution_count": null,
   "metadata": {},
   "outputs": [],
   "source": [
    "print(\"Anomalies' values: \",df2_resampled['Anomalia #1'].unique())\n",
    "num_anomaliesDf2 = df2['Anomalia #1'].value_counts()[76]\n",
    "print(\"Number of anomalies type 76 in df2:\", num_anomaliesDf2)"
   ]
  },
  {
   "cell_type": "code",
   "execution_count": null,
   "metadata": {},
   "outputs": [],
   "source": [
    "num_anomaliesDf2 = df2_resampled['Anomalia #1'].value_counts()[76]\n",
    "print(\"Number of anomalies type 76 in df2:\", num_anomaliesDf2)"
   ]
  },
  {
   "cell_type": "code",
   "execution_count": null,
   "metadata": {},
   "outputs": [],
   "source": [
    "column_to_first_valid_index = {}\n",
    "\n",
    "for column in df2_resampled.columns:\n",
    "  first_valid_index = df2_resampled[column].first_valid_index()\n",
    "  column_to_first_valid_index[column] = first_valid_index\n",
    "\n",
    "#iterate the dict and print the key and value\n",
    "for key, value in column_to_first_valid_index.items():\n",
    "  print(key, ' : ', value)"
   ]
  },
  {
   "cell_type": "code",
   "execution_count": null,
   "metadata": {},
   "outputs": [],
   "source": [
    "#DEPRECATE\n",
    "\n",
    "#iterate the dict and print the min value different from 0 \n",
    "def getMinValue(dictionary:dict ):\n",
    "    minus = max(dictionary.values())\n",
    "    for key,value in dictionary.items():\n",
    "        # print(key, ':' , value)\n",
    "        if key == 'TIMESTAMP' or key == 'dt':\n",
    "            continue\n",
    "        else:\n",
    "            if value < minus:\n",
    "                minus = value\n",
    "            \n",
    "                \n",
    "    return key, minus\n",
    "\n",
    "def getMaxValue(dictionary:dict ):\n",
    "    max = 0\n",
    "    for key,value in dictionary.items():\n",
    "        # print(key, ':' , value)\n",
    "        if value > max:\n",
    "            max = value\n",
    "            \n",
    "                \n",
    "    return key, max\n"
   ]
  },
  {
   "cell_type": "code",
   "execution_count": null,
   "metadata": {},
   "outputs": [],
   "source": [
    "def "
   ]
  },
  {
   "cell_type": "code",
   "execution_count": null,
   "metadata": {},
   "outputs": [],
   "source": [
    "dfProva = df2_resampled.copy()\n",
    "dfProva = dfProva.dropna()"
   ]
  },
  {
   "cell_type": "code",
   "execution_count": null,
   "metadata": {},
   "outputs": [],
   "source": [
    "dfProva.head()"
   ]
  },
  {
   "cell_type": "code",
   "execution_count": null,
   "metadata": {},
   "outputs": [],
   "source": [
    "dfProva.shape"
   ]
  },
  {
   "cell_type": "markdown",
   "metadata": {},
   "source": [
    "## Work with final DataFrame"
   ]
  },
  {
   "cell_type": "code",
   "execution_count": null,
   "metadata": {},
   "outputs": [],
   "source": [
    "df = pd.read_csv('last12months/12months/220330932_resampled30s_noNan.csv')"
   ]
  },
  {
   "cell_type": "code",
   "execution_count": null,
   "metadata": {},
   "outputs": [],
   "source": [
    "df.head()"
   ]
  },
  {
   "cell_type": "code",
   "execution_count": null,
   "metadata": {},
   "outputs": [],
   "source": [
    "dfAnomalies = df[df['Anomalia #1'] == 76]"
   ]
  },
  {
   "cell_type": "code",
   "execution_count": null,
   "metadata": {},
   "outputs": [],
   "source": [
    "dfAnomalies"
   ]
  },
  {
   "cell_type": "code",
   "execution_count": null,
   "metadata": {},
   "outputs": [],
   "source": [
    "datesAnomalies = dfAnomalies['dt']\n",
    "#Create a new column month that contains only the month of the date\n",
    "datesAnomalies = pd.to_datetime(datesAnomalies)\n",
    "datesAnomalies = datesAnomalies.dt.month\n"
   ]
  },
  {
   "cell_type": "code",
   "execution_count": null,
   "metadata": {},
   "outputs": [],
   "source": [
    "months = datesAnomalies.unique()"
   ]
  },
  {
   "cell_type": "code",
   "execution_count": null,
   "metadata": {},
   "outputs": [],
   "source": [
    "months"
   ]
  },
  {
   "cell_type": "code",
   "execution_count": null,
   "metadata": {},
   "outputs": [],
   "source": []
  },
  {
   "cell_type": "markdown",
   "metadata": {},
   "source": [
    "## Data Mining"
   ]
  },
  {
   "cell_type": "code",
   "execution_count": 74,
   "metadata": {},
   "outputs": [
    {
     "name": "stderr",
     "output_type": "stream",
     "text": [
      "/Users/leonardozecchin/anaconda3/lib/python3.8/site-packages/IPython/core/interactiveshell.py:3269: DtypeWarning: Columns (21,23,25,27,51) have mixed types.Specify dtype option on import or set low_memory=False.\n",
      "  has_raised = await self.run_ast_nodes(code_ast.body, cell_name,\n"
     ]
    }
   ],
   "source": [
    "df2 = pd.read_csv('last12months/12months/220330932.csv')\n"
   ]
  },
  {
   "cell_type": "code",
   "execution_count": 81,
   "metadata": {},
   "outputs": [],
   "source": [
    "ts = df2['TIMESTAMP']\n",
    "delta_t = np.diff(ts)\n",
    "\n",
    "media = np.mean(delta_t)\n",
    "\n"
   ]
  },
  {
   "cell_type": "code",
   "execution_count": 83,
   "metadata": {},
   "outputs": [
    {
     "data": {
      "text/plain": [
       "-13.340751131533546"
      ]
     },
     "execution_count": 83,
     "metadata": {},
     "output_type": "execute_result"
    }
   ],
   "source": [
    "media/1000"
   ]
  },
  {
   "cell_type": "code",
   "execution_count": 80,
   "metadata": {},
   "outputs": [
    {
     "data": {
      "text/plain": [
       "19352.557149862852"
      ]
     },
     "execution_count": 80,
     "metadata": {},
     "output_type": "execute_result"
    }
   ],
   "source": [
    "seconds=(media/1000)/3600/24\n",
    "seconds"
   ]
  },
  {
   "cell_type": "code",
   "execution_count": null,
   "metadata": {},
   "outputs": [],
   "source": [
    "df2['Anomalia #1'].unique()"
   ]
  },
  {
   "cell_type": "code",
   "execution_count": 58,
   "metadata": {},
   "outputs": [
    {
     "name": "stderr",
     "output_type": "stream",
     "text": [
      "/Users/leonardozecchin/anaconda3/lib/python3.8/site-packages/IPython/core/interactiveshell.py:3269: DtypeWarning: Columns (22,24,26,28) have mixed types.Specify dtype option on import or set low_memory=False.\n",
      "  has_raised = await self.run_ast_nodes(code_ast.body, cell_name,\n"
     ]
    }
   ],
   "source": [
    "final = pd.read_csv('last12months/12months/220330932_resampled30s_noNan.csv')"
   ]
  },
  {
   "cell_type": "code",
   "execution_count": 59,
   "metadata": {},
   "outputs": [
    {
     "name": "stdout",
     "output_type": "stream",
     "text": [
      "(True, array([ 0., 76.]))\n"
     ]
    }
   ],
   "source": [
    "print(gotAnomalies(final))"
   ]
  },
  {
   "cell_type": "code",
   "execution_count": 60,
   "metadata": {},
   "outputs": [],
   "source": [
    "dfWithAnomalies = final[final['Anomalia #1'] != 0]"
   ]
  },
  {
   "cell_type": "code",
   "execution_count": 61,
   "metadata": {},
   "outputs": [
    {
     "data": {
      "text/html": [
       "<div>\n",
       "<style scoped>\n",
       "    .dataframe tbody tr th:only-of-type {\n",
       "        vertical-align: middle;\n",
       "    }\n",
       "\n",
       "    .dataframe tbody tr th {\n",
       "        vertical-align: top;\n",
       "    }\n",
       "\n",
       "    .dataframe thead th {\n",
       "        text-align: right;\n",
       "    }\n",
       "</style>\n",
       "<table border=\"1\" class=\"dataframe\">\n",
       "  <thead>\n",
       "    <tr style=\"text-align: right;\">\n",
       "      <th></th>\n",
       "      <th>dt</th>\n",
       "      <th>TIMESTAMP</th>\n",
       "      <th>Abilitazione al conteggio energia</th>\n",
       "      <th>Anomalia #1</th>\n",
       "      <th>Caldaia</th>\n",
       "      <th>Caldaia giornaliero</th>\n",
       "      <th>Cloud Status</th>\n",
       "      <th>Connection Status</th>\n",
       "      <th>Energia parziale in riscaldamento caldaia</th>\n",
       "      <th>Energia parziale in sanitario caldaia</th>\n",
       "      <th>...</th>\n",
       "      <th>Stato attivazione BOOST sanitario</th>\n",
       "      <th>Taratura sensore</th>\n",
       "      <th>Temperatura di mandata</th>\n",
       "      <th>Temperatura esterna</th>\n",
       "      <th>Temperatura esterna mediata</th>\n",
       "      <th>Temperatura fumi</th>\n",
       "      <th>Temperatura sanitario</th>\n",
       "      <th>Temperatura scambiatore</th>\n",
       "      <th>Velocita' ventilatore</th>\n",
       "      <th>WiFi signal</th>\n",
       "    </tr>\n",
       "  </thead>\n",
       "  <tbody>\n",
       "    <tr>\n",
       "      <th>53620</th>\n",
       "      <td>2023-02-01 11:03:30</td>\n",
       "      <td>1675249407057</td>\n",
       "      <td>1.0</td>\n",
       "      <td>76.0</td>\n",
       "      <td>70625003.0</td>\n",
       "      <td>19062356.0</td>\n",
       "      <td>2.0</td>\n",
       "      <td>1.0</td>\n",
       "      <td>201.0</td>\n",
       "      <td>31.0</td>\n",
       "      <td>...</td>\n",
       "      <td>0.0</td>\n",
       "      <td>-2.5</td>\n",
       "      <td>27.5</td>\n",
       "      <td>0.0</td>\n",
       "      <td>0.0</td>\n",
       "      <td>0.0</td>\n",
       "      <td>23.6</td>\n",
       "      <td>0.0</td>\n",
       "      <td>0.0</td>\n",
       "      <td>-54.0</td>\n",
       "    </tr>\n",
       "    <tr>\n",
       "      <th>53621</th>\n",
       "      <td>2023-02-01 11:04:00</td>\n",
       "      <td>1675249433937</td>\n",
       "      <td>1.0</td>\n",
       "      <td>76.0</td>\n",
       "      <td>70625003.0</td>\n",
       "      <td>19062356.0</td>\n",
       "      <td>2.0</td>\n",
       "      <td>1.0</td>\n",
       "      <td>201.0</td>\n",
       "      <td>31.0</td>\n",
       "      <td>...</td>\n",
       "      <td>0.0</td>\n",
       "      <td>-2.5</td>\n",
       "      <td>27.5</td>\n",
       "      <td>0.0</td>\n",
       "      <td>0.0</td>\n",
       "      <td>0.0</td>\n",
       "      <td>23.6</td>\n",
       "      <td>0.0</td>\n",
       "      <td>0.0</td>\n",
       "      <td>-54.0</td>\n",
       "    </tr>\n",
       "    <tr>\n",
       "      <th>53622</th>\n",
       "      <td>2023-02-01 11:04:30</td>\n",
       "      <td>1675249462109</td>\n",
       "      <td>1.0</td>\n",
       "      <td>76.0</td>\n",
       "      <td>70625003.0</td>\n",
       "      <td>19062356.0</td>\n",
       "      <td>2.0</td>\n",
       "      <td>1.0</td>\n",
       "      <td>201.0</td>\n",
       "      <td>31.0</td>\n",
       "      <td>...</td>\n",
       "      <td>0.0</td>\n",
       "      <td>-2.5</td>\n",
       "      <td>11.1</td>\n",
       "      <td>0.0</td>\n",
       "      <td>0.0</td>\n",
       "      <td>0.0</td>\n",
       "      <td>17.7</td>\n",
       "      <td>0.0</td>\n",
       "      <td>0.0</td>\n",
       "      <td>-54.0</td>\n",
       "    </tr>\n",
       "    <tr>\n",
       "      <th>53623</th>\n",
       "      <td>2023-02-01 11:05:00</td>\n",
       "      <td>1675249491657</td>\n",
       "      <td>1.0</td>\n",
       "      <td>76.0</td>\n",
       "      <td>70625003.0</td>\n",
       "      <td>19062356.0</td>\n",
       "      <td>2.0</td>\n",
       "      <td>1.0</td>\n",
       "      <td>201.0</td>\n",
       "      <td>31.0</td>\n",
       "      <td>...</td>\n",
       "      <td>0.0</td>\n",
       "      <td>-2.5</td>\n",
       "      <td>11.1</td>\n",
       "      <td>0.0</td>\n",
       "      <td>0.0</td>\n",
       "      <td>0.0</td>\n",
       "      <td>17.7</td>\n",
       "      <td>0.0</td>\n",
       "      <td>0.0</td>\n",
       "      <td>-54.0</td>\n",
       "    </tr>\n",
       "    <tr>\n",
       "      <th>53624</th>\n",
       "      <td>2023-02-01 11:05:30</td>\n",
       "      <td>1675249517137</td>\n",
       "      <td>1.0</td>\n",
       "      <td>76.0</td>\n",
       "      <td>70625003.0</td>\n",
       "      <td>19062356.0</td>\n",
       "      <td>2.0</td>\n",
       "      <td>1.0</td>\n",
       "      <td>201.0</td>\n",
       "      <td>31.0</td>\n",
       "      <td>...</td>\n",
       "      <td>0.0</td>\n",
       "      <td>-2.5</td>\n",
       "      <td>10.9</td>\n",
       "      <td>0.0</td>\n",
       "      <td>0.0</td>\n",
       "      <td>0.0</td>\n",
       "      <td>15.7</td>\n",
       "      <td>0.0</td>\n",
       "      <td>0.0</td>\n",
       "      <td>-54.0</td>\n",
       "    </tr>\n",
       "  </tbody>\n",
       "</table>\n",
       "<p>5 rows × 57 columns</p>\n",
       "</div>"
      ],
      "text/plain": [
       "                        dt      TIMESTAMP  Abilitazione al conteggio energia  \\\n",
       "53620  2023-02-01 11:03:30  1675249407057                                1.0   \n",
       "53621  2023-02-01 11:04:00  1675249433937                                1.0   \n",
       "53622  2023-02-01 11:04:30  1675249462109                                1.0   \n",
       "53623  2023-02-01 11:05:00  1675249491657                                1.0   \n",
       "53624  2023-02-01 11:05:30  1675249517137                                1.0   \n",
       "\n",
       "       Anomalia #1     Caldaia  Caldaia giornaliero  Cloud Status  \\\n",
       "53620         76.0  70625003.0           19062356.0           2.0   \n",
       "53621         76.0  70625003.0           19062356.0           2.0   \n",
       "53622         76.0  70625003.0           19062356.0           2.0   \n",
       "53623         76.0  70625003.0           19062356.0           2.0   \n",
       "53624         76.0  70625003.0           19062356.0           2.0   \n",
       "\n",
       "       Connection Status  Energia parziale in riscaldamento caldaia  \\\n",
       "53620                1.0                                      201.0   \n",
       "53621                1.0                                      201.0   \n",
       "53622                1.0                                      201.0   \n",
       "53623                1.0                                      201.0   \n",
       "53624                1.0                                      201.0   \n",
       "\n",
       "       Energia parziale in sanitario caldaia  ...  \\\n",
       "53620                                   31.0  ...   \n",
       "53621                                   31.0  ...   \n",
       "53622                                   31.0  ...   \n",
       "53623                                   31.0  ...   \n",
       "53624                                   31.0  ...   \n",
       "\n",
       "       Stato attivazione BOOST sanitario  Taratura sensore  \\\n",
       "53620                                0.0              -2.5   \n",
       "53621                                0.0              -2.5   \n",
       "53622                                0.0              -2.5   \n",
       "53623                                0.0              -2.5   \n",
       "53624                                0.0              -2.5   \n",
       "\n",
       "       Temperatura di mandata  Temperatura esterna  \\\n",
       "53620                    27.5                  0.0   \n",
       "53621                    27.5                  0.0   \n",
       "53622                    11.1                  0.0   \n",
       "53623                    11.1                  0.0   \n",
       "53624                    10.9                  0.0   \n",
       "\n",
       "       Temperatura esterna mediata  Temperatura fumi  Temperatura sanitario  \\\n",
       "53620                          0.0               0.0                   23.6   \n",
       "53621                          0.0               0.0                   23.6   \n",
       "53622                          0.0               0.0                   17.7   \n",
       "53623                          0.0               0.0                   17.7   \n",
       "53624                          0.0               0.0                   15.7   \n",
       "\n",
       "       Temperatura scambiatore  Velocita' ventilatore  WiFi signal  \n",
       "53620                      0.0                    0.0        -54.0  \n",
       "53621                      0.0                    0.0        -54.0  \n",
       "53622                      0.0                    0.0        -54.0  \n",
       "53623                      0.0                    0.0        -54.0  \n",
       "53624                      0.0                    0.0        -54.0  \n",
       "\n",
       "[5 rows x 57 columns]"
      ]
     },
     "execution_count": 61,
     "metadata": {},
     "output_type": "execute_result"
    }
   ],
   "source": [
    "dfWithAnomalies.head()"
   ]
  },
  {
   "cell_type": "code",
   "execution_count": 62,
   "metadata": {},
   "outputs": [
    {
     "data": {
      "text/html": [
       "<div>\n",
       "<style scoped>\n",
       "    .dataframe tbody tr th:only-of-type {\n",
       "        vertical-align: middle;\n",
       "    }\n",
       "\n",
       "    .dataframe tbody tr th {\n",
       "        vertical-align: top;\n",
       "    }\n",
       "\n",
       "    .dataframe thead th {\n",
       "        text-align: right;\n",
       "    }\n",
       "</style>\n",
       "<table border=\"1\" class=\"dataframe\">\n",
       "  <thead>\n",
       "    <tr style=\"text-align: right;\">\n",
       "      <th></th>\n",
       "      <th>dt</th>\n",
       "      <th>TIMESTAMP</th>\n",
       "      <th>Abilitazione al conteggio energia</th>\n",
       "      <th>Anomalia #1</th>\n",
       "      <th>Caldaia</th>\n",
       "      <th>Caldaia giornaliero</th>\n",
       "      <th>Cloud Status</th>\n",
       "      <th>Connection Status</th>\n",
       "      <th>Energia parziale in riscaldamento caldaia</th>\n",
       "      <th>Energia parziale in sanitario caldaia</th>\n",
       "      <th>...</th>\n",
       "      <th>Stato attivazione BOOST sanitario</th>\n",
       "      <th>Taratura sensore</th>\n",
       "      <th>Temperatura di mandata</th>\n",
       "      <th>Temperatura esterna</th>\n",
       "      <th>Temperatura esterna mediata</th>\n",
       "      <th>Temperatura fumi</th>\n",
       "      <th>Temperatura sanitario</th>\n",
       "      <th>Temperatura scambiatore</th>\n",
       "      <th>Velocita' ventilatore</th>\n",
       "      <th>WiFi signal</th>\n",
       "    </tr>\n",
       "  </thead>\n",
       "  <tbody>\n",
       "    <tr>\n",
       "      <th>0</th>\n",
       "      <td>2023-01-13 20:13:30</td>\n",
       "      <td>1673640808944</td>\n",
       "      <td>1.0</td>\n",
       "      <td>0.0</td>\n",
       "      <td>80211368.0</td>\n",
       "      <td>12890431.0</td>\n",
       "      <td>2.0</td>\n",
       "      <td>1.0</td>\n",
       "      <td>252.0</td>\n",
       "      <td>236.0</td>\n",
       "      <td>...</td>\n",
       "      <td>0.0</td>\n",
       "      <td>-2.5</td>\n",
       "      <td>14.7</td>\n",
       "      <td>0.0</td>\n",
       "      <td>0.0</td>\n",
       "      <td>0.0</td>\n",
       "      <td>14.9</td>\n",
       "      <td>0.0</td>\n",
       "      <td>0.0</td>\n",
       "      <td>-72.0</td>\n",
       "    </tr>\n",
       "    <tr>\n",
       "      <th>1</th>\n",
       "      <td>2023-01-13 20:14:00</td>\n",
       "      <td>1673640834571</td>\n",
       "      <td>1.0</td>\n",
       "      <td>0.0</td>\n",
       "      <td>80211368.0</td>\n",
       "      <td>12890431.0</td>\n",
       "      <td>2.0</td>\n",
       "      <td>1.0</td>\n",
       "      <td>252.0</td>\n",
       "      <td>236.0</td>\n",
       "      <td>...</td>\n",
       "      <td>0.0</td>\n",
       "      <td>-2.5</td>\n",
       "      <td>14.6</td>\n",
       "      <td>0.0</td>\n",
       "      <td>0.0</td>\n",
       "      <td>0.0</td>\n",
       "      <td>14.9</td>\n",
       "      <td>0.0</td>\n",
       "      <td>0.0</td>\n",
       "      <td>-72.0</td>\n",
       "    </tr>\n",
       "    <tr>\n",
       "      <th>2</th>\n",
       "      <td>2023-01-13 20:14:30</td>\n",
       "      <td>1673640855914</td>\n",
       "      <td>1.0</td>\n",
       "      <td>0.0</td>\n",
       "      <td>80211368.0</td>\n",
       "      <td>12890431.0</td>\n",
       "      <td>2.0</td>\n",
       "      <td>1.0</td>\n",
       "      <td>252.0</td>\n",
       "      <td>236.0</td>\n",
       "      <td>...</td>\n",
       "      <td>0.0</td>\n",
       "      <td>-2.5</td>\n",
       "      <td>14.6</td>\n",
       "      <td>0.0</td>\n",
       "      <td>0.0</td>\n",
       "      <td>0.0</td>\n",
       "      <td>14.9</td>\n",
       "      <td>0.0</td>\n",
       "      <td>3529.0</td>\n",
       "      <td>-72.0</td>\n",
       "    </tr>\n",
       "    <tr>\n",
       "      <th>3</th>\n",
       "      <td>2023-01-13 20:15:00</td>\n",
       "      <td>1673640886341</td>\n",
       "      <td>1.0</td>\n",
       "      <td>0.0</td>\n",
       "      <td>80211368.0</td>\n",
       "      <td>12890431.0</td>\n",
       "      <td>2.0</td>\n",
       "      <td>1.0</td>\n",
       "      <td>252.0</td>\n",
       "      <td>236.0</td>\n",
       "      <td>...</td>\n",
       "      <td>0.0</td>\n",
       "      <td>-2.5</td>\n",
       "      <td>23.5</td>\n",
       "      <td>0.0</td>\n",
       "      <td>0.0</td>\n",
       "      <td>0.0</td>\n",
       "      <td>14.8</td>\n",
       "      <td>0.0</td>\n",
       "      <td>3365.0</td>\n",
       "      <td>-43.0</td>\n",
       "    </tr>\n",
       "    <tr>\n",
       "      <th>4</th>\n",
       "      <td>2023-01-13 20:15:30</td>\n",
       "      <td>1673640926632</td>\n",
       "      <td>1.0</td>\n",
       "      <td>0.0</td>\n",
       "      <td>80211368.0</td>\n",
       "      <td>12890431.0</td>\n",
       "      <td>2.0</td>\n",
       "      <td>1.0</td>\n",
       "      <td>252.0</td>\n",
       "      <td>236.0</td>\n",
       "      <td>...</td>\n",
       "      <td>0.0</td>\n",
       "      <td>-2.5</td>\n",
       "      <td>30.8</td>\n",
       "      <td>0.0</td>\n",
       "      <td>0.0</td>\n",
       "      <td>0.0</td>\n",
       "      <td>19.5</td>\n",
       "      <td>0.0</td>\n",
       "      <td>4867.0</td>\n",
       "      <td>-72.0</td>\n",
       "    </tr>\n",
       "  </tbody>\n",
       "</table>\n",
       "<p>5 rows × 57 columns</p>\n",
       "</div>"
      ],
      "text/plain": [
       "                    dt      TIMESTAMP  Abilitazione al conteggio energia  \\\n",
       "0  2023-01-13 20:13:30  1673640808944                                1.0   \n",
       "1  2023-01-13 20:14:00  1673640834571                                1.0   \n",
       "2  2023-01-13 20:14:30  1673640855914                                1.0   \n",
       "3  2023-01-13 20:15:00  1673640886341                                1.0   \n",
       "4  2023-01-13 20:15:30  1673640926632                                1.0   \n",
       "\n",
       "   Anomalia #1     Caldaia  Caldaia giornaliero  Cloud Status  \\\n",
       "0          0.0  80211368.0           12890431.0           2.0   \n",
       "1          0.0  80211368.0           12890431.0           2.0   \n",
       "2          0.0  80211368.0           12890431.0           2.0   \n",
       "3          0.0  80211368.0           12890431.0           2.0   \n",
       "4          0.0  80211368.0           12890431.0           2.0   \n",
       "\n",
       "   Connection Status  Energia parziale in riscaldamento caldaia  \\\n",
       "0                1.0                                      252.0   \n",
       "1                1.0                                      252.0   \n",
       "2                1.0                                      252.0   \n",
       "3                1.0                                      252.0   \n",
       "4                1.0                                      252.0   \n",
       "\n",
       "   Energia parziale in sanitario caldaia  ...  \\\n",
       "0                                  236.0  ...   \n",
       "1                                  236.0  ...   \n",
       "2                                  236.0  ...   \n",
       "3                                  236.0  ...   \n",
       "4                                  236.0  ...   \n",
       "\n",
       "   Stato attivazione BOOST sanitario  Taratura sensore  \\\n",
       "0                                0.0              -2.5   \n",
       "1                                0.0              -2.5   \n",
       "2                                0.0              -2.5   \n",
       "3                                0.0              -2.5   \n",
       "4                                0.0              -2.5   \n",
       "\n",
       "   Temperatura di mandata  Temperatura esterna  Temperatura esterna mediata  \\\n",
       "0                    14.7                  0.0                          0.0   \n",
       "1                    14.6                  0.0                          0.0   \n",
       "2                    14.6                  0.0                          0.0   \n",
       "3                    23.5                  0.0                          0.0   \n",
       "4                    30.8                  0.0                          0.0   \n",
       "\n",
       "   Temperatura fumi  Temperatura sanitario  Temperatura scambiatore  \\\n",
       "0               0.0                   14.9                      0.0   \n",
       "1               0.0                   14.9                      0.0   \n",
       "2               0.0                   14.9                      0.0   \n",
       "3               0.0                   14.8                      0.0   \n",
       "4               0.0                   19.5                      0.0   \n",
       "\n",
       "   Velocita' ventilatore  WiFi signal  \n",
       "0                    0.0        -72.0  \n",
       "1                    0.0        -72.0  \n",
       "2                 3529.0        -72.0  \n",
       "3                 3365.0        -43.0  \n",
       "4                 4867.0        -72.0  \n",
       "\n",
       "[5 rows x 57 columns]"
      ]
     },
     "execution_count": 62,
     "metadata": {},
     "output_type": "execute_result"
    }
   ],
   "source": [
    "final.head()"
   ]
  },
  {
   "cell_type": "code",
   "execution_count": 63,
   "metadata": {},
   "outputs": [],
   "source": [
    "final['Normal/Attack'] = final['Anomalia #1'].apply(lambda x: 'Attack' if x != 0 else 'Normal')"
   ]
  },
  {
   "cell_type": "code",
   "execution_count": 64,
   "metadata": {},
   "outputs": [
    {
     "data": {
      "text/plain": [
       "array(['Normal', 'Attack'], dtype=object)"
      ]
     },
     "execution_count": 64,
     "metadata": {},
     "output_type": "execute_result"
    }
   ],
   "source": [
    "final['Normal/Attack'].unique()"
   ]
  },
  {
   "cell_type": "code",
   "execution_count": 65,
   "metadata": {},
   "outputs": [],
   "source": [
    "dfA = final.iloc[0:55820]\n",
    "df = final.iloc[55820:]\n",
    "dfN = dfA.loc[dfA['Normal/Attack'] == 'Normal'].reset_index(drop=True)\n"
   ]
  },
  {
   "cell_type": "code",
   "execution_count": 70,
   "metadata": {},
   "outputs": [],
   "source": [
    "df.to_csv('last12months/baxi/BAXI_220330932_Normal.csv')\n",
    "dfA.to_csv('last12months/baxi/BAXI_220330932_Attack.csv')"
   ]
  },
  {
   "cell_type": "code",
   "execution_count": 72,
   "metadata": {},
   "outputs": [
    {
     "ename": "AttributeError",
     "evalue": "Can only use .str accessor with string values!",
     "output_type": "error",
     "traceback": [
      "\u001b[0;31m---------------------------------------------------------------------------\u001b[0m",
      "\u001b[0;31mAttributeError\u001b[0m                            Traceback (most recent call last)",
      "Cell \u001b[0;32mIn[72], line 1\u001b[0m\n\u001b[0;32m----> 1\u001b[0m df[\u001b[39m'\u001b[39m\u001b[39mTIMESTAMP\u001b[39m\u001b[39m'\u001b[39m] \u001b[39m=\u001b[39m df[\u001b[39m'\u001b[39;49m\u001b[39mTIMESTAMP\u001b[39;49m\u001b[39m'\u001b[39;49m]\u001b[39m.\u001b[39;49mstr\u001b[39m.\u001b[39mstrip()\n\u001b[1;32m      2\u001b[0m dfA[\u001b[39m'\u001b[39m\u001b[39mTIMESTAMP\u001b[39m\u001b[39m'\u001b[39m] \u001b[39m=\u001b[39m dfA[\u001b[39m'\u001b[39m\u001b[39mTIMESTAMP\u001b[39m\u001b[39m'\u001b[39m]\u001b[39m.\u001b[39mstr\u001b[39m.\u001b[39mstrip()\n",
      "File \u001b[0;32m~/anaconda3/lib/python3.8/site-packages/pandas/core/generic.py:5135\u001b[0m, in \u001b[0;36mNDFrame.__getattr__\u001b[0;34m(self, name)\u001b[0m\n\u001b[1;32m   5128\u001b[0m \u001b[39m# Note: obj.x will always call obj.__getattribute__('x') prior to\u001b[39;00m\n\u001b[1;32m   5129\u001b[0m \u001b[39m# calling obj.__getattr__('x').\u001b[39;00m\n\u001b[1;32m   5130\u001b[0m \u001b[39mif\u001b[39;00m (\n\u001b[1;32m   5131\u001b[0m     name \u001b[39min\u001b[39;00m \u001b[39mself\u001b[39m\u001b[39m.\u001b[39m_internal_names_set\n\u001b[1;32m   5132\u001b[0m     \u001b[39mor\u001b[39;00m name \u001b[39min\u001b[39;00m \u001b[39mself\u001b[39m\u001b[39m.\u001b[39m_metadata\n\u001b[1;32m   5133\u001b[0m     \u001b[39mor\u001b[39;00m name \u001b[39min\u001b[39;00m \u001b[39mself\u001b[39m\u001b[39m.\u001b[39m_accessors\n\u001b[1;32m   5134\u001b[0m ):\n\u001b[0;32m-> 5135\u001b[0m     \u001b[39mreturn\u001b[39;00m \u001b[39mobject\u001b[39;49m\u001b[39m.\u001b[39;49m\u001b[39m__getattribute__\u001b[39;49m(\u001b[39mself\u001b[39;49m, name)\n\u001b[1;32m   5136\u001b[0m \u001b[39melse\u001b[39;00m:\n\u001b[1;32m   5137\u001b[0m     \u001b[39mif\u001b[39;00m \u001b[39mself\u001b[39m\u001b[39m.\u001b[39m_info_axis\u001b[39m.\u001b[39m_can_hold_identifiers_and_holds_name(name):\n",
      "File \u001b[0;32m~/anaconda3/lib/python3.8/site-packages/pandas/core/accessor.py:187\u001b[0m, in \u001b[0;36mCachedAccessor.__get__\u001b[0;34m(self, obj, cls)\u001b[0m\n\u001b[1;32m    184\u001b[0m \u001b[39mif\u001b[39;00m obj \u001b[39mis\u001b[39;00m \u001b[39mNone\u001b[39;00m:\n\u001b[1;32m    185\u001b[0m     \u001b[39m# we're accessing the attribute of the class, i.e., Dataset.geo\u001b[39;00m\n\u001b[1;32m    186\u001b[0m     \u001b[39mreturn\u001b[39;00m \u001b[39mself\u001b[39m\u001b[39m.\u001b[39m_accessor\n\u001b[0;32m--> 187\u001b[0m accessor_obj \u001b[39m=\u001b[39m \u001b[39mself\u001b[39;49m\u001b[39m.\u001b[39;49m_accessor(obj)\n\u001b[1;32m    188\u001b[0m \u001b[39m# Replace the property with the accessor object. Inspired by:\u001b[39;00m\n\u001b[1;32m    189\u001b[0m \u001b[39m# https://www.pydanny.com/cached-property.html\u001b[39;00m\n\u001b[1;32m    190\u001b[0m \u001b[39m# We need to use object.__setattr__ because we overwrite __setattr__ on\u001b[39;00m\n\u001b[1;32m    191\u001b[0m \u001b[39m# NDFrame\u001b[39;00m\n\u001b[1;32m    192\u001b[0m \u001b[39mobject\u001b[39m\u001b[39m.\u001b[39m\u001b[39m__setattr__\u001b[39m(obj, \u001b[39mself\u001b[39m\u001b[39m.\u001b[39m_name, accessor_obj)\n",
      "File \u001b[0;32m~/anaconda3/lib/python3.8/site-packages/pandas/core/strings.py:2100\u001b[0m, in \u001b[0;36mStringMethods.__init__\u001b[0;34m(self, data)\u001b[0m\n\u001b[1;32m   2099\u001b[0m \u001b[39mdef\u001b[39;00m \u001b[39m__init__\u001b[39m(\u001b[39mself\u001b[39m, data):\n\u001b[0;32m-> 2100\u001b[0m     \u001b[39mself\u001b[39m\u001b[39m.\u001b[39m_inferred_dtype \u001b[39m=\u001b[39m \u001b[39mself\u001b[39;49m\u001b[39m.\u001b[39;49m_validate(data)\n\u001b[1;32m   2101\u001b[0m     \u001b[39mself\u001b[39m\u001b[39m.\u001b[39m_is_categorical \u001b[39m=\u001b[39m is_categorical_dtype(data\u001b[39m.\u001b[39mdtype)\n\u001b[1;32m   2102\u001b[0m     \u001b[39mself\u001b[39m\u001b[39m.\u001b[39m_is_string \u001b[39m=\u001b[39m data\u001b[39m.\u001b[39mdtype\u001b[39m.\u001b[39mname \u001b[39m==\u001b[39m \u001b[39m\"\u001b[39m\u001b[39mstring\u001b[39m\u001b[39m\"\u001b[39m\n",
      "File \u001b[0;32m~/anaconda3/lib/python3.8/site-packages/pandas/core/strings.py:2157\u001b[0m, in \u001b[0;36mStringMethods._validate\u001b[0;34m(data)\u001b[0m\n\u001b[1;32m   2154\u001b[0m     inferred_dtype \u001b[39m=\u001b[39m \u001b[39mNone\u001b[39;00m\n\u001b[1;32m   2156\u001b[0m \u001b[39mif\u001b[39;00m inferred_dtype \u001b[39mnot\u001b[39;00m \u001b[39min\u001b[39;00m allowed_types:\n\u001b[0;32m-> 2157\u001b[0m     \u001b[39mraise\u001b[39;00m \u001b[39mAttributeError\u001b[39;00m(\u001b[39m\"\u001b[39m\u001b[39mCan only use .str accessor with string values!\u001b[39m\u001b[39m\"\u001b[39m)\n\u001b[1;32m   2158\u001b[0m \u001b[39mreturn\u001b[39;00m inferred_dtype\n",
      "\u001b[0;31mAttributeError\u001b[0m: Can only use .str accessor with string values!"
     ]
    }
   ],
   "source": [
    "df['TIMESTAMP'] = df['TIMESTAMP'].str.strip()\n",
    "dfA['TIMESTAMP'] = dfA['TIMESTAMP'].str.strip()"
   ]
  },
  {
   "cell_type": "code",
   "execution_count": null,
   "metadata": {},
   "outputs": [],
   "source": [
    "swat = pd.read_csv()"
   ]
  }
 ],
 "metadata": {
  "kernelspec": {
   "display_name": "base",
   "language": "python",
   "name": "python3"
  },
  "language_info": {
   "codemirror_mode": {
    "name": "ipython",
    "version": 3
   },
   "file_extension": ".py",
   "mimetype": "text/x-python",
   "name": "python",
   "nbconvert_exporter": "python",
   "pygments_lexer": "ipython3",
   "version": "3.8.5"
  },
  "orig_nbformat": 4
 },
 "nbformat": 4,
 "nbformat_minor": 2
}

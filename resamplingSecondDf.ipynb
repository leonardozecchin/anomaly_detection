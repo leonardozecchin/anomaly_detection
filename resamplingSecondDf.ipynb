{
 "cells": [
  {
   "cell_type": "markdown",
   "metadata": {},
   "source": []
  },
  {
   "cell_type": "code",
   "execution_count": 1,
   "metadata": {},
   "outputs": [],
   "source": [
    "import pandas as pd \n",
    "import numpy as np\n",
    "import matplotlib.pyplot as plt\n",
    "import os"
   ]
  },
  {
   "cell_type": "code",
   "execution_count": 2,
   "metadata": {},
   "outputs": [
    {
     "name": "stderr",
     "output_type": "stream",
     "text": [
      "/home/leonardo/.local/lib/python3.9/site-packages/IPython/core/interactiveshell.py:3444: DtypeWarning: Columns (21,23,25,27,51) have mixed types.Specify dtype option on import or set low_memory=False.\n",
      "  exec(code_obj, self.user_global_ns, self.user_ns)\n"
     ]
    }
   ],
   "source": [
    "df2 = pd.read_csv('last12months/12months/220330932.csv')\n",
    "df2['dt'] = pd.to_datetime(df2['TIMESTAMP'],unit='ms')\n"
   ]
  },
  {
   "cell_type": "code",
   "execution_count": 3,
   "metadata": {},
   "outputs": [],
   "source": [
    "def gotAnomalies(df:pd.DataFrame):\n",
    "    unique = df['Anomalia #1'].unique()\n",
    "    b = False\n",
    "    for v in unique:\n",
    "        if v == 0 or v == np.nan:\n",
    "            b = False\n",
    "        else:\n",
    "            b = True\n",
    "            break\n",
    "    return b, unique\n"
   ]
  },
  {
   "cell_type": "code",
   "execution_count": 4,
   "metadata": {},
   "outputs": [
    {
     "name": "stdout",
     "output_type": "stream",
     "text": [
      "(True, array([nan,  0., 76.]))\n"
     ]
    }
   ],
   "source": [
    "print(gotAnomalies(df2))"
   ]
  },
  {
   "cell_type": "code",
   "execution_count": 5,
   "metadata": {},
   "outputs": [],
   "source": [
    "def cleanCSV(df):\n",
    "  cols_to_check = df.columns\n",
    "  arr_col = []\n",
    "  for col in df.columns:\n",
    "    if df[col].isna().all():\n",
    "        print(\"La colonna\", col, \"contiene solo valori NaN.\")\n",
    "        arr_col.append(col)\n",
    "  df_cleaned = df.drop(columns=arr_col)\n",
    "  df_cleaned = df_cleaned.replace('---', 0)\n",
    "  return df_cleaned"
   ]
  },
  {
   "cell_type": "code",
   "execution_count": 6,
   "metadata": {},
   "outputs": [],
   "source": [
    "def sortDf(df):\n",
    "    if 'TIMESTAMP' in df.columns:\n",
    "        df = df.sort_values('TIMESTAMP',ascending=True)\n",
    "        df.index = range(len(df))\n",
    "    else:\n",
    "        print(\"La colonna TIMESTAMP non è presente nel dataframe.\")\n",
    "        return None\n",
    "    return df"
   ]
  },
  {
   "cell_type": "code",
   "execution_count": 7,
   "metadata": {},
   "outputs": [],
   "source": [
    "def resampleDf(df,datetime):\n",
    "    if 'dt' in df.columns:\n",
    "        df.set_index('dt', inplace=True)\n",
    "    df_noNan = df.ffill()\n",
    "    df_resampled = df_noNan.resample(datetime).ffill()\n",
    "    df_resampled = df_resampled.replace('---', 0)\n",
    "    return df_resampled\n",
    "    "
   ]
  },
  {
   "cell_type": "code",
   "execution_count": 8,
   "metadata": {},
   "outputs": [],
   "source": [
    "def checkFileInFolder(folder, file):\n",
    "    if file in os.listdir(folder):\n",
    "        return True\n",
    "    return False"
   ]
  },
  {
   "cell_type": "code",
   "execution_count": 10,
   "metadata": {},
   "outputs": [],
   "source": [
    "def getResampledDf(df,file_path):\n",
    "    if not checkFileInFolder(folder ='last12months/',file=file_path):\n",
    "        df_sorted = sortDf(df)\n",
    "        df_sorted = cleanCSV(df_sorted)\n",
    "        df_resampled = resampleDf(df_sorted,'31min')\n",
    "        df_resampled.to_csv('last12months/' + file_path)\n",
    "        return df_sorted, df_resampled\n",
    "    else:\n",
    "        df_resampled = pd.read_csv('last12months/'+ file_path)\n",
    "        return None, df_resampled\n",
    "\n",
    "    "
   ]
  },
  {
   "cell_type": "code",
   "execution_count": 11,
   "metadata": {},
   "outputs": [
    {
     "name": "stdout",
     "output_type": "stream",
     "text": [
      "La colonna Modo Impianto contiene solo valori NaN.\n"
     ]
    }
   ],
   "source": [
    "df2_sorted, df2_resampled = getResampledDf(df2,'220330932_resampled30s.csv')"
   ]
  },
  {
   "cell_type": "code",
   "execution_count": 12,
   "metadata": {},
   "outputs": [
    {
     "data": {
      "text/html": [
       "<div>\n",
       "<style scoped>\n",
       "    .dataframe tbody tr th:only-of-type {\n",
       "        vertical-align: middle;\n",
       "    }\n",
       "\n",
       "    .dataframe tbody tr th {\n",
       "        vertical-align: top;\n",
       "    }\n",
       "\n",
       "    .dataframe thead th {\n",
       "        text-align: right;\n",
       "    }\n",
       "</style>\n",
       "<table border=\"1\" class=\"dataframe\">\n",
       "  <thead>\n",
       "    <tr style=\"text-align: right;\">\n",
       "      <th></th>\n",
       "      <th>TIMESTAMP</th>\n",
       "      <th>Abilitazione al conteggio energia</th>\n",
       "      <th>Anomalia #1</th>\n",
       "      <th>Caldaia</th>\n",
       "      <th>Caldaia giornaliero</th>\n",
       "      <th>Cloud Status</th>\n",
       "      <th>Connection Status</th>\n",
       "      <th>Energia parziale in riscaldamento caldaia</th>\n",
       "      <th>Energia parziale in sanitario caldaia</th>\n",
       "      <th>Energia totale globale</th>\n",
       "      <th>...</th>\n",
       "      <th>Stato attivazione BOOST sanitario</th>\n",
       "      <th>Taratura sensore</th>\n",
       "      <th>Temperatura di mandata</th>\n",
       "      <th>Temperatura esterna</th>\n",
       "      <th>Temperatura esterna mediata</th>\n",
       "      <th>Temperatura fumi</th>\n",
       "      <th>Temperatura sanitario</th>\n",
       "      <th>Temperatura scambiatore</th>\n",
       "      <th>Velocita' ventilatore</th>\n",
       "      <th>WiFi signal</th>\n",
       "    </tr>\n",
       "    <tr>\n",
       "      <th>dt</th>\n",
       "      <th></th>\n",
       "      <th></th>\n",
       "      <th></th>\n",
       "      <th></th>\n",
       "      <th></th>\n",
       "      <th></th>\n",
       "      <th></th>\n",
       "      <th></th>\n",
       "      <th></th>\n",
       "      <th></th>\n",
       "      <th></th>\n",
       "      <th></th>\n",
       "      <th></th>\n",
       "      <th></th>\n",
       "      <th></th>\n",
       "      <th></th>\n",
       "      <th></th>\n",
       "      <th></th>\n",
       "      <th></th>\n",
       "      <th></th>\n",
       "      <th></th>\n",
       "    </tr>\n",
       "  </thead>\n",
       "  <tbody>\n",
       "    <tr>\n",
       "      <th>2022-06-30 21:42:00</th>\n",
       "      <td>NaN</td>\n",
       "      <td>NaN</td>\n",
       "      <td>0.0</td>\n",
       "      <td>NaN</td>\n",
       "      <td>NaN</td>\n",
       "      <td>NaN</td>\n",
       "      <td>NaN</td>\n",
       "      <td>NaN</td>\n",
       "      <td>NaN</td>\n",
       "      <td>NaN</td>\n",
       "      <td>...</td>\n",
       "      <td>NaN</td>\n",
       "      <td>NaN</td>\n",
       "      <td>NaN</td>\n",
       "      <td>NaN</td>\n",
       "      <td>NaN</td>\n",
       "      <td>NaN</td>\n",
       "      <td>NaN</td>\n",
       "      <td>NaN</td>\n",
       "      <td>NaN</td>\n",
       "      <td>NaN</td>\n",
       "    </tr>\n",
       "    <tr>\n",
       "      <th>2022-06-30 22:13:00</th>\n",
       "      <td>1.656626e+12</td>\n",
       "      <td>NaN</td>\n",
       "      <td>0.0</td>\n",
       "      <td>NaN</td>\n",
       "      <td>NaN</td>\n",
       "      <td>NaN</td>\n",
       "      <td>NaN</td>\n",
       "      <td>NaN</td>\n",
       "      <td>NaN</td>\n",
       "      <td>NaN</td>\n",
       "      <td>...</td>\n",
       "      <td>NaN</td>\n",
       "      <td>NaN</td>\n",
       "      <td>NaN</td>\n",
       "      <td>NaN</td>\n",
       "      <td>NaN</td>\n",
       "      <td>NaN</td>\n",
       "      <td>NaN</td>\n",
       "      <td>NaN</td>\n",
       "      <td>NaN</td>\n",
       "      <td>NaN</td>\n",
       "    </tr>\n",
       "    <tr>\n",
       "      <th>2022-06-30 22:44:00</th>\n",
       "      <td>1.656626e+12</td>\n",
       "      <td>NaN</td>\n",
       "      <td>0.0</td>\n",
       "      <td>NaN</td>\n",
       "      <td>NaN</td>\n",
       "      <td>NaN</td>\n",
       "      <td>NaN</td>\n",
       "      <td>NaN</td>\n",
       "      <td>NaN</td>\n",
       "      <td>NaN</td>\n",
       "      <td>...</td>\n",
       "      <td>NaN</td>\n",
       "      <td>NaN</td>\n",
       "      <td>NaN</td>\n",
       "      <td>NaN</td>\n",
       "      <td>NaN</td>\n",
       "      <td>NaN</td>\n",
       "      <td>NaN</td>\n",
       "      <td>NaN</td>\n",
       "      <td>NaN</td>\n",
       "      <td>NaN</td>\n",
       "    </tr>\n",
       "    <tr>\n",
       "      <th>2022-06-30 23:15:00</th>\n",
       "      <td>1.656626e+12</td>\n",
       "      <td>NaN</td>\n",
       "      <td>0.0</td>\n",
       "      <td>NaN</td>\n",
       "      <td>NaN</td>\n",
       "      <td>NaN</td>\n",
       "      <td>NaN</td>\n",
       "      <td>NaN</td>\n",
       "      <td>NaN</td>\n",
       "      <td>NaN</td>\n",
       "      <td>...</td>\n",
       "      <td>NaN</td>\n",
       "      <td>NaN</td>\n",
       "      <td>NaN</td>\n",
       "      <td>NaN</td>\n",
       "      <td>NaN</td>\n",
       "      <td>NaN</td>\n",
       "      <td>NaN</td>\n",
       "      <td>NaN</td>\n",
       "      <td>NaN</td>\n",
       "      <td>NaN</td>\n",
       "    </tr>\n",
       "    <tr>\n",
       "      <th>2022-06-30 23:46:00</th>\n",
       "      <td>1.656626e+12</td>\n",
       "      <td>NaN</td>\n",
       "      <td>0.0</td>\n",
       "      <td>NaN</td>\n",
       "      <td>NaN</td>\n",
       "      <td>NaN</td>\n",
       "      <td>NaN</td>\n",
       "      <td>NaN</td>\n",
       "      <td>NaN</td>\n",
       "      <td>NaN</td>\n",
       "      <td>...</td>\n",
       "      <td>NaN</td>\n",
       "      <td>NaN</td>\n",
       "      <td>NaN</td>\n",
       "      <td>NaN</td>\n",
       "      <td>NaN</td>\n",
       "      <td>NaN</td>\n",
       "      <td>NaN</td>\n",
       "      <td>NaN</td>\n",
       "      <td>NaN</td>\n",
       "      <td>NaN</td>\n",
       "    </tr>\n",
       "  </tbody>\n",
       "</table>\n",
       "<p>5 rows × 56 columns</p>\n",
       "</div>"
      ],
      "text/plain": [
       "                        TIMESTAMP  Abilitazione al conteggio energia  \\\n",
       "dt                                                                     \n",
       "2022-06-30 21:42:00           NaN                                NaN   \n",
       "2022-06-30 22:13:00  1.656626e+12                                NaN   \n",
       "2022-06-30 22:44:00  1.656626e+12                                NaN   \n",
       "2022-06-30 23:15:00  1.656626e+12                                NaN   \n",
       "2022-06-30 23:46:00  1.656626e+12                                NaN   \n",
       "\n",
       "                     Anomalia #1  Caldaia  Caldaia giornaliero  Cloud Status  \\\n",
       "dt                                                                             \n",
       "2022-06-30 21:42:00          0.0      NaN                  NaN           NaN   \n",
       "2022-06-30 22:13:00          0.0      NaN                  NaN           NaN   \n",
       "2022-06-30 22:44:00          0.0      NaN                  NaN           NaN   \n",
       "2022-06-30 23:15:00          0.0      NaN                  NaN           NaN   \n",
       "2022-06-30 23:46:00          0.0      NaN                  NaN           NaN   \n",
       "\n",
       "                     Connection Status  \\\n",
       "dt                                       \n",
       "2022-06-30 21:42:00                NaN   \n",
       "2022-06-30 22:13:00                NaN   \n",
       "2022-06-30 22:44:00                NaN   \n",
       "2022-06-30 23:15:00                NaN   \n",
       "2022-06-30 23:46:00                NaN   \n",
       "\n",
       "                     Energia parziale in riscaldamento caldaia  \\\n",
       "dt                                                               \n",
       "2022-06-30 21:42:00                                        NaN   \n",
       "2022-06-30 22:13:00                                        NaN   \n",
       "2022-06-30 22:44:00                                        NaN   \n",
       "2022-06-30 23:15:00                                        NaN   \n",
       "2022-06-30 23:46:00                                        NaN   \n",
       "\n",
       "                     Energia parziale in sanitario caldaia  \\\n",
       "dt                                                           \n",
       "2022-06-30 21:42:00                                    NaN   \n",
       "2022-06-30 22:13:00                                    NaN   \n",
       "2022-06-30 22:44:00                                    NaN   \n",
       "2022-06-30 23:15:00                                    NaN   \n",
       "2022-06-30 23:46:00                                    NaN   \n",
       "\n",
       "                     Energia totale globale  ...  \\\n",
       "dt                                           ...   \n",
       "2022-06-30 21:42:00                     NaN  ...   \n",
       "2022-06-30 22:13:00                     NaN  ...   \n",
       "2022-06-30 22:44:00                     NaN  ...   \n",
       "2022-06-30 23:15:00                     NaN  ...   \n",
       "2022-06-30 23:46:00                     NaN  ...   \n",
       "\n",
       "                     Stato attivazione BOOST sanitario  Taratura sensore  \\\n",
       "dt                                                                         \n",
       "2022-06-30 21:42:00                                NaN               NaN   \n",
       "2022-06-30 22:13:00                                NaN               NaN   \n",
       "2022-06-30 22:44:00                                NaN               NaN   \n",
       "2022-06-30 23:15:00                                NaN               NaN   \n",
       "2022-06-30 23:46:00                                NaN               NaN   \n",
       "\n",
       "                     Temperatura di mandata  Temperatura esterna  \\\n",
       "dt                                                                 \n",
       "2022-06-30 21:42:00                     NaN                  NaN   \n",
       "2022-06-30 22:13:00                     NaN                  NaN   \n",
       "2022-06-30 22:44:00                     NaN                  NaN   \n",
       "2022-06-30 23:15:00                     NaN                  NaN   \n",
       "2022-06-30 23:46:00                     NaN                  NaN   \n",
       "\n",
       "                     Temperatura esterna mediata  Temperatura fumi  \\\n",
       "dt                                                                   \n",
       "2022-06-30 21:42:00                          NaN               NaN   \n",
       "2022-06-30 22:13:00                          NaN               NaN   \n",
       "2022-06-30 22:44:00                          NaN               NaN   \n",
       "2022-06-30 23:15:00                          NaN               NaN   \n",
       "2022-06-30 23:46:00                          NaN               NaN   \n",
       "\n",
       "                     Temperatura sanitario  Temperatura scambiatore  \\\n",
       "dt                                                                    \n",
       "2022-06-30 21:42:00                    NaN                      NaN   \n",
       "2022-06-30 22:13:00                    NaN                      NaN   \n",
       "2022-06-30 22:44:00                    NaN                      NaN   \n",
       "2022-06-30 23:15:00                    NaN                      NaN   \n",
       "2022-06-30 23:46:00                    NaN                      NaN   \n",
       "\n",
       "                    Velocita' ventilatore  WiFi signal  \n",
       "dt                                                      \n",
       "2022-06-30 21:42:00                   NaN          NaN  \n",
       "2022-06-30 22:13:00                   NaN          NaN  \n",
       "2022-06-30 22:44:00                   NaN          NaN  \n",
       "2022-06-30 23:15:00                   NaN          NaN  \n",
       "2022-06-30 23:46:00                   NaN          NaN  \n",
       "\n",
       "[5 rows x 56 columns]"
      ]
     },
     "execution_count": 12,
     "metadata": {},
     "output_type": "execute_result"
    }
   ],
   "source": [
    "df2_resampled['Anomalia #1'] = df2_resampled['Anomalia #1'].replace(np.nan,0)\n",
    "df2_resampled.head()"
   ]
  },
  {
   "cell_type": "code",
   "execution_count": 13,
   "metadata": {},
   "outputs": [],
   "source": [
    "def getUniques(df):\n",
    "    cols = df.columns\n",
    "    dict_unique = dict.fromkeys(cols,None)\n",
    "    for col in cols:\n",
    "        dict_unique[col] = df[col].unique()\n",
    "    return dict_unique"
   ]
  },
  {
   "cell_type": "code",
   "execution_count": 14,
   "metadata": {},
   "outputs": [],
   "source": [
    "def getBooelan(dict):\n",
    "    arr = []\n",
    "    for key, value in dict.items():\n",
    "        if len(value) < 4:\n",
    "            b = True\n",
    "            for v in value:\n",
    "                # print(v,pd.isna(v))\n",
    "                if pd.isna(v)==False:\n",
    "                    if int(v) != 0 and int(v) != 1:\n",
    "                        # print('ciao')\n",
    "                        b = False\n",
    "                        break\n",
    "            # print(value,b)\n",
    "            if b:\n",
    "                arr.append(key)\n",
    "    return arr"
   ]
  },
  {
   "cell_type": "code",
   "execution_count": 15,
   "metadata": {},
   "outputs": [],
   "source": [
    "def printUniques(dict,tp):\n",
    "    booleans = getBooelan(dict)\n",
    "    for key, value in dict.items():\n",
    "        counts = []\n",
    "        if key in booleans and tp ==1:\n",
    "            print(key, value)\n",
    "        elif tp==2 and len(value) > 4 :\n",
    "            print(key, value[0:5])"
   ]
  },
  {
   "cell_type": "code",
   "execution_count": 16,
   "metadata": {},
   "outputs": [],
   "source": [
    "def countOccurences(df,dict):\n",
    "    booleans = getBooelan(dict)\n",
    "    counters = dict.fromkeys(booleans,None)\n",
    "    for key, value in dict.items():\n",
    "        if key in booleans:\n",
    "            value = value[1:]\n",
    "            counts = dict.fromkeys(value,None)\n",
    "            for v in value:\n",
    "                if not pd.isna(v):\n",
    "                    counts[v]= df[key].value_counts()[v]\n",
    "            counters[key] = counts\n",
    "            # print(key, counts, max(counts))\n",
    "    return counters\n",
    "            "
   ]
  },
  {
   "cell_type": "code",
   "execution_count": 17,
   "metadata": {},
   "outputs": [],
   "source": [
    "def getMax(dict):\n",
    "    maxs = dict.fromkeys(dict.keys(),None)\n",
    "    for key, value in dict.items():\n",
    "        # print(key, value)\n",
    "        for k, v in value.items():\n",
    "            if v == max(value.values()):\n",
    "                maxs[key] = k\n",
    "    return maxs"
   ]
  },
  {
   "cell_type": "code",
   "execution_count": 18,
   "metadata": {},
   "outputs": [],
   "source": [
    "def plotColumn(df,col):\n",
    "    if col not in df.columns:\n",
    "        print(\"La colonna\", col, \"non è presente nel dataframe.\")\n",
    "        return None\n",
    "    df_toPlot = df[col]\n",
    "    plt.plot(df_toPlot)\n",
    "    try: \n",
    "        plt.ylim(0, max(df_toPlot.unique())+1)\n",
    "    except:\n",
    "        pass\n",
    "\n",
    "    plt.show()\n"
   ]
  },
  {
   "cell_type": "code",
   "execution_count": 19,
   "metadata": {},
   "outputs": [],
   "source": [
    "dict_unique2 = getUniques(df2_resampled)\n",
    "arr_booleani2 = getBooelan(dict_unique2)\n"
   ]
  },
  {
   "cell_type": "code",
   "execution_count": 20,
   "metadata": {},
   "outputs": [],
   "source": [
    "def getLastValues(df):\n",
    "    d_sample = df.iloc[-1]\n",
    "    dictionary = dict.fromkeys(df.columns,None)\n",
    "\n",
    "    for col in df.columns:\n",
    "        if col in d_sample.index:\n",
    "            dictionary[col] = d_sample[col]\n",
    "\n",
    "    return dictionary"
   ]
  },
  {
   "cell_type": "code",
   "execution_count": 21,
   "metadata": {},
   "outputs": [],
   "source": [
    "def reversedMax(dizionario):\n",
    "    for key, value in dizionario.items():\n",
    "        if value == 1:\n",
    "            dizionario[key] = 0\n",
    "        else:\n",
    "            dizionario[key] = 1\n",
    "    return dizionario"
   ]
  },
  {
   "cell_type": "code",
   "execution_count": 22,
   "metadata": {},
   "outputs": [],
   "source": [
    "def getGeneralBooleans(df2):\n",
    "    b2 = getBooelan(getUniques(df2))\n",
    "    intersection = list(set(b2))\n",
    "    intersection.sort()\n",
    "    return intersection"
   ]
  },
  {
   "cell_type": "code",
   "execution_count": 23,
   "metadata": {},
   "outputs": [],
   "source": [
    "def fillBooleans(df,booleans,dizionario):\n",
    "    for key in booleans:\n",
    "        if key != 'Modalità Estate/Inverno (solo scrittura)' and key in dizionario.keys():\n",
    "            print(f'{key}: {dizionario[key]}')        \n",
    "            df[key] = df[key].replace(np.nan,dizionario[key])\n",
    "    return df"
   ]
  },
  {
   "cell_type": "code",
   "execution_count": 24,
   "metadata": {},
   "outputs": [],
   "source": [
    "def fillOthers(df,sample):\n",
    "    col_s = sample.index\n",
    "    booleani = getBooelan(getUniques(df))\n",
    "    for col in df.columns:\n",
    "        # print(col)\n",
    "        if col == 'Anomalia #1':\n",
    "            df[col] = df[col].replace(np.nan,sample[col])\n",
    "        if col not in booleani and col in col_s:\n",
    "            # print('in')\n",
    "            df[col] = df[col].replace(np.nan,sample[col])\n",
    "    return df"
   ]
  },
  {
   "cell_type": "code",
   "execution_count": 25,
   "metadata": {},
   "outputs": [
    {
     "name": "stdout",
     "output_type": "stream",
     "text": [
      "Anomalies' values:  [ 0. 76.]\n",
      "Number of anomalies type 76 in df2: 9\n"
     ]
    }
   ],
   "source": [
    "print(\"Anomalies' values: \",df2_resampled['Anomalia #1'].unique())\n",
    "num_anomaliesDf2 = df2['Anomalia #1'].value_counts()[76]\n",
    "print(\"Number of anomalies type 76 in df2:\", num_anomaliesDf2)"
   ]
  },
  {
   "cell_type": "code",
   "execution_count": 26,
   "metadata": {},
   "outputs": [
    {
     "name": "stdout",
     "output_type": "stream",
     "text": [
      "Number of anomalies type 76 in df2: 28\n"
     ]
    }
   ],
   "source": [
    "num_anomaliesDf2 = df2_resampled['Anomalia #1'].value_counts()[76]\n",
    "print(\"Number of anomalies type 76 in df2:\", num_anomaliesDf2)"
   ]
  },
  {
   "cell_type": "code",
   "execution_count": 27,
   "metadata": {},
   "outputs": [
    {
     "name": "stdout",
     "output_type": "stream",
     "text": [
      "TIMESTAMP  :  2022-06-30 22:13:00\n",
      "Abilitazione al conteggio energia  :  2022-07-22 09:20:00\n",
      "Anomalia #1  :  2022-06-30 21:42:00\n",
      "Caldaia  :  2022-07-17 22:23:00\n",
      "Caldaia giornaliero  :  2022-07-21 22:29:00\n",
      "Cloud Status  :  2022-07-22 09:20:00\n",
      "Connection Status  :  2022-07-22 09:20:00\n",
      "Energia parziale in riscaldamento caldaia  :  2022-07-22 09:51:00\n",
      "Energia parziale in sanitario caldaia  :  2022-07-22 11:24:00\n",
      "Energia totale globale  :  2022-07-22 09:51:00\n",
      "Energia totale globale delta  :  2022-07-22 11:24:00\n",
      "Energia totale globale per day  :  2022-07-21 22:29:00\n",
      "Energia totale globale per month  :  2022-06-30 22:13:00\n",
      "Energia totale globale per week  :  2022-07-17 22:23:00\n",
      "Energia totale in riscaldamento caldaia  :  2022-07-22 09:51:00\n",
      "Energia totale in sanitario caldaia  :  2022-07-22 11:24:00\n",
      "Fattore di correzione  :  2022-07-22 09:20:00\n",
      "Flame status  :  2022-07-22 09:20:00\n",
      "Flusso sanitario  :  2022-07-22 09:20:00\n",
      "Intercetta della retta della potenza  :  2022-07-22 09:20:00\n",
      "Livello modulazione  :  2022-07-22 09:20:00\n",
      "M64A17E8  :  2022-07-22 09:51:00\n",
      "M64A17E9  :  2022-07-22 11:24:00\n",
      "M64A17EA  :  2022-07-22 09:51:00\n",
      "M64A17EB  :  2022-07-22 11:24:00\n",
      "M64A17EC  :  2022-07-22 11:24:00\n",
      "M64A17ED  :  2022-07-22 11:24:00\n",
      "M64A17EE  :  2022-07-22 11:24:00\n",
      "M64A17EF  :  2022-07-22 11:24:00\n",
      "Media T esterna  :  2022-07-22 09:20:00\n",
      "Modalità Estate/Inverno (solo scrittura)  :  2022-07-22 09:20:00\n",
      "Modo service  :  2022-07-22 09:20:00\n",
      "Modo vacanza  :  2022-07-22 11:24:00\n",
      "Pendenza della retta della potenza  :  2022-07-22 09:20:00\n",
      "Pressione impianto  :  2022-07-22 09:20:00\n",
      "Riscaldamento  :  2022-07-17 22:23:00\n",
      "Riscaldamento attivo  :  2022-07-22 09:20:00\n",
      "Riscaldamento giornaliero  :  2022-07-21 22:29:00\n",
      "Riscaldamento on  :  2022-07-22 09:20:00\n",
      "Ritorno riscaldamento  :  2022-07-22 09:20:00\n",
      "Sanitario  :  2022-07-17 22:23:00\n",
      "Sanitario attivo  :  2022-07-22 09:20:00\n",
      "Sanitario giornaliero  :  2022-07-21 22:29:00\n",
      "Sanitario on  :  2022-07-22 09:20:00\n",
      "Standby  :  2022-07-17 22:23:00\n",
      "Standby giornaliero  :  2022-07-21 22:29:00\n",
      "Stato attivazione BOOST sanitario  :  2022-07-22 09:20:00\n",
      "Taratura sensore  :  2023-01-13 20:41:00\n",
      "Temperatura di mandata  :  2022-07-22 09:20:00\n",
      "Temperatura esterna  :  2022-07-22 09:20:00\n",
      "Temperatura esterna mediata  :  2022-07-22 09:20:00\n",
      "Temperatura fumi  :  2022-07-22 09:20:00\n",
      "Temperatura sanitario  :  2022-07-22 09:20:00\n",
      "Temperatura scambiatore  :  2022-07-22 09:20:00\n",
      "Velocita' ventilatore  :  2022-07-22 09:20:00\n",
      "WiFi signal  :  2022-07-22 09:20:00\n"
     ]
    }
   ],
   "source": [
    "column_to_first_valid_index = {}\n",
    "\n",
    "for column in df2_resampled.columns:\n",
    "  first_valid_index = df2_resampled[column].first_valid_index()\n",
    "  column_to_first_valid_index[column] = first_valid_index\n",
    "\n",
    "#iterate the dict and print the key and value\n",
    "for key, value in column_to_first_valid_index.items():\n",
    "  print(key, ' : ', value)"
   ]
  },
  {
   "cell_type": "code",
   "execution_count": null,
   "metadata": {},
   "outputs": [],
   "source": [
    "dfProva = df2_resampled.copy()\n",
    "dfProva = dfProva.dropna()"
   ]
  },
  {
   "cell_type": "code",
   "execution_count": null,
   "metadata": {},
   "outputs": [],
   "source": [
    "dfProva.head()"
   ]
  },
  {
   "cell_type": "code",
   "execution_count": null,
   "metadata": {},
   "outputs": [],
   "source": [
    "dfProva.shape"
   ]
  },
  {
   "cell_type": "markdown",
   "metadata": {},
   "source": [
    "## Work with final DataFrame"
   ]
  },
  {
   "cell_type": "code",
   "execution_count": 28,
   "metadata": {},
   "outputs": [
    {
     "ename": "FileNotFoundError",
     "evalue": "[Errno 2] No such file or directory: 'last12months/12months/220330932_resampled30s_noNan.csv'",
     "output_type": "error",
     "traceback": [
      "\u001b[0;31m---------------------------------------------------------------------------\u001b[0m",
      "\u001b[0;31mFileNotFoundError\u001b[0m                         Traceback (most recent call last)",
      "\u001b[0;32m/tmp/ipykernel_9200/3012793167.py\u001b[0m in \u001b[0;36m<module>\u001b[0;34m\u001b[0m\n\u001b[0;32m----> 1\u001b[0;31m \u001b[0mdf\u001b[0m \u001b[0;34m=\u001b[0m \u001b[0mpd\u001b[0m\u001b[0;34m.\u001b[0m\u001b[0mread_csv\u001b[0m\u001b[0;34m(\u001b[0m\u001b[0;34m'last12months/12months/220330932_resampled30s_noNan.csv'\u001b[0m\u001b[0;34m)\u001b[0m\u001b[0;34m\u001b[0m\u001b[0;34m\u001b[0m\u001b[0m\n\u001b[0m",
      "\u001b[0;32m~/.local/lib/python3.9/site-packages/pandas/util/_decorators.py\u001b[0m in \u001b[0;36mwrapper\u001b[0;34m(*args, **kwargs)\u001b[0m\n\u001b[1;32m    309\u001b[0m                     \u001b[0mstacklevel\u001b[0m\u001b[0;34m=\u001b[0m\u001b[0mstacklevel\u001b[0m\u001b[0;34m,\u001b[0m\u001b[0;34m\u001b[0m\u001b[0;34m\u001b[0m\u001b[0m\n\u001b[1;32m    310\u001b[0m                 )\n\u001b[0;32m--> 311\u001b[0;31m             \u001b[0;32mreturn\u001b[0m \u001b[0mfunc\u001b[0m\u001b[0;34m(\u001b[0m\u001b[0;34m*\u001b[0m\u001b[0margs\u001b[0m\u001b[0;34m,\u001b[0m \u001b[0;34m**\u001b[0m\u001b[0mkwargs\u001b[0m\u001b[0;34m)\u001b[0m\u001b[0;34m\u001b[0m\u001b[0;34m\u001b[0m\u001b[0m\n\u001b[0m\u001b[1;32m    312\u001b[0m \u001b[0;34m\u001b[0m\u001b[0m\n\u001b[1;32m    313\u001b[0m         \u001b[0;32mreturn\u001b[0m \u001b[0mwrapper\u001b[0m\u001b[0;34m\u001b[0m\u001b[0;34m\u001b[0m\u001b[0m\n",
      "\u001b[0;32m~/.local/lib/python3.9/site-packages/pandas/io/parsers/readers.py\u001b[0m in \u001b[0;36mread_csv\u001b[0;34m(filepath_or_buffer, sep, delimiter, header, names, index_col, usecols, squeeze, prefix, mangle_dupe_cols, dtype, engine, converters, true_values, false_values, skipinitialspace, skiprows, skipfooter, nrows, na_values, keep_default_na, na_filter, verbose, skip_blank_lines, parse_dates, infer_datetime_format, keep_date_col, date_parser, dayfirst, cache_dates, iterator, chunksize, compression, thousands, decimal, lineterminator, quotechar, quoting, doublequote, escapechar, comment, encoding, encoding_errors, dialect, error_bad_lines, warn_bad_lines, on_bad_lines, delim_whitespace, low_memory, memory_map, float_precision, storage_options)\u001b[0m\n\u001b[1;32m    584\u001b[0m     \u001b[0mkwds\u001b[0m\u001b[0;34m.\u001b[0m\u001b[0mupdate\u001b[0m\u001b[0;34m(\u001b[0m\u001b[0mkwds_defaults\u001b[0m\u001b[0;34m)\u001b[0m\u001b[0;34m\u001b[0m\u001b[0;34m\u001b[0m\u001b[0m\n\u001b[1;32m    585\u001b[0m \u001b[0;34m\u001b[0m\u001b[0m\n\u001b[0;32m--> 586\u001b[0;31m     \u001b[0;32mreturn\u001b[0m \u001b[0m_read\u001b[0m\u001b[0;34m(\u001b[0m\u001b[0mfilepath_or_buffer\u001b[0m\u001b[0;34m,\u001b[0m \u001b[0mkwds\u001b[0m\u001b[0;34m)\u001b[0m\u001b[0;34m\u001b[0m\u001b[0;34m\u001b[0m\u001b[0m\n\u001b[0m\u001b[1;32m    587\u001b[0m \u001b[0;34m\u001b[0m\u001b[0m\n\u001b[1;32m    588\u001b[0m \u001b[0;34m\u001b[0m\u001b[0m\n",
      "\u001b[0;32m~/.local/lib/python3.9/site-packages/pandas/io/parsers/readers.py\u001b[0m in \u001b[0;36m_read\u001b[0;34m(filepath_or_buffer, kwds)\u001b[0m\n\u001b[1;32m    480\u001b[0m \u001b[0;34m\u001b[0m\u001b[0m\n\u001b[1;32m    481\u001b[0m     \u001b[0;31m# Create the parser.\u001b[0m\u001b[0;34m\u001b[0m\u001b[0;34m\u001b[0m\u001b[0m\n\u001b[0;32m--> 482\u001b[0;31m     \u001b[0mparser\u001b[0m \u001b[0;34m=\u001b[0m \u001b[0mTextFileReader\u001b[0m\u001b[0;34m(\u001b[0m\u001b[0mfilepath_or_buffer\u001b[0m\u001b[0;34m,\u001b[0m \u001b[0;34m**\u001b[0m\u001b[0mkwds\u001b[0m\u001b[0;34m)\u001b[0m\u001b[0;34m\u001b[0m\u001b[0;34m\u001b[0m\u001b[0m\n\u001b[0m\u001b[1;32m    483\u001b[0m \u001b[0;34m\u001b[0m\u001b[0m\n\u001b[1;32m    484\u001b[0m     \u001b[0;32mif\u001b[0m \u001b[0mchunksize\u001b[0m \u001b[0;32mor\u001b[0m \u001b[0miterator\u001b[0m\u001b[0;34m:\u001b[0m\u001b[0;34m\u001b[0m\u001b[0;34m\u001b[0m\u001b[0m\n",
      "\u001b[0;32m~/.local/lib/python3.9/site-packages/pandas/io/parsers/readers.py\u001b[0m in \u001b[0;36m__init__\u001b[0;34m(self, f, engine, **kwds)\u001b[0m\n\u001b[1;32m    809\u001b[0m             \u001b[0mself\u001b[0m\u001b[0;34m.\u001b[0m\u001b[0moptions\u001b[0m\u001b[0;34m[\u001b[0m\u001b[0;34m\"has_index_names\"\u001b[0m\u001b[0;34m]\u001b[0m \u001b[0;34m=\u001b[0m \u001b[0mkwds\u001b[0m\u001b[0;34m[\u001b[0m\u001b[0;34m\"has_index_names\"\u001b[0m\u001b[0;34m]\u001b[0m\u001b[0;34m\u001b[0m\u001b[0;34m\u001b[0m\u001b[0m\n\u001b[1;32m    810\u001b[0m \u001b[0;34m\u001b[0m\u001b[0m\n\u001b[0;32m--> 811\u001b[0;31m         \u001b[0mself\u001b[0m\u001b[0;34m.\u001b[0m\u001b[0m_engine\u001b[0m \u001b[0;34m=\u001b[0m \u001b[0mself\u001b[0m\u001b[0;34m.\u001b[0m\u001b[0m_make_engine\u001b[0m\u001b[0;34m(\u001b[0m\u001b[0mself\u001b[0m\u001b[0;34m.\u001b[0m\u001b[0mengine\u001b[0m\u001b[0;34m)\u001b[0m\u001b[0;34m\u001b[0m\u001b[0;34m\u001b[0m\u001b[0m\n\u001b[0m\u001b[1;32m    812\u001b[0m \u001b[0;34m\u001b[0m\u001b[0m\n\u001b[1;32m    813\u001b[0m     \u001b[0;32mdef\u001b[0m \u001b[0mclose\u001b[0m\u001b[0;34m(\u001b[0m\u001b[0mself\u001b[0m\u001b[0;34m)\u001b[0m\u001b[0;34m:\u001b[0m\u001b[0;34m\u001b[0m\u001b[0;34m\u001b[0m\u001b[0m\n",
      "\u001b[0;32m~/.local/lib/python3.9/site-packages/pandas/io/parsers/readers.py\u001b[0m in \u001b[0;36m_make_engine\u001b[0;34m(self, engine)\u001b[0m\n\u001b[1;32m   1038\u001b[0m             )\n\u001b[1;32m   1039\u001b[0m         \u001b[0;31m# error: Too many arguments for \"ParserBase\"\u001b[0m\u001b[0;34m\u001b[0m\u001b[0;34m\u001b[0m\u001b[0m\n\u001b[0;32m-> 1040\u001b[0;31m         \u001b[0;32mreturn\u001b[0m \u001b[0mmapping\u001b[0m\u001b[0;34m[\u001b[0m\u001b[0mengine\u001b[0m\u001b[0;34m]\u001b[0m\u001b[0;34m(\u001b[0m\u001b[0mself\u001b[0m\u001b[0;34m.\u001b[0m\u001b[0mf\u001b[0m\u001b[0;34m,\u001b[0m \u001b[0;34m**\u001b[0m\u001b[0mself\u001b[0m\u001b[0;34m.\u001b[0m\u001b[0moptions\u001b[0m\u001b[0;34m)\u001b[0m  \u001b[0;31m# type: ignore[call-arg]\u001b[0m\u001b[0;34m\u001b[0m\u001b[0;34m\u001b[0m\u001b[0m\n\u001b[0m\u001b[1;32m   1041\u001b[0m \u001b[0;34m\u001b[0m\u001b[0m\n\u001b[1;32m   1042\u001b[0m     \u001b[0;32mdef\u001b[0m \u001b[0m_failover_to_python\u001b[0m\u001b[0;34m(\u001b[0m\u001b[0mself\u001b[0m\u001b[0;34m)\u001b[0m\u001b[0;34m:\u001b[0m\u001b[0;34m\u001b[0m\u001b[0;34m\u001b[0m\u001b[0m\n",
      "\u001b[0;32m~/.local/lib/python3.9/site-packages/pandas/io/parsers/c_parser_wrapper.py\u001b[0m in \u001b[0;36m__init__\u001b[0;34m(self, src, **kwds)\u001b[0m\n\u001b[1;32m     49\u001b[0m \u001b[0;34m\u001b[0m\u001b[0m\n\u001b[1;32m     50\u001b[0m         \u001b[0;31m# open handles\u001b[0m\u001b[0;34m\u001b[0m\u001b[0;34m\u001b[0m\u001b[0m\n\u001b[0;32m---> 51\u001b[0;31m         \u001b[0mself\u001b[0m\u001b[0;34m.\u001b[0m\u001b[0m_open_handles\u001b[0m\u001b[0;34m(\u001b[0m\u001b[0msrc\u001b[0m\u001b[0;34m,\u001b[0m \u001b[0mkwds\u001b[0m\u001b[0;34m)\u001b[0m\u001b[0;34m\u001b[0m\u001b[0;34m\u001b[0m\u001b[0m\n\u001b[0m\u001b[1;32m     52\u001b[0m         \u001b[0;32massert\u001b[0m \u001b[0mself\u001b[0m\u001b[0;34m.\u001b[0m\u001b[0mhandles\u001b[0m \u001b[0;32mis\u001b[0m \u001b[0;32mnot\u001b[0m \u001b[0;32mNone\u001b[0m\u001b[0;34m\u001b[0m\u001b[0;34m\u001b[0m\u001b[0m\n\u001b[1;32m     53\u001b[0m \u001b[0;34m\u001b[0m\u001b[0m\n",
      "\u001b[0;32m~/.local/lib/python3.9/site-packages/pandas/io/parsers/base_parser.py\u001b[0m in \u001b[0;36m_open_handles\u001b[0;34m(self, src, kwds)\u001b[0m\n\u001b[1;32m    220\u001b[0m         \u001b[0mLet\u001b[0m \u001b[0mthe\u001b[0m \u001b[0mreaders\u001b[0m \u001b[0mopen\u001b[0m \u001b[0mIOHandles\u001b[0m \u001b[0mafter\u001b[0m \u001b[0mthey\u001b[0m \u001b[0mare\u001b[0m \u001b[0mdone\u001b[0m \u001b[0;32mwith\u001b[0m \u001b[0mtheir\u001b[0m \u001b[0mpotential\u001b[0m \u001b[0mraises\u001b[0m\u001b[0;34m.\u001b[0m\u001b[0;34m\u001b[0m\u001b[0;34m\u001b[0m\u001b[0m\n\u001b[1;32m    221\u001b[0m         \"\"\"\n\u001b[0;32m--> 222\u001b[0;31m         self.handles = get_handle(\n\u001b[0m\u001b[1;32m    223\u001b[0m             \u001b[0msrc\u001b[0m\u001b[0;34m,\u001b[0m\u001b[0;34m\u001b[0m\u001b[0;34m\u001b[0m\u001b[0m\n\u001b[1;32m    224\u001b[0m             \u001b[0;34m\"r\"\u001b[0m\u001b[0;34m,\u001b[0m\u001b[0;34m\u001b[0m\u001b[0;34m\u001b[0m\u001b[0m\n",
      "\u001b[0;32m~/.local/lib/python3.9/site-packages/pandas/io/common.py\u001b[0m in \u001b[0;36mget_handle\u001b[0;34m(path_or_buf, mode, encoding, compression, memory_map, is_text, errors, storage_options)\u001b[0m\n\u001b[1;32m    700\u001b[0m         \u001b[0;32mif\u001b[0m \u001b[0mioargs\u001b[0m\u001b[0;34m.\u001b[0m\u001b[0mencoding\u001b[0m \u001b[0;32mand\u001b[0m \u001b[0;34m\"b\"\u001b[0m \u001b[0;32mnot\u001b[0m \u001b[0;32min\u001b[0m \u001b[0mioargs\u001b[0m\u001b[0;34m.\u001b[0m\u001b[0mmode\u001b[0m\u001b[0;34m:\u001b[0m\u001b[0;34m\u001b[0m\u001b[0;34m\u001b[0m\u001b[0m\n\u001b[1;32m    701\u001b[0m             \u001b[0;31m# Encoding\u001b[0m\u001b[0;34m\u001b[0m\u001b[0;34m\u001b[0m\u001b[0m\n\u001b[0;32m--> 702\u001b[0;31m             handle = open(\n\u001b[0m\u001b[1;32m    703\u001b[0m                 \u001b[0mhandle\u001b[0m\u001b[0;34m,\u001b[0m\u001b[0;34m\u001b[0m\u001b[0;34m\u001b[0m\u001b[0m\n\u001b[1;32m    704\u001b[0m                 \u001b[0mioargs\u001b[0m\u001b[0;34m.\u001b[0m\u001b[0mmode\u001b[0m\u001b[0;34m,\u001b[0m\u001b[0;34m\u001b[0m\u001b[0;34m\u001b[0m\u001b[0m\n",
      "\u001b[0;31mFileNotFoundError\u001b[0m: [Errno 2] No such file or directory: 'last12months/12months/220330932_resampled30s_noNan.csv'"
     ]
    }
   ],
   "source": [
    "df = pd.read_csv('last12months/12months/220330932_resampled30s_noNan.csv')"
   ]
  },
  {
   "cell_type": "code",
   "execution_count": null,
   "metadata": {},
   "outputs": [],
   "source": [
    "df.head()"
   ]
  },
  {
   "cell_type": "code",
   "execution_count": null,
   "metadata": {},
   "outputs": [],
   "source": [
    "dfAnomalies = df[df['Anomalia #1'] == 76]"
   ]
  },
  {
   "cell_type": "code",
   "execution_count": null,
   "metadata": {},
   "outputs": [],
   "source": [
    "dfAnomalies"
   ]
  },
  {
   "cell_type": "code",
   "execution_count": null,
   "metadata": {},
   "outputs": [],
   "source": [
    "datesAnomalies = dfAnomalies['dt']\n",
    "#Create a new column month that contains only the month of the date\n",
    "datesAnomalies = pd.to_datetime(datesAnomalies)\n",
    "datesAnomalies = datesAnomalies.dt.month\n"
   ]
  },
  {
   "cell_type": "code",
   "execution_count": null,
   "metadata": {},
   "outputs": [],
   "source": [
    "months = datesAnomalies.unique()"
   ]
  },
  {
   "cell_type": "code",
   "execution_count": null,
   "metadata": {},
   "outputs": [],
   "source": [
    "months"
   ]
  },
  {
   "cell_type": "code",
   "execution_count": null,
   "metadata": {},
   "outputs": [],
   "source": []
  },
  {
   "cell_type": "markdown",
   "metadata": {},
   "source": [
    "## Data Mining"
   ]
  },
  {
   "cell_type": "code",
   "execution_count": null,
   "metadata": {},
   "outputs": [],
   "source": [
    "df2 = pd.read_csv('last12months/12months/220330932.csv')\n",
    "\n"
   ]
  },
  {
   "cell_type": "code",
   "execution_count": null,
   "metadata": {},
   "outputs": [],
   "source": [
    "ts = df2['TIMESTAMP']\n",
    "delta_t = np.diff(ts)\n",
    "\n",
    "media = np.mean(delta_t)\n",
    "\n"
   ]
  },
  {
   "cell_type": "code",
   "execution_count": null,
   "metadata": {},
   "outputs": [],
   "source": [
    "media/1000"
   ]
  },
  {
   "cell_type": "code",
   "execution_count": null,
   "metadata": {},
   "outputs": [],
   "source": [
    "seconds=(media/1000)/3600/24\n",
    "seconds"
   ]
  },
  {
   "cell_type": "code",
   "execution_count": null,
   "metadata": {},
   "outputs": [],
   "source": [
    "df2['Anomalia #1'].unique()"
   ]
  },
  {
   "cell_type": "code",
   "execution_count": null,
   "metadata": {},
   "outputs": [],
   "source": [
    "final = pd.read_csv('last12months/12months/220330932_resampled30s_noNan.csv')"
   ]
  },
  {
   "cell_type": "code",
   "execution_count": null,
   "metadata": {},
   "outputs": [],
   "source": [
    "print(gotAnomalies(final))"
   ]
  },
  {
   "cell_type": "code",
   "execution_count": null,
   "metadata": {},
   "outputs": [],
   "source": [
    "dfWithAnomalies = final[final['Anomalia #1'] != 0]"
   ]
  },
  {
   "cell_type": "code",
   "execution_count": null,
   "metadata": {},
   "outputs": [],
   "source": [
    "dfWithAnomalies.head()"
   ]
  },
  {
   "cell_type": "code",
   "execution_count": null,
   "metadata": {},
   "outputs": [],
   "source": [
    "final.head()"
   ]
  },
  {
   "cell_type": "code",
   "execution_count": null,
   "metadata": {},
   "outputs": [],
   "source": [
    "final['Normal/Attack'] = final['Anomalia #1'].apply(lambda x: 'Attack' if x != 0 else 'Normal')"
   ]
  },
  {
   "cell_type": "code",
   "execution_count": null,
   "metadata": {},
   "outputs": [],
   "source": [
    "final['Normal/Attack'].unique()"
   ]
  },
  {
   "cell_type": "code",
   "execution_count": null,
   "metadata": {},
   "outputs": [],
   "source": [
    "dfA = final.iloc[0:55820]\n",
    "df = final.iloc[55820:]\n",
    "dfN = dfA.loc[dfA['Normal/Attack'] == 'Normal'].reset_index(drop=True)\n"
   ]
  },
  {
   "cell_type": "code",
   "execution_count": null,
   "metadata": {},
   "outputs": [],
   "source": [
    "df.to_csv('last12months/baxi/BAXI_220330932_Normal.csv')\n",
    "dfA.to_csv('last12months/baxi/BAXI_220330932_Attack.csv')"
   ]
  },
  {
   "cell_type": "code",
   "execution_count": null,
   "metadata": {},
   "outputs": [],
   "source": [
    "df['TIMESTAMP'] = df['TIMESTAMP'].str.strip()\n",
    "dfA['TIMESTAMP'] = dfA['TIMESTAMP'].str.strip()"
   ]
  },
  {
   "cell_type": "code",
   "execution_count": null,
   "metadata": {},
   "outputs": [],
   "source": [
    "swat = pd.read_csv()"
   ]
  },
  {
   "cell_type": "markdown",
   "metadata": {},
   "source": [
    "## Create datasets for the notebook"
   ]
  },
  {
   "cell_type": "code",
   "execution_count": 1,
   "metadata": {},
   "outputs": [],
   "source": [
    "import pandas as pd \n",
    "import numpy as np\n",
    "import matplotlib.pyplot as plt\n",
    "import os\n",
    "import sys"
   ]
  },
  {
   "cell_type": "code",
   "execution_count": 4,
   "metadata": {},
   "outputs": [],
   "source": [
    "df = pd.read_csv('last12months/12months/220330932_resampled60min_noNan.csv')\n",
    "dfWithAnomalies = df[df['Anomalia #1'] != 0]\n",
    "df['Normal/Attack'] = df['Anomalia #1'].apply(lambda x: 'Attack' if x != 0 else 'Normal')"
   ]
  },
  {
   "cell_type": "code",
   "execution_count": 5,
   "metadata": {},
   "outputs": [
    {
     "data": {
      "text/plain": [
       "array(['Normal', 'Attack'], dtype=object)"
      ]
     },
     "execution_count": 5,
     "metadata": {},
     "output_type": "execute_result"
    }
   ],
   "source": [
    "df['Normal/Attack'].unique()"
   ]
  },
  {
   "cell_type": "code",
   "execution_count": 6,
   "metadata": {},
   "outputs": [
    {
     "data": {
      "text/html": [
       "<div>\n",
       "<style scoped>\n",
       "    .dataframe tbody tr th:only-of-type {\n",
       "        vertical-align: middle;\n",
       "    }\n",
       "\n",
       "    .dataframe tbody tr th {\n",
       "        vertical-align: top;\n",
       "    }\n",
       "\n",
       "    .dataframe thead th {\n",
       "        text-align: right;\n",
       "    }\n",
       "</style>\n",
       "<table border=\"1\" class=\"dataframe\">\n",
       "  <thead>\n",
       "    <tr style=\"text-align: right;\">\n",
       "      <th></th>\n",
       "      <th>dt</th>\n",
       "      <th>TIMESTAMP</th>\n",
       "      <th>Abilitazione al conteggio energia</th>\n",
       "      <th>Anomalia #1</th>\n",
       "      <th>Caldaia</th>\n",
       "      <th>Caldaia giornaliero</th>\n",
       "      <th>Cloud Status</th>\n",
       "      <th>Connection Status</th>\n",
       "      <th>Energia parziale in riscaldamento caldaia</th>\n",
       "      <th>Energia parziale in sanitario caldaia</th>\n",
       "      <th>...</th>\n",
       "      <th>Stato attivazione BOOST sanitario</th>\n",
       "      <th>Taratura sensore</th>\n",
       "      <th>Temperatura di mandata</th>\n",
       "      <th>Temperatura esterna</th>\n",
       "      <th>Temperatura esterna mediata</th>\n",
       "      <th>Temperatura fumi</th>\n",
       "      <th>Temperatura sanitario</th>\n",
       "      <th>Temperatura scambiatore</th>\n",
       "      <th>Velocita' ventilatore</th>\n",
       "      <th>WiFi signal</th>\n",
       "    </tr>\n",
       "  </thead>\n",
       "  <tbody>\n",
       "    <tr>\n",
       "      <th>462</th>\n",
       "      <td>2023-02-02 03:00:00</td>\n",
       "      <td>1675306785648</td>\n",
       "      <td>1.0</td>\n",
       "      <td>76.0</td>\n",
       "      <td>70625003.0</td>\n",
       "      <td>10330337.0</td>\n",
       "      <td>2.0</td>\n",
       "      <td>1.0</td>\n",
       "      <td>238.0</td>\n",
       "      <td>34.0</td>\n",
       "      <td>...</td>\n",
       "      <td>0.0</td>\n",
       "      <td>-2.5</td>\n",
       "      <td>20.3</td>\n",
       "      <td>0.0</td>\n",
       "      <td>0.0</td>\n",
       "      <td>0.0</td>\n",
       "      <td>18.3</td>\n",
       "      <td>0.0</td>\n",
       "      <td>0.0</td>\n",
       "      <td>-50.0</td>\n",
       "    </tr>\n",
       "    <tr>\n",
       "      <th>463</th>\n",
       "      <td>2023-02-02 04:00:00</td>\n",
       "      <td>1675310393588</td>\n",
       "      <td>1.0</td>\n",
       "      <td>76.0</td>\n",
       "      <td>70625003.0</td>\n",
       "      <td>10330337.0</td>\n",
       "      <td>2.0</td>\n",
       "      <td>1.0</td>\n",
       "      <td>238.0</td>\n",
       "      <td>34.0</td>\n",
       "      <td>...</td>\n",
       "      <td>0.0</td>\n",
       "      <td>-2.5</td>\n",
       "      <td>19.1</td>\n",
       "      <td>0.0</td>\n",
       "      <td>0.0</td>\n",
       "      <td>0.0</td>\n",
       "      <td>17.3</td>\n",
       "      <td>0.0</td>\n",
       "      <td>0.0</td>\n",
       "      <td>-49.0</td>\n",
       "    </tr>\n",
       "    <tr>\n",
       "      <th>464</th>\n",
       "      <td>2023-02-02 05:00:00</td>\n",
       "      <td>1675313993686</td>\n",
       "      <td>1.0</td>\n",
       "      <td>76.0</td>\n",
       "      <td>70625003.0</td>\n",
       "      <td>10330337.0</td>\n",
       "      <td>2.0</td>\n",
       "      <td>1.0</td>\n",
       "      <td>238.0</td>\n",
       "      <td>34.0</td>\n",
       "      <td>...</td>\n",
       "      <td>0.0</td>\n",
       "      <td>-2.5</td>\n",
       "      <td>18.1</td>\n",
       "      <td>0.0</td>\n",
       "      <td>0.0</td>\n",
       "      <td>0.0</td>\n",
       "      <td>16.6</td>\n",
       "      <td>0.0</td>\n",
       "      <td>0.0</td>\n",
       "      <td>-50.0</td>\n",
       "    </tr>\n",
       "  </tbody>\n",
       "</table>\n",
       "<p>3 rows × 57 columns</p>\n",
       "</div>"
      ],
      "text/plain": [
       "                      dt      TIMESTAMP  Abilitazione al conteggio energia  \\\n",
       "462  2023-02-02 03:00:00  1675306785648                                1.0   \n",
       "463  2023-02-02 04:00:00  1675310393588                                1.0   \n",
       "464  2023-02-02 05:00:00  1675313993686                                1.0   \n",
       "\n",
       "     Anomalia #1     Caldaia  Caldaia giornaliero  Cloud Status  \\\n",
       "462         76.0  70625003.0           10330337.0           2.0   \n",
       "463         76.0  70625003.0           10330337.0           2.0   \n",
       "464         76.0  70625003.0           10330337.0           2.0   \n",
       "\n",
       "     Connection Status  Energia parziale in riscaldamento caldaia  \\\n",
       "462                1.0                                      238.0   \n",
       "463                1.0                                      238.0   \n",
       "464                1.0                                      238.0   \n",
       "\n",
       "     Energia parziale in sanitario caldaia  ...  \\\n",
       "462                                   34.0  ...   \n",
       "463                                   34.0  ...   \n",
       "464                                   34.0  ...   \n",
       "\n",
       "     Stato attivazione BOOST sanitario  Taratura sensore  \\\n",
       "462                                0.0              -2.5   \n",
       "463                                0.0              -2.5   \n",
       "464                                0.0              -2.5   \n",
       "\n",
       "     Temperatura di mandata  Temperatura esterna  Temperatura esterna mediata  \\\n",
       "462                    20.3                  0.0                          0.0   \n",
       "463                    19.1                  0.0                          0.0   \n",
       "464                    18.1                  0.0                          0.0   \n",
       "\n",
       "     Temperatura fumi  Temperatura sanitario  Temperatura scambiatore  \\\n",
       "462               0.0                   18.3                      0.0   \n",
       "463               0.0                   17.3                      0.0   \n",
       "464               0.0                   16.6                      0.0   \n",
       "\n",
       "     Velocita' ventilatore  WiFi signal  \n",
       "462                    0.0        -50.0  \n",
       "463                    0.0        -49.0  \n",
       "464                    0.0        -50.0  \n",
       "\n",
       "[3 rows x 57 columns]"
      ]
     },
     "execution_count": 6,
     "metadata": {},
     "output_type": "execute_result"
    }
   ],
   "source": [
    "dfWithAnomalies.head()"
   ]
  },
  {
   "cell_type": "code",
   "execution_count": 12,
   "metadata": {},
   "outputs": [],
   "source": [
    "dfA = df.iloc[0:2000]\n",
    "df = df.iloc[2000:]\n",
    "dfN = dfA.loc[dfA['Normal/Attack'] == 'Normal'].reset_index(drop=True)"
   ]
  },
  {
   "cell_type": "code",
   "execution_count": 14,
   "metadata": {},
   "outputs": [],
   "source": [
    "df.to_csv('data/baxi/BAXI_220330932_Normal.csv')\n",
    "dfA.to_csv('data/baxi/BAXI_220330932_Attack.csv')"
   ]
  },
  {
   "cell_type": "code",
   "execution_count": null,
   "metadata": {},
   "outputs": [],
   "source": []
  }
 ],
 "metadata": {
  "kernelspec": {
   "display_name": "base",
   "language": "python",
   "name": "python3"
  },
  "language_info": {
   "codemirror_mode": {
    "name": "ipython",
    "version": 3
   },
   "file_extension": ".py",
   "mimetype": "text/x-python",
   "name": "python",
   "nbconvert_exporter": "python",
   "pygments_lexer": "ipython3",
   "version": "3.9.13"
  },
  "orig_nbformat": 4
 },
 "nbformat": 4,
 "nbformat_minor": 2
}

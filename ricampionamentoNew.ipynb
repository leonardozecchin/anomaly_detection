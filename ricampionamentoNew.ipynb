{
 "cells": [
  {
   "cell_type": "markdown",
   "metadata": {},
   "source": []
  },
  {
   "cell_type": "code",
   "execution_count": 1,
   "metadata": {},
   "outputs": [],
   "source": [
    "import pandas as pd \n",
    "import numpy as np\n",
    "import matplotlib.pyplot as plt\n",
    "import os"
   ]
  },
  {
   "cell_type": "code",
   "execution_count": 2,
   "metadata": {},
   "outputs": [
    {
     "name": "stderr",
     "output_type": "stream",
     "text": [
      "/home/leonardo/.local/lib/python3.9/site-packages/IPython/core/interactiveshell.py:3444: DtypeWarning: Columns (21,23,25,27,51) have mixed types.Specify dtype option on import or set low_memory=False.\n",
      "  exec(code_obj, self.user_global_ns, self.user_ns)\n",
      "/home/leonardo/.local/lib/python3.9/site-packages/IPython/core/interactiveshell.py:3444: DtypeWarning: Columns (24,26,49,50,51,53) have mixed types.Specify dtype option on import or set low_memory=False.\n",
      "  exec(code_obj, self.user_global_ns, self.user_ns)\n"
     ]
    }
   ],
   "source": [
    "df1 = pd.read_csv('last12months/12months/204300479.csv')\n",
    "df2 = pd.read_csv('last12months/12months/220330932.csv')\n",
    "df3 = pd.read_csv('last12months/12months/224228487.csv')"
   ]
  },
  {
   "cell_type": "code",
   "execution_count": 3,
   "metadata": {},
   "outputs": [],
   "source": [
    "df1['dt'] = pd.to_datetime(df1['TIMESTAMP'],unit='ms')\n",
    "df2['dt'] = pd.to_datetime(df2['TIMESTAMP'],unit='ms')\n",
    "df3['dt'] = pd.to_datetime(df3['TIMESTAMP'],unit='ms')"
   ]
  },
  {
   "cell_type": "code",
   "execution_count": 4,
   "metadata": {},
   "outputs": [],
   "source": [
    "def cleanCSV(df):\n",
    "  cols_to_check = df.columns\n",
    "  arr_col = []\n",
    "  for col in df.columns:\n",
    "    if df[col].isna().all():\n",
    "        print(\"La colonna\", col, \"contiene solo valori NaN.\")\n",
    "        arr_col.append(col)\n",
    "  df_cleaned = df.drop(columns=arr_col)\n",
    "  return df_cleaned"
   ]
  },
  {
   "cell_type": "code",
   "execution_count": 5,
   "metadata": {},
   "outputs": [],
   "source": [
    "def sortDf(df):\n",
    "    if 'TIMESTAMP' in df.columns:\n",
    "        df = df.sort_values('TIMESTAMP',ascending=True)\n",
    "        df.index = range(len(df))\n",
    "    else:\n",
    "        print(\"La colonna TIMESTAMP non è presente nel dataframe.\")\n",
    "        return None\n",
    "    return df"
   ]
  },
  {
   "cell_type": "code",
   "execution_count": 6,
   "metadata": {},
   "outputs": [],
   "source": [
    "def resampleDf(df,datetime):\n",
    "    if 'dt' in df.columns:\n",
    "        df.set_index('dt', inplace=True)\n",
    "    df_noNan = df.ffill()\n",
    "    df_resampled = df_noNan.resample(datetime).ffill()\n",
    "\n",
    "    return df_resampled\n",
    "    "
   ]
  },
  {
   "cell_type": "code",
   "execution_count": 7,
   "metadata": {},
   "outputs": [],
   "source": [
    "def checkFileInFolder(folder, file):\n",
    "    if file in os.listdir(folder):\n",
    "        return True\n",
    "    return False"
   ]
  },
  {
   "cell_type": "code",
   "execution_count": 8,
   "metadata": {},
   "outputs": [
    {
     "name": "stderr",
     "output_type": "stream",
     "text": [
      "/home/leonardo/.local/lib/python3.9/site-packages/IPython/core/interactiveshell.py:3444: DtypeWarning: Columns (21,23,25,27) have mixed types.Specify dtype option on import or set low_memory=False.\n",
      "  exec(code_obj, self.user_global_ns, self.user_ns)\n",
      "/home/leonardo/.local/lib/python3.9/site-packages/IPython/core/interactiveshell.py:3444: DtypeWarning: Columns (19,22,24,26,28,50,51,52,54) have mixed types.Specify dtype option on import or set low_memory=False.\n",
      "  exec(code_obj, self.user_global_ns, self.user_ns)\n"
     ]
    }
   ],
   "source": [
    "if not checkFileInFolder(folder ='last12months/12months',file='204300479_resampled30s.csv'):\n",
    "    df1_sorted = sortDf(df1)\n",
    "    df1_sorted = cleanCSV(df1_sorted)\n",
    "    df1_resampled = resampleDf(df1_sorted,'30s')\n",
    "    df1_resampled.to_csv('last12months/12months/204300479_resampled30s.csv')\n",
    "else:\n",
    "    df1_resampled = pd.read_csv('last12months/12months/204300479_resampled30s.csv')\n",
    "\n",
    "if not checkFileInFolder(folder ='last12months/12months',file='220330932_resampled30s.csv'):\n",
    "    df2_sorted = sortDf(df2)\n",
    "    df2_sorted = cleanCSV(df2_sorted)\n",
    "    df2_resampled = resampleDf(df2_sorted,'30s')\n",
    "    df2_resampled.to_csv('last12months/12months/220330932_resampled30s.csv')\n",
    "else:\n",
    "    df2_resampled = pd.read_csv('last12months/12months/220330932_resampled30s.csv')\n",
    "\n",
    "if not checkFileInFolder(folder ='last12months/12months',file='224228487_resampled30s.csv'):\n",
    "    df3_sorted = sortDf(df3)\n",
    "    df3_sorted = cleanCSV(df3_sorted)\n",
    "    df3_resampled = resampleDf(df3_sorted,'30s')\n",
    "    df3_resampled.to_csv('last12months/12months/224228487_resampled30s.csv')\n",
    "else:\n",
    "    df3_resampled = pd.read_csv('last12months/12months/224228487_resampled30s.csv')\n"
   ]
  },
  {
   "cell_type": "code",
   "execution_count": 9,
   "metadata": {},
   "outputs": [],
   "source": [
    "def getUniques(df):\n",
    "    cols = df.columns\n",
    "    dict_unique = dict.fromkeys(cols,None)\n",
    "    for col in cols:\n",
    "        dict_unique[col] = df[col].unique()\n",
    "    return dict_unique"
   ]
  },
  {
   "cell_type": "code",
   "execution_count": 10,
   "metadata": {},
   "outputs": [],
   "source": [
    "def printUniques(dict,tp):\n",
    "    for key, value in dict.items():\n",
    "        if len(value) < 4 and 1 in value and tp ==1:\n",
    "            print(key, value)\n",
    "        elif tp==2 and len(value) > 4 and np.isnan(value[0]):\n",
    "            print(key, value[0:5])"
   ]
  },
  {
   "cell_type": "code",
   "execution_count": 11,
   "metadata": {},
   "outputs": [],
   "source": [
    "def getBooelan(dict):\n",
    "    arr = []\n",
    "    for key, value in dict.items():\n",
    "        if len(value) < 4 and 1 in value:\n",
    "            arr.append(key)\n",
    "    return arr"
   ]
  },
  {
   "cell_type": "code",
   "execution_count": 12,
   "metadata": {},
   "outputs": [],
   "source": [
    "dict_unique1 = getUniques(df1_resampled)\n",
    "dict_unique2 = getUniques(df2_resampled)\n",
    "dict_unique3 = getUniques(df3_resampled)\n",
    "\n"
   ]
  },
  {
   "cell_type": "code",
   "execution_count": 14,
   "metadata": {},
   "outputs": [],
   "source": [
    "arr_booleani1 = getBooelan(dict_unique1)\n",
    "arr_booleani2 = getBooelan(dict_unique2)\n",
    "arr_booleani3 = getBooelan(dict_unique3)"
   ]
  },
  {
   "cell_type": "code",
   "execution_count": 15,
   "metadata": {},
   "outputs": [
    {
     "name": "stdout",
     "output_type": "stream",
     "text": [
      "1\n",
      "Abilitazione al conteggio energia [nan  1.]\n",
      "Connection Status [nan  0.  1.]\n",
      "Fattore di correzione [nan  1.]\n",
      "Flame status [nan  0.  1.]\n",
      "Modalità Estate/Inverno (solo scrittura) [nan  1.  2.]\n",
      "Riscaldamento attivo [nan  0.  1.]\n",
      "Riscaldamento on [nan  0.  1.]\n",
      "Sanitario attivo [nan  0.  1.]\n",
      "Sanitario on [nan  0.  1.]\n",
      "--------------------------------------------------\n",
      "2\n",
      "Abilitazione al conteggio energia [nan  1.]\n",
      "Connection Status [nan  0.  1.]\n",
      "Fattore di correzione [nan  1.]\n",
      "Flame status [nan  0.  1.]\n",
      "Riscaldamento attivo [nan  0.  1.]\n",
      "Riscaldamento on [nan  0.  1.]\n",
      "Sanitario attivo [nan  0.  1.]\n",
      "Sanitario on [nan  0.  1.]\n",
      "--------------------------------------------------\n",
      "3\n",
      "Abilitazione al conteggio energia [nan  1.]\n",
      "Connection Status [nan  0.  1.]\n",
      "Flame status [nan  1.  0.]\n",
      "Riscaldamento attivo [nan  1.  0.]\n",
      "Riscaldamento on [nan  1.  0.]\n",
      "Sanitario attivo [nan  0.  1.]\n",
      "Sanitario on [nan  0.  1.]\n",
      "Fattore di correzione [nan  1.]\n"
     ]
    }
   ],
   "source": [
    "print('1')\n",
    "printUniques(dict_unique1,1)\n",
    "print(\"--------------------------------------------------\\n2\")\n",
    "printUniques(dict_unique2,1)\n",
    "print(\"--------------------------------------------------\\n3\")\n",
    "printUniques(dict_unique3,1)"
   ]
  },
  {
   "cell_type": "code",
   "execution_count": 16,
   "metadata": {},
   "outputs": [],
   "source": [
    "def plotColumn(df,col):\n",
    "    if col not in df.columns:\n",
    "        print(\"La colonna\", col, \"non è presente nel dataframe.\")\n",
    "        return None\n",
    "    df_toPlot = df[col]\n",
    "    plt.plot(df_toPlot)\n",
    "    try: \n",
    "        plt.ylim(0, max(df_toPlot.unique())+1)\n",
    "    except:\n",
    "        pass\n",
    "\n",
    "    plt.show()\n"
   ]
  },
  {
   "cell_type": "code",
   "execution_count": 17,
   "metadata": {},
   "outputs": [
    {
     "data": {
      "image/png": "[encoded data removed]",
      "text/plain": [
       "<Figure size 432x288 with 1 Axes>"
      ]
     },
     "metadata": {
      "needs_background": "light"
     },
     "output_type": "display_data"
    }
   ],
   "source": [
    "plotColumn(df1_resampled,'Riscaldamento attivo')"
   ]
  },
  {
   "cell_type": "code",
   "execution_count": 18,
   "metadata": {},
   "outputs": [
    {
     "data": {
      "image/png": "[encoded data removed]",
      "text/plain": [
       "<Figure size 432x288 with 1 Axes>"
      ]
     },
     "metadata": {
      "needs_background": "light"
     },
     "output_type": "display_data"
    }
   ],
   "source": [
    "plotColumn(df2_resampled,'Anomalia #1')\n"
   ]
  },
  {
   "cell_type": "code",
   "execution_count": 20,
   "metadata": {},
   "outputs": [
    {
     "data": {
      "text/html": [
       "<div>\n",
       "<style scoped>\n",
       "    .dataframe tbody tr th:only-of-type {\n",
       "        vertical-align: middle;\n",
       "    }\n",
       "\n",
       "    .dataframe tbody tr th {\n",
       "        vertical-align: top;\n",
       "    }\n",
       "\n",
       "    .dataframe thead th {\n",
       "        text-align: right;\n",
       "    }\n",
       "</style>\n",
       "<table border=\"1\" class=\"dataframe\">\n",
       "  <thead>\n",
       "    <tr style=\"text-align: right;\">\n",
       "      <th></th>\n",
       "      <th>dt</th>\n",
       "      <th>TIMESTAMP</th>\n",
       "      <th>Abilitazione al conteggio energia</th>\n",
       "      <th>Anomalia #1</th>\n",
       "      <th>Caldaia</th>\n",
       "      <th>Caldaia giornaliero</th>\n",
       "      <th>Connection Status</th>\n",
       "      <th>Energia parziale in riscaldamento caldaia</th>\n",
       "      <th>Energia parziale in sanitario caldaia</th>\n",
       "      <th>Energia totale globale</th>\n",
       "      <th>...</th>\n",
       "      <th>Stato attivazione BOOST sanitario</th>\n",
       "      <th>Taratura sensore</th>\n",
       "      <th>Temperatura di mandata</th>\n",
       "      <th>Temperatura esterna</th>\n",
       "      <th>Temperatura esterna mediata</th>\n",
       "      <th>Temperatura fumi</th>\n",
       "      <th>Temperatura sanitario</th>\n",
       "      <th>Temperatura scambiatore</th>\n",
       "      <th>Velocita' ventilatore</th>\n",
       "      <th>WiFi signal</th>\n",
       "    </tr>\n",
       "  </thead>\n",
       "  <tbody>\n",
       "    <tr>\n",
       "      <th>0</th>\n",
       "      <td>2022-06-30 22:00:00</td>\n",
       "      <td>1656626400000</td>\n",
       "      <td>0.0</td>\n",
       "      <td>NaN</td>\n",
       "      <td>NaN</td>\n",
       "      <td>739466.0</td>\n",
       "      <td>0.0</td>\n",
       "      <td>NaN</td>\n",
       "      <td>NaN</td>\n",
       "      <td>NaN</td>\n",
       "      <td>...</td>\n",
       "      <td>NaN</td>\n",
       "      <td>NaN</td>\n",
       "      <td>NaN</td>\n",
       "      <td>NaN</td>\n",
       "      <td>NaN</td>\n",
       "      <td>NaN</td>\n",
       "      <td>NaN</td>\n",
       "      <td>NaN</td>\n",
       "      <td>NaN</td>\n",
       "      <td>NaN</td>\n",
       "    </tr>\n",
       "    <tr>\n",
       "      <th>1</th>\n",
       "      <td>2022-06-30 22:00:30</td>\n",
       "      <td>1656626428307</td>\n",
       "      <td>0.0</td>\n",
       "      <td>NaN</td>\n",
       "      <td>NaN</td>\n",
       "      <td>739466.0</td>\n",
       "      <td>0.0</td>\n",
       "      <td>NaN</td>\n",
       "      <td>NaN</td>\n",
       "      <td>NaN</td>\n",
       "      <td>...</td>\n",
       "      <td>NaN</td>\n",
       "      <td>NaN</td>\n",
       "      <td>NaN</td>\n",
       "      <td>NaN</td>\n",
       "      <td>NaN</td>\n",
       "      <td>NaN</td>\n",
       "      <td>NaN</td>\n",
       "      <td>NaN</td>\n",
       "      <td>0.0</td>\n",
       "      <td>NaN</td>\n",
       "    </tr>\n",
       "    <tr>\n",
       "      <th>2</th>\n",
       "      <td>2022-06-30 22:01:00</td>\n",
       "      <td>1656626449120</td>\n",
       "      <td>0.0</td>\n",
       "      <td>NaN</td>\n",
       "      <td>NaN</td>\n",
       "      <td>739466.0</td>\n",
       "      <td>0.0</td>\n",
       "      <td>NaN</td>\n",
       "      <td>NaN</td>\n",
       "      <td>NaN</td>\n",
       "      <td>...</td>\n",
       "      <td>NaN</td>\n",
       "      <td>NaN</td>\n",
       "      <td>42.1</td>\n",
       "      <td>NaN</td>\n",
       "      <td>NaN</td>\n",
       "      <td>NaN</td>\n",
       "      <td>40.4</td>\n",
       "      <td>NaN</td>\n",
       "      <td>0.0</td>\n",
       "      <td>-66.0</td>\n",
       "    </tr>\n",
       "    <tr>\n",
       "      <th>3</th>\n",
       "      <td>2022-06-30 22:01:30</td>\n",
       "      <td>1656626489432</td>\n",
       "      <td>0.0</td>\n",
       "      <td>NaN</td>\n",
       "      <td>NaN</td>\n",
       "      <td>739466.0</td>\n",
       "      <td>0.0</td>\n",
       "      <td>NaN</td>\n",
       "      <td>NaN</td>\n",
       "      <td>NaN</td>\n",
       "      <td>...</td>\n",
       "      <td>NaN</td>\n",
       "      <td>NaN</td>\n",
       "      <td>42.1</td>\n",
       "      <td>NaN</td>\n",
       "      <td>NaN</td>\n",
       "      <td>NaN</td>\n",
       "      <td>40.1</td>\n",
       "      <td>NaN</td>\n",
       "      <td>0.0</td>\n",
       "      <td>-60.0</td>\n",
       "    </tr>\n",
       "    <tr>\n",
       "      <th>4</th>\n",
       "      <td>2022-06-30 22:02:00</td>\n",
       "      <td>1656626519228</td>\n",
       "      <td>0.0</td>\n",
       "      <td>NaN</td>\n",
       "      <td>NaN</td>\n",
       "      <td>739466.0</td>\n",
       "      <td>0.0</td>\n",
       "      <td>NaN</td>\n",
       "      <td>NaN</td>\n",
       "      <td>NaN</td>\n",
       "      <td>...</td>\n",
       "      <td>NaN</td>\n",
       "      <td>NaN</td>\n",
       "      <td>41.7</td>\n",
       "      <td>NaN</td>\n",
       "      <td>NaN</td>\n",
       "      <td>NaN</td>\n",
       "      <td>39.8</td>\n",
       "      <td>NaN</td>\n",
       "      <td>0.0</td>\n",
       "      <td>-60.0</td>\n",
       "    </tr>\n",
       "    <tr>\n",
       "      <th>5</th>\n",
       "      <td>2022-06-30 22:02:30</td>\n",
       "      <td>1656626549013</td>\n",
       "      <td>0.0</td>\n",
       "      <td>NaN</td>\n",
       "      <td>NaN</td>\n",
       "      <td>739466.0</td>\n",
       "      <td>0.0</td>\n",
       "      <td>NaN</td>\n",
       "      <td>NaN</td>\n",
       "      <td>NaN</td>\n",
       "      <td>...</td>\n",
       "      <td>NaN</td>\n",
       "      <td>NaN</td>\n",
       "      <td>41.7</td>\n",
       "      <td>NaN</td>\n",
       "      <td>NaN</td>\n",
       "      <td>NaN</td>\n",
       "      <td>39.8</td>\n",
       "      <td>NaN</td>\n",
       "      <td>0.0</td>\n",
       "      <td>-60.0</td>\n",
       "    </tr>\n",
       "    <tr>\n",
       "      <th>6</th>\n",
       "      <td>2022-06-30 22:03:00</td>\n",
       "      <td>1656626569900</td>\n",
       "      <td>0.0</td>\n",
       "      <td>NaN</td>\n",
       "      <td>NaN</td>\n",
       "      <td>739466.0</td>\n",
       "      <td>0.0</td>\n",
       "      <td>NaN</td>\n",
       "      <td>NaN</td>\n",
       "      <td>NaN</td>\n",
       "      <td>...</td>\n",
       "      <td>NaN</td>\n",
       "      <td>NaN</td>\n",
       "      <td>41.4</td>\n",
       "      <td>NaN</td>\n",
       "      <td>NaN</td>\n",
       "      <td>NaN</td>\n",
       "      <td>39.6</td>\n",
       "      <td>NaN</td>\n",
       "      <td>0.0</td>\n",
       "      <td>-59.0</td>\n",
       "    </tr>\n",
       "    <tr>\n",
       "      <th>7</th>\n",
       "      <td>2022-06-30 22:03:30</td>\n",
       "      <td>1656626599792</td>\n",
       "      <td>0.0</td>\n",
       "      <td>NaN</td>\n",
       "      <td>NaN</td>\n",
       "      <td>739466.0</td>\n",
       "      <td>0.0</td>\n",
       "      <td>NaN</td>\n",
       "      <td>NaN</td>\n",
       "      <td>NaN</td>\n",
       "      <td>...</td>\n",
       "      <td>NaN</td>\n",
       "      <td>NaN</td>\n",
       "      <td>41.3</td>\n",
       "      <td>NaN</td>\n",
       "      <td>NaN</td>\n",
       "      <td>NaN</td>\n",
       "      <td>39.4</td>\n",
       "      <td>NaN</td>\n",
       "      <td>0.0</td>\n",
       "      <td>-60.0</td>\n",
       "    </tr>\n",
       "    <tr>\n",
       "      <th>8</th>\n",
       "      <td>2022-06-30 22:04:00</td>\n",
       "      <td>1656626630796</td>\n",
       "      <td>0.0</td>\n",
       "      <td>NaN</td>\n",
       "      <td>NaN</td>\n",
       "      <td>739466.0</td>\n",
       "      <td>0.0</td>\n",
       "      <td>NaN</td>\n",
       "      <td>NaN</td>\n",
       "      <td>NaN</td>\n",
       "      <td>...</td>\n",
       "      <td>NaN</td>\n",
       "      <td>NaN</td>\n",
       "      <td>41.3</td>\n",
       "      <td>NaN</td>\n",
       "      <td>NaN</td>\n",
       "      <td>NaN</td>\n",
       "      <td>39.4</td>\n",
       "      <td>NaN</td>\n",
       "      <td>0.0</td>\n",
       "      <td>-60.0</td>\n",
       "    </tr>\n",
       "    <tr>\n",
       "      <th>9</th>\n",
       "      <td>2022-06-30 22:04:30</td>\n",
       "      <td>1656626658438</td>\n",
       "      <td>0.0</td>\n",
       "      <td>NaN</td>\n",
       "      <td>NaN</td>\n",
       "      <td>739466.0</td>\n",
       "      <td>0.0</td>\n",
       "      <td>NaN</td>\n",
       "      <td>NaN</td>\n",
       "      <td>NaN</td>\n",
       "      <td>...</td>\n",
       "      <td>NaN</td>\n",
       "      <td>NaN</td>\n",
       "      <td>41.1</td>\n",
       "      <td>NaN</td>\n",
       "      <td>NaN</td>\n",
       "      <td>NaN</td>\n",
       "      <td>39.2</td>\n",
       "      <td>NaN</td>\n",
       "      <td>0.0</td>\n",
       "      <td>-61.0</td>\n",
       "    </tr>\n",
       "  </tbody>\n",
       "</table>\n",
       "<p>10 rows × 56 columns</p>\n",
       "</div>"
      ],
      "text/plain": [
       "                    dt      TIMESTAMP  Abilitazione al conteggio energia  \\\n",
       "0  2022-06-30 22:00:00  1656626400000                                0.0   \n",
       "1  2022-06-30 22:00:30  1656626428307                                0.0   \n",
       "2  2022-06-30 22:01:00  1656626449120                                0.0   \n",
       "3  2022-06-30 22:01:30  1656626489432                                0.0   \n",
       "4  2022-06-30 22:02:00  1656626519228                                0.0   \n",
       "5  2022-06-30 22:02:30  1656626549013                                0.0   \n",
       "6  2022-06-30 22:03:00  1656626569900                                0.0   \n",
       "7  2022-06-30 22:03:30  1656626599792                                0.0   \n",
       "8  2022-06-30 22:04:00  1656626630796                                0.0   \n",
       "9  2022-06-30 22:04:30  1656626658438                                0.0   \n",
       "\n",
       "   Anomalia #1  Caldaia  Caldaia giornaliero  Connection Status  \\\n",
       "0          NaN      NaN             739466.0                0.0   \n",
       "1          NaN      NaN             739466.0                0.0   \n",
       "2          NaN      NaN             739466.0                0.0   \n",
       "3          NaN      NaN             739466.0                0.0   \n",
       "4          NaN      NaN             739466.0                0.0   \n",
       "5          NaN      NaN             739466.0                0.0   \n",
       "6          NaN      NaN             739466.0                0.0   \n",
       "7          NaN      NaN             739466.0                0.0   \n",
       "8          NaN      NaN             739466.0                0.0   \n",
       "9          NaN      NaN             739466.0                0.0   \n",
       "\n",
       "   Energia parziale in riscaldamento caldaia  \\\n",
       "0                                        NaN   \n",
       "1                                        NaN   \n",
       "2                                        NaN   \n",
       "3                                        NaN   \n",
       "4                                        NaN   \n",
       "5                                        NaN   \n",
       "6                                        NaN   \n",
       "7                                        NaN   \n",
       "8                                        NaN   \n",
       "9                                        NaN   \n",
       "\n",
       "   Energia parziale in sanitario caldaia  Energia totale globale  ...  \\\n",
       "0                                    NaN                     NaN  ...   \n",
       "1                                    NaN                     NaN  ...   \n",
       "2                                    NaN                     NaN  ...   \n",
       "3                                    NaN                     NaN  ...   \n",
       "4                                    NaN                     NaN  ...   \n",
       "5                                    NaN                     NaN  ...   \n",
       "6                                    NaN                     NaN  ...   \n",
       "7                                    NaN                     NaN  ...   \n",
       "8                                    NaN                     NaN  ...   \n",
       "9                                    NaN                     NaN  ...   \n",
       "\n",
       "   Stato attivazione BOOST sanitario  Taratura sensore  \\\n",
       "0                                NaN               NaN   \n",
       "1                                NaN               NaN   \n",
       "2                                NaN               NaN   \n",
       "3                                NaN               NaN   \n",
       "4                                NaN               NaN   \n",
       "5                                NaN               NaN   \n",
       "6                                NaN               NaN   \n",
       "7                                NaN               NaN   \n",
       "8                                NaN               NaN   \n",
       "9                                NaN               NaN   \n",
       "\n",
       "   Temperatura di mandata  Temperatura esterna  Temperatura esterna mediata  \\\n",
       "0                     NaN                  NaN                          NaN   \n",
       "1                     NaN                  NaN                          NaN   \n",
       "2                    42.1                  NaN                          NaN   \n",
       "3                    42.1                  NaN                          NaN   \n",
       "4                    41.7                  NaN                          NaN   \n",
       "5                    41.7                  NaN                          NaN   \n",
       "6                    41.4                  NaN                          NaN   \n",
       "7                    41.3                  NaN                          NaN   \n",
       "8                    41.3                  NaN                          NaN   \n",
       "9                    41.1                  NaN                          NaN   \n",
       "\n",
       "   Temperatura fumi  Temperatura sanitario  Temperatura scambiatore  \\\n",
       "0               NaN                    NaN                      NaN   \n",
       "1               NaN                    NaN                      NaN   \n",
       "2               NaN                   40.4                      NaN   \n",
       "3               NaN                   40.1                      NaN   \n",
       "4               NaN                   39.8                      NaN   \n",
       "5               NaN                   39.8                      NaN   \n",
       "6               NaN                   39.6                      NaN   \n",
       "7               NaN                   39.4                      NaN   \n",
       "8               NaN                   39.4                      NaN   \n",
       "9               NaN                   39.2                      NaN   \n",
       "\n",
       "  Velocita' ventilatore  WiFi signal  \n",
       "0                   NaN          NaN  \n",
       "1                   0.0          NaN  \n",
       "2                   0.0        -66.0  \n",
       "3                   0.0        -60.0  \n",
       "4                   0.0        -60.0  \n",
       "5                   0.0        -60.0  \n",
       "6                   0.0        -59.0  \n",
       "7                   0.0        -60.0  \n",
       "8                   0.0        -60.0  \n",
       "9                   0.0        -61.0  \n",
       "\n",
       "[10 rows x 56 columns]"
      ]
     },
     "execution_count": 20,
     "metadata": {},
     "output_type": "execute_result"
    }
   ],
   "source": [
    "df_test = df1_resampled.copy()\n",
    "for col in arr_booleani2:\n",
    "    df_test[col] = df_test[col].replace(np.nan,0)\n",
    "df_test.head(10)"
   ]
  },
  {
   "cell_type": "code",
   "execution_count": null,
   "metadata": {},
   "outputs": [],
   "source": [
    "df1_anomalia = df1_resampled['Anomalia #1']\n",
    "df1_anomalia.head(1150)"
   ]
  },
  {
   "cell_type": "code",
   "execution_count": null,
   "metadata": {},
   "outputs": [],
   "source": [
    "df_prova = df1_resampled.bfill()\n",
    "df_prova.head(20)"
   ]
  },
  {
   "cell_type": "code",
   "execution_count": null,
   "metadata": {},
   "outputs": [],
   "source": []
  },
  {
   "cell_type": "code",
   "execution_count": null,
   "metadata": {},
   "outputs": [],
   "source": [
    "df1_anomalia_noNan = df1_anomalia.dropna()\n",
    "df1_anomalia_noNan.head()\n"
   ]
  },
  {
   "cell_type": "markdown",
   "metadata": {},
   "source": []
  },
  {
   "cell_type": "code",
   "execution_count": null,
   "metadata": {},
   "outputs": [],
   "source": [
    "import pandas as pd \n",
    "import numpy as np\n",
    "import matplotlib.pyplot as plt\n"
   ]
  },
  {
   "cell_type": "code",
   "execution_count": null,
   "metadata": {},
   "outputs": [],
   "source": [
    "df1 = pd.read_csv('last12months/12months/204300479.csv')\n",
    "df2 = pd.read_csv('last12months/12months/220330932.csv')\n",
    "df3 = pd.read_csv('last12months/12months/224228487.csv')"
   ]
  },
  {
   "cell_type": "code",
   "execution_count": null,
   "metadata": {},
   "outputs": [],
   "source": [
    "df1['dt'] = pd.to_datetime(df1['TIMESTAMP'],unit='ms')\n",
    "df2['dt'] = pd.to_datetime(df2['TIMESTAMP'],unit='ms')\n",
    "df3['dt'] = pd.to_datetime(df3['TIMESTAMP'],unit='ms')"
   ]
  },
  {
   "cell_type": "code",
   "execution_count": null,
   "metadata": {},
   "outputs": [],
   "source": [
    "def cleanCSV(df):\n",
    "  cols_to_check = df.columns\n",
    "  arr_col = []\n",
    "  for col in df.columns:\n",
    "    if df[col].isna().all():\n",
    "        print(\"La colonna\", col, \"contiene solo valori NaN.\")\n",
    "        arr_col.append(col)\n",
    "  df_cleaned = df.drop(columns=arr_col)\n",
    "  return df_cleaned"
   ]
  },
  {
   "cell_type": "code",
   "execution_count": null,
   "metadata": {},
   "outputs": [],
   "source": [
    "def sortDf(df):\n",
    "    if 'TIMESTAMP' in df.columns:\n",
    "        df = df.sort_values('TIMESTAMP',ascending=True)\n",
    "        df.index = range(len(df))\n",
    "    else:\n",
    "        print(\"La colonna TIMESTAMP non è presente nel dataframe.\")\n",
    "        return None\n",
    "    return df"
   ]
  },
  {
   "cell_type": "code",
   "execution_count": null,
   "metadata": {},
   "outputs": [],
   "source": [
    "def resampleDf(df,datetime):\n",
    "    if 'dt' in df.columns:\n",
    "        df.set_index('dt', inplace=True)\n",
    "    df_noNan = df.ffill()\n",
    "    df_resampled = df_noNan.resample('30s').ffill()\n",
    "\n",
    "    return df_resampled\n",
    "    "
   ]
  },
  {
   "cell_type": "code",
   "execution_count": null,
   "metadata": {},
   "outputs": [],
   "source": [
    "df1_sorted = sortDf(df1)\n",
    "df2_sorted = sortDf(df2)\n",
    "df3_sorted = sortDf(df3)"
   ]
  },
  {
   "cell_type": "code",
   "execution_count": null,
   "metadata": {},
   "outputs": [],
   "source": [
    "df1_sorted = cleanCSV(df1_sorted)\n",
    "df2_sorted = cleanCSV(df2_sorted)\n",
    "df3_sorted = cleanCSV(df3_sorted)"
   ]
  },
  {
   "cell_type": "code",
   "execution_count": null,
   "metadata": {},
   "outputs": [],
   "source": [
    "df1_sorted.at[0,'Abilitazione al conteggio energia'] = 0\n",
    "df1_sorted.iloc[0]"
   ]
  },
  {
   "cell_type": "code",
   "execution_count": null,
   "metadata": {},
   "outputs": [],
   "source": [
    "# df1_sorted.set_index('dt', inplace=True)\n",
    "# df_prova = df1_sorted['Caldaia giornaliero']\n",
    "# df_prova = df1_sorted['Abilitazione al conteggio energia']\n",
    "\n",
    "df_noNan = df1_sorted.ffill()"
   ]
  },
  {
   "cell_type": "code",
   "execution_count": null,
   "metadata": {},
   "outputs": [],
   "source": [
    "df1_resampled = resampleDf(df1_sorted,'30s')\n",
    "df2_resampled = resampleDf(df2_sorted,'30s')\n",
    "df3_resampled = resampleDf(df3_sorted,'30s')"
   ]
  },
  {
   "cell_type": "code",
   "execution_count": null,
   "metadata": {},
   "outputs": [],
   "source": [
    "df1_resampled.to_csv('last12months/12months/204300479_resampled60s.csv')\n",
    "df2_resampled.to_csv('last12months/12months/220330932_resampled60s.csv')\n",
    "df3_resampled.to_csv('last12months/12months/224228487_resampled60s.csv')"
   ]
  },
  {
   "cell_type": "code",
   "execution_count": null,
   "metadata": {},
   "outputs": [],
   "source": [
    "df1_sorted['Anomalia #1'].unique()"
   ]
  },
  {
   "cell_type": "code",
   "execution_count": null,
   "metadata": {},
   "outputs": [],
   "source": [
    "df1_resampled"
   ]
  },
  {
   "cell_type": "code",
   "execution_count": null,
   "metadata": {},
   "outputs": [],
   "source": [
    "def getUniques(df):\n",
    "    cols = df.columns\n",
    "    dict_unique = dict.fromkeys(cols,None)\n",
    "    for col in cols:\n",
    "        dict_unique[col] = df[col].unique()\n",
    "    return dict_unique"
   ]
  },
  {
   "cell_type": "code",
   "execution_count": null,
   "metadata": {},
   "outputs": [],
   "source": [
    "def printUniques(df):\n",
    "    for key, value in df.items():\n",
    "        if len(value) < 4 and 1 in value:\n",
    "            print(key, value)"
   ]
  },
  {
   "cell_type": "code",
   "execution_count": null,
   "metadata": {},
   "outputs": [],
   "source": [
    "dict_unique1 = getUniques(df1_resampled)\n",
    "dict_unique2 = getUniques(df2_resampled)\n",
    "dict_unique3 = getUniques(df3_resampled)\n",
    "\n"
   ]
  },
  {
   "cell_type": "code",
   "execution_count": null,
   "metadata": {},
   "outputs": [],
   "source": [
    "printUniques(dict_unique1)"
   ]
  },
  {
   "cell_type": "code",
   "execution_count": null,
   "metadata": {},
   "outputs": [],
   "source": [
    "printUniques(dict_unique2)"
   ]
  },
  {
   "cell_type": "code",
   "execution_count": null,
   "metadata": {},
   "outputs": [],
   "source": [
    "dict_unique3['Fattore di correzione']"
   ]
  },
  {
   "cell_type": "code",
   "execution_count": null,
   "metadata": {},
   "outputs": [],
   "source": [
    "printUniques(dict_unique3)"
   ]
  },
  {
   "cell_type": "code",
   "execution_count": null,
   "metadata": {},
   "outputs": [],
   "source": [
    "df1_resampled[df1_resampled['Abilitazione al conteggio energia'] == 1]"
   ]
  },
  {
   "cell_type": "code",
   "execution_count": null,
   "metadata": {},
   "outputs": [],
   "source": [
    "df1_resampled_cleaned = cleanCSV(df1_resampled)\n",
    "df1_resampled_cleaned"
   ]
  },
  {
   "cell_type": "code",
   "execution_count": null,
   "metadata": {},
   "outputs": [],
   "source": [
    "\n",
    "df_ab = df1_resampled['Caldaia giornaliero']\n",
    "\n",
    "\n",
    "plt.plot(df_ab)\n",
    "\n",
    "plt.show()"
   ]
  },
  {
   "cell_type": "code",
   "execution_count": null,
   "metadata": {},
   "outputs": [],
   "source": [
    "import math\n",
    "# df_ab[df_ab == math.nan]\n",
    "# [x for x in df_ab if not math.isnan(x)]\n",
    "[x for x in df_ab if x==0]\n"
   ]
  },
  {
   "cell_type": "code",
   "execution_count": null,
   "metadata": {},
   "outputs": [],
   "source": [
    "d1 = pd.read_csv('last12months/20230721-153054/204300479_LUNA IN PLUS AIR.csv')\n",
    "d2 = pd.read_csv('last12months/20230721-153054/220330932_LUNA IN PLUS AIR.csv')\n",
    "d3 = pd.read_csv('last12months/20230721-153054/224228487_LUNA IN PLUS AIR.csv')"
   ]
  },
  {
   "cell_type": "code",
   "execution_count": null,
   "metadata": {},
   "outputs": [],
   "source": [
    "d1"
   ]
  },
  {
   "cell_type": "code",
   "execution_count": null,
   "metadata": {},
   "outputs": [],
   "source": [
    "d1 = cleanCSV(d1)\n",
    "d1['dt'] = pd.to_datetime(d1['TIMESTAMP'],unit='ms')\n",
    "d1_sorted = sortDf(d1)\n",
    "d1_resampled = resampleDf(d1_sorted,'30s')"
   ]
  },
  {
   "cell_type": "code",
   "execution_count": null,
   "metadata": {},
   "outputs": [],
   "source": [
    "d1_resampled\n",
    "\n",
    "\n"
   ]
  },
  {
   "cell_type": "code",
   "execution_count": null,
   "metadata": {},
   "outputs": [],
   "source": [
    "d1_resampled.tail(50).to_csv('last12months/d1.csv')"
   ]
  },
  {
   "cell_type": "code",
   "execution_count": null,
   "metadata": {},
   "outputs": [],
   "source": [
    "df1_resampled.head(50).to_csv('last12months/df1.csv')"
   ]
  },
  {
   "cell_type": "code",
   "execution_count": null,
   "metadata": {},
   "outputs": [],
   "source": []
  }
 ],
 "metadata": {
  "kernelspec": {
   "display_name": "base",
   "language": "python",
   "name": "python3"
  },
  "language_info": {
   "codemirror_mode": {
    "name": "ipython",
    "version": 3
   },
   "file_extension": ".py",
   "mimetype": "text/x-python",
   "name": "python",
   "nbconvert_exporter": "python",
   "pygments_lexer": "ipython3",
   "version": "3.9.13"
  },
  "orig_nbformat": 4
 },
 "nbformat": 4,
 "nbformat_minor": 2
}

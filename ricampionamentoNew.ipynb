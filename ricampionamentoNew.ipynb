{
 "cells": [
  {
   "cell_type": "markdown",
   "metadata": {},
   "source": []
  },
  {
   "cell_type": "code",
   "execution_count": null,
   "metadata": {},
   "outputs": [],
   "source": [
    "import pandas as pd \n",
    "import numpy as np\n",
    "import matplotlib.pyplot as plt\n",
    "import os"
   ]
  },
  {
   "cell_type": "code",
   "execution_count": null,
   "metadata": {},
   "outputs": [],
   "source": [
    "df1 = pd.read_csv('last12months/12months/204300479.csv')\n",
    "df2 = pd.read_csv('last12months/12months/220330932.csv')\n",
    "df3 = pd.read_csv('last12months/12months/224228487.csv')"
   ]
  },
  {
   "cell_type": "code",
   "execution_count": null,
   "metadata": {},
   "outputs": [],
   "source": [
    "df1['dt'] = pd.to_datetime(df1['TIMESTAMP'],unit='ms')\n",
    "df2['dt'] = pd.to_datetime(df2['TIMESTAMP'],unit='ms')\n",
    "df3['dt'] = pd.to_datetime(df3['TIMESTAMP'],unit='ms')"
   ]
  },
  {
   "cell_type": "code",
   "execution_count": null,
   "metadata": {},
   "outputs": [],
   "source": [
    "def cleanCSV(df):\n",
    "  cols_to_check = df.columns\n",
    "  arr_col = []\n",
    "  for col in df.columns:\n",
    "    if df[col].isna().all():\n",
    "        print(\"La colonna\", col, \"contiene solo valori NaN.\")\n",
    "        arr_col.append(col)\n",
    "  df_cleaned = df.drop(columns=arr_col)\n",
    "  df_cleaned = df_cleaned.replace('---', 0)\n",
    "  return df_cleaned"
   ]
  },
  {
   "cell_type": "code",
   "execution_count": null,
   "metadata": {},
   "outputs": [],
   "source": [
    "def sortDf(df):\n",
    "    if 'TIMESTAMP' in df.columns:\n",
    "        df = df.sort_values('TIMESTAMP',ascending=True)\n",
    "        df.index = range(len(df))\n",
    "    else:\n",
    "        print(\"La colonna TIMESTAMP non è presente nel dataframe.\")\n",
    "        return None\n",
    "    return df"
   ]
  },
  {
   "cell_type": "code",
   "execution_count": null,
   "metadata": {},
   "outputs": [],
   "source": [
    "def resampleDf(df,datetime):\n",
    "    if 'dt' in df.columns:\n",
    "        df.set_index('dt', inplace=True)\n",
    "    df_noNan = df.ffill()\n",
    "    df_resampled = df_noNan.resample(datetime).ffill()\n",
    "    df_resampled = df_resampled.replace('---', 0)\n",
    "    return df_resampled\n",
    "    "
   ]
  },
  {
   "cell_type": "code",
   "execution_count": null,
   "metadata": {},
   "outputs": [],
   "source": [
    "def checkFileInFolder(folder, file):\n",
    "    if file in os.listdir(folder):\n",
    "        return True\n",
    "    return False"
   ]
  },
  {
   "cell_type": "code",
   "execution_count": null,
   "metadata": {},
   "outputs": [],
   "source": [
    "def getResampledDf(df,file_path):\n",
    "    if not checkFileInFolder(folder ='last12months/12months',file=file_path):\n",
    "        df_sorted = sortDf(df)\n",
    "        df_sorted = cleanCSV(df_sorted)\n",
    "        df_resampled = resampleDf(df_sorted,'30s')\n",
    "        df_resampled.to_csv('last12months/12months/' + file_path)\n",
    "        return df_sorted, df_resampled\n",
    "    else:\n",
    "        df_resampled = pd.read_csv('last12months/12months/'+ file_path)\n",
    "        return None, df_resampled\n",
    "\n",
    "    "
   ]
  },
  {
   "cell_type": "code",
   "execution_count": null,
   "metadata": {},
   "outputs": [],
   "source": [
    "df1_sorted, df1_resampled = getResampledDf(df1,'204300479_resampled30s.csv')\n",
    "df2_sorted, df2_resampled = getResampledDf(df2,'220330932_resampled30s.csv')\n",
    "df3_sorted, df3_resampled = getResampledDf(df3,'224228487_resampled30s.csv')"
   ]
  },
  {
   "cell_type": "code",
   "execution_count": null,
   "metadata": {},
   "outputs": [],
   "source": [
    "def getUniques(df):\n",
    "    cols = df.columns\n",
    "    dict_unique = dict.fromkeys(cols,None)\n",
    "    for col in cols:\n",
    "        dict_unique[col] = df[col].unique()\n",
    "    return dict_unique"
   ]
  },
  {
   "cell_type": "code",
   "execution_count": null,
   "metadata": {},
   "outputs": [],
   "source": [
    "def getBooelan(dict):\n",
    "    arr = []\n",
    "    for key, value in dict.items():\n",
    "        if len(value) < 4:\n",
    "            b = True\n",
    "            for v in value:\n",
    "                # print(v,pd.isna(v))\n",
    "                if pd.isna(v)==False:\n",
    "                    if int(v) != 0 and int(v) != 1:\n",
    "                        # print('ciao')\n",
    "                        b = False\n",
    "                        break\n",
    "            # print(value,b)\n",
    "            if b:\n",
    "                arr.append(key)\n",
    "    return arr"
   ]
  },
  {
   "cell_type": "code",
   "execution_count": null,
   "metadata": {},
   "outputs": [],
   "source": [
    "def printUniques(dict,tp):\n",
    "    booleans = getBooelan(dict)\n",
    "    for key, value in dict.items():\n",
    "        counts = []\n",
    "        if key in booleans and tp ==1:\n",
    "            print(key, value)\n",
    "        elif tp==2 and len(value) > 4 :\n",
    "            print(key, value[0:5])"
   ]
  },
  {
   "cell_type": "code",
   "execution_count": null,
   "metadata": {},
   "outputs": [],
   "source": [
    "def countOccurences(df,dict):\n",
    "    booleans = getBooelan(dict)\n",
    "    counters = dict.fromkeys(booleans,None)\n",
    "    for key, value in dict.items():\n",
    "        if key in booleans:\n",
    "            value = value[1:]\n",
    "            counts = dict.fromkeys(value,None)\n",
    "            for v in value:\n",
    "                if not pd.isna(v):\n",
    "                    counts[v]= df[key].value_counts()[v]\n",
    "            counters[key] = counts\n",
    "            # print(key, counts, max(counts))\n",
    "    return counters\n",
    "            "
   ]
  },
  {
   "cell_type": "code",
   "execution_count": null,
   "metadata": {},
   "outputs": [],
   "source": [
    "def getMax(dict):\n",
    "    maxs = dict.fromkeys(dict.keys(),None)\n",
    "    for key, value in dict.items():\n",
    "        # print(key, value)\n",
    "        for k, v in value.items():\n",
    "            if v == max(value.values()):\n",
    "                maxs[key] = k\n",
    "    return maxs"
   ]
  },
  {
   "cell_type": "code",
   "execution_count": null,
   "metadata": {},
   "outputs": [],
   "source": [
    "def plotColumn(df,col):\n",
    "    if col not in df.columns:\n",
    "        print(\"La colonna\", col, \"non è presente nel dataframe.\")\n",
    "        return None\n",
    "    df_toPlot = df[col]\n",
    "    plt.plot(df_toPlot)\n",
    "    try: \n",
    "        plt.ylim(0, max(df_toPlot.unique())+1)\n",
    "    except:\n",
    "        pass\n",
    "\n",
    "    plt.show()\n"
   ]
  },
  {
   "cell_type": "code",
   "execution_count": null,
   "metadata": {},
   "outputs": [],
   "source": [
    "dict_unique1 = getUniques(df1_resampled)\n",
    "dict_unique2 = getUniques(df2_resampled)\n",
    "dict_unique3 = getUniques(df3_resampled)\n",
    "arr_booleani1 = getBooelan(dict_unique1)\n",
    "arr_booleani2 = getBooelan(dict_unique2)\n",
    "arr_booleani3 = getBooelan(dict_unique3)\n"
   ]
  },
  {
   "cell_type": "markdown",
   "metadata": {},
   "source": [
    "## Fill Nan with the values of another csv"
   ]
  },
  {
   "cell_type": "code",
   "execution_count": null,
   "metadata": {},
   "outputs": [],
   "source": [
    "if 'last_20Row_204300479.csv' in os.listdir('last12months/12months'):\n",
    "    df1_last20 = pd.read_csv('last12months/12months/last_20Row_204300479.csv')\n",
    "if 'd_test_filled.csv' in os.listdir('last12months/12months'):\n",
    "    d_test_filled = pd.read_csv('last12months/12months/d_test_filled.csv')"
   ]
  },
  {
   "cell_type": "code",
   "execution_count": null,
   "metadata": {},
   "outputs": [],
   "source": [
    "def getLastValues(df):\n",
    "    d_sample = df.iloc[-1]\n",
    "    dictionary = dict.fromkeys(df.columns,None)\n",
    "\n",
    "    for col in df.columns:\n",
    "        if col in d_sample.index:\n",
    "            dictionary[col] = d_sample[col]\n",
    "\n",
    "    return dictionary"
   ]
  },
  {
   "cell_type": "code",
   "execution_count": null,
   "metadata": {},
   "outputs": [],
   "source": [
    "def reversedMax(dizionario):\n",
    "    for key, value in dizionario.items():\n",
    "        if value == 1:\n",
    "            dizionario[key] = 0\n",
    "        else:\n",
    "            dizionario[key] = 1\n",
    "    return dizionario"
   ]
  },
  {
   "cell_type": "code",
   "execution_count": null,
   "metadata": {},
   "outputs": [],
   "source": [
    "def getGeneralBooleans(df1,df2,df3):\n",
    "    b1 = getBooelan(getUniques(df1))\n",
    "    b2 = getBooelan(getUniques(df2))\n",
    "    b3 = getBooelan(getUniques(df3))\n",
    "    intersection = list(set(b1) & set(b2) & set(b3))\n",
    "    intersection.sort()\n",
    "    return intersection"
   ]
  },
  {
   "cell_type": "code",
   "execution_count": null,
   "metadata": {},
   "outputs": [],
   "source": [
    "def fillBooleans(df,booleans,dizionario):\n",
    "    for key in booleans:\n",
    "        if key != 'Modalità Estate/Inverno (solo scrittura)' and key in dizionario.keys():\n",
    "            print(f'{key}: {dizionario[key]}')        \n",
    "            df[key] = df[key].replace(np.nan,dizionario[key])\n",
    "    return df"
   ]
  },
  {
   "cell_type": "code",
   "execution_count": null,
   "metadata": {},
   "outputs": [],
   "source": [
    "def fillOthers(df,sample):\n",
    "    col_s = sample.index\n",
    "    booleani = getBooelan(getUniques(df))\n",
    "    for col in df.columns:\n",
    "        # print(col)\n",
    "        if col == 'Anomalia #1':\n",
    "            df[col] = df[col].replace(np.nan,sample[col])\n",
    "        if col not in booleani and col in col_s:\n",
    "            # print('in')\n",
    "            df[col] = df[col].replace(np.nan,sample[col])\n",
    "    return df"
   ]
  },
  {
   "cell_type": "code",
   "execution_count": null,
   "metadata": {},
   "outputs": [],
   "source": [
    "d1 = pd.read_csv('last12months/20230721-153054/204300479_LUNA IN PLUS AIR.csv')\n",
    "d2 = pd.read_csv('last12months/20230721-153054/220330932_LUNA IN PLUS AIR.csv')\n",
    "d3 = pd.read_csv('last12months/20230721-153054/224228487_LUNA IN PLUS AIR.csv')"
   ]
  },
  {
   "cell_type": "code",
   "execution_count": null,
   "metadata": {},
   "outputs": [],
   "source": [
    "d1 = cleanCSV(d1)\n",
    "d1['dt'] = pd.to_datetime(d1['TIMESTAMP'],unit='ms')\n",
    "d1_sorted = sortDf(d1)\n",
    "d1_resampled = resampleDf(d1_sorted,'30s')\n",
    "d1_resampled = d1_resampled.replace('---', 0)"
   ]
  },
  {
   "cell_type": "code",
   "execution_count": null,
   "metadata": {},
   "outputs": [],
   "source": [
    "d1_resampled.tail()"
   ]
  },
  {
   "cell_type": "code",
   "execution_count": null,
   "metadata": {},
   "outputs": [],
   "source": [
    "if 'd1.csv' not in os.listdir('last12months'):\n",
    "    d1_resampled.tail(50).to_csv('last12months/d1.csv')\n",
    "if 'df1.csv' not in os.listdir('last12months'):\n",
    "    df1_resampled.head(50).to_csv('last12months/df1.csv')"
   ]
  },
  {
   "cell_type": "code",
   "execution_count": null,
   "metadata": {},
   "outputs": [],
   "source": [
    "last_rows_d1= d1_resampled.tail(5)\n",
    "dizionario = getLastValues(last_rows_d1)\n",
    "dizionario"
   ]
  },
  {
   "cell_type": "code",
   "execution_count": null,
   "metadata": {},
   "outputs": [],
   "source": [
    "generalBooleans = getGeneralBooleans(df1_resampled,df2_resampled,df3_resampled)\n",
    "d_test_fB = fillBooleans(df1_resampled,generalBooleans,dizionario)\n",
    "d_campione = d1_resampled.iloc[-1]\n",
    "d_test_filled = fillOthers(d_test_fB,d_campione)\n",
    "d_test_filled = cleanCSV(d_test_filled)"
   ]
  },
  {
   "cell_type": "code",
   "execution_count": null,
   "metadata": {},
   "outputs": [],
   "source": [
    "d_test_filled.head()"
   ]
  },
  {
   "cell_type": "code",
   "execution_count": null,
   "metadata": {},
   "outputs": [],
   "source": [
    "first10 = d_test_filled.head(10)\n",
    "first10.to_excel('last12months/12months/first_10Row_204300479.xlsx')"
   ]
  },
  {
   "cell_type": "code",
   "execution_count": null,
   "metadata": {},
   "outputs": [],
   "source": [
    "d1_resampled.tail()"
   ]
  },
  {
   "cell_type": "code",
   "execution_count": null,
   "metadata": {},
   "outputs": [],
   "source": [
    "d_test_fB.head()"
   ]
  },
  {
   "cell_type": "code",
   "execution_count": null,
   "metadata": {},
   "outputs": [],
   "source": [
    "if 'd_test_filled.csv' not in os.listdir('last12months/12months'):\n",
    "    d_test_filled.to_csv('last12months/12months/d_test_filled.csv')"
   ]
  },
  {
   "cell_type": "code",
   "execution_count": null,
   "metadata": {},
   "outputs": [],
   "source": [
    "\n",
    "if 'last_20Row_204300479.csv' not in os.listdir('last12months/12months'):\n",
    "    d_finale20 = d_test.head(20)\n",
    "    d_finale20.to_csv('last12months/12months/last_20Row_204300479.csv') "
   ]
  },
  {
   "cell_type": "code",
   "execution_count": null,
   "metadata": {},
   "outputs": [],
   "source": [
    "if 'last_20Row_204300479.xlsx' not in os.listdir('last12months/12months'):\n",
    "    df1_last20.to_excel('last12months/12months/last_20Row_204300479.xlsx')"
   ]
  },
  {
   "cell_type": "code",
   "execution_count": null,
   "metadata": {},
   "outputs": [],
   "source": [
    "d_test_filled.head()"
   ]
  },
  {
   "cell_type": "code",
   "execution_count": null,
   "metadata": {},
   "outputs": [],
   "source": []
  }
 ],
 "metadata": {
  "kernelspec": {
   "display_name": "base",
   "language": "python",
   "name": "python3"
  },
  "language_info": {
   "codemirror_mode": {
    "name": "ipython",
    "version": 3
   },
   "file_extension": ".py",
   "mimetype": "text/x-python",
   "name": "python",
   "nbconvert_exporter": "python",
   "pygments_lexer": "ipython3",
   "version": "3.9.5"
  },
  "orig_nbformat": 4
 },
 "nbformat": 4,
 "nbformat_minor": 2
}

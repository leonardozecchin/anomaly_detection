{
 "cells": [
  {
   "cell_type": "code",
   "execution_count": 2,
   "metadata": {},
   "outputs": [],
   "source": [
    "import pandas as pd \n",
    "import numpy as np\n",
    "import matplotlib.pyplot as plt\n",
    "import os\n",
    "import sys\n",
    "\n",
    "def cleanCSV(df):\n",
    "  arr_col = []\n",
    "  for col in df.columns:\n",
    "    if df[col].isna().all():\n",
    "        print(\"Column\", col, \"contains only NaN values.\")\n",
    "        arr_col.append(col)\n",
    "  df_cleaned = df.drop(columns=arr_col)\n",
    "  df_cleaned = df_cleaned.replace('---', 0)\n",
    "  return df_cleaned\n",
    "\n",
    "def sortDf(df):\n",
    "    if 'TIMESTAMP' in df.columns:\n",
    "        df = df.sort_values('TIMESTAMP',ascending=True)\n",
    "        df.index = range(len(df))\n",
    "    else:\n",
    "        print(\"Column TIMESTAMP is not in the dataframe.\")\n",
    "        return None\n",
    "    return df"
   ]
  },
  {
   "cell_type": "code",
   "execution_count": 3,
   "metadata": {},
   "outputs": [
    {
     "name": "stderr",
     "output_type": "stream",
     "text": [
      "/home/leonardo/.local/lib/python3.9/site-packages/IPython/core/interactiveshell.py:3444: DtypeWarning: Columns (21,23,25,27,51) have mixed types.Specify dtype option on import or set low_memory=False.\n",
      "  exec(code_obj, self.user_global_ns, self.user_ns)\n"
     ]
    },
    {
     "name": "stdout",
     "output_type": "stream",
     "text": [
      "Column Modo Impianto contains only NaN values.\n",
      "     Caldaia                      dt\n",
      "0        NaN 2022-06-30 22:00:00.000\n",
      "1  1072386.0 2022-07-17 22:00:00.000\n",
      "2        NaN 2022-07-21 22:00:00.000\n",
      "3        NaN 2022-07-22 09:13:05.802\n",
      "4        NaN 2022-07-22 09:13:44.845\n"
     ]
    }
   ],
   "source": [
    "df = pd.read_csv('last12months/12months/220330932.csv')\n",
    "df['dt'] = pd.to_datetime(df['TIMESTAMP'],unit='ms')\n",
    "\n",
    "df_sorted = sortDf(df)\n",
    "df_sorted = cleanCSV(df_sorted)\n",
    "\n",
    "df_caldaia = df_sorted[['Caldaia','dt']]\n",
    "\n",
    "print(df_caldaia.head())"
   ]
  },
  {
   "cell_type": "code",
   "execution_count": 8,
   "metadata": {},
   "outputs": [
    {
     "data": {
      "text/html": [
       "<div>\n",
       "<style scoped>\n",
       "    .dataframe tbody tr th:only-of-type {\n",
       "        vertical-align: middle;\n",
       "    }\n",
       "\n",
       "    .dataframe tbody tr th {\n",
       "        vertical-align: top;\n",
       "    }\n",
       "\n",
       "    .dataframe thead th {\n",
       "        text-align: right;\n",
       "    }\n",
       "</style>\n",
       "<table border=\"1\" class=\"dataframe\">\n",
       "  <thead>\n",
       "    <tr style=\"text-align: right;\">\n",
       "      <th></th>\n",
       "      <th>Caldaia</th>\n",
       "      <th>dt</th>\n",
       "    </tr>\n",
       "  </thead>\n",
       "  <tbody>\n",
       "    <tr>\n",
       "      <th>0</th>\n",
       "      <td>1072386.0</td>\n",
       "      <td>2022-07-17 22:00:00</td>\n",
       "    </tr>\n",
       "    <tr>\n",
       "      <th>1</th>\n",
       "      <td>1363607.0</td>\n",
       "      <td>2022-07-24 22:00:00</td>\n",
       "    </tr>\n",
       "    <tr>\n",
       "      <th>2</th>\n",
       "      <td>697264.0</td>\n",
       "      <td>2022-07-31 22:00:00</td>\n",
       "    </tr>\n",
       "    <tr>\n",
       "      <th>3</th>\n",
       "      <td>610532.0</td>\n",
       "      <td>2022-08-07 22:00:00</td>\n",
       "    </tr>\n",
       "    <tr>\n",
       "      <th>4</th>\n",
       "      <td>1409556.0</td>\n",
       "      <td>2022-08-14 22:00:00</td>\n",
       "    </tr>\n",
       "  </tbody>\n",
       "</table>\n",
       "</div>"
      ],
      "text/plain": [
       "     Caldaia                  dt\n",
       "0  1072386.0 2022-07-17 22:00:00\n",
       "1  1363607.0 2022-07-24 22:00:00\n",
       "2   697264.0 2022-07-31 22:00:00\n",
       "3   610532.0 2022-08-07 22:00:00\n",
       "4  1409556.0 2022-08-14 22:00:00"
      ]
     },
     "execution_count": 8,
     "metadata": {},
     "output_type": "execute_result"
    }
   ],
   "source": [
    "dfNoNan = df_caldaia.dropna().reset_index(drop=True)\n",
    "dfNoNan.head()"
   ]
  },
  {
   "cell_type": "code",
   "execution_count": 10,
   "metadata": {},
   "outputs": [],
   "source": [
    "date1 = dfNoNan.loc[0]['dt']\n",
    "date2 = dfNoNan.loc[1]['dt']\n",
    "delta = date2 - date1"
   ]
  },
  {
   "cell_type": "code",
   "execution_count": 11,
   "metadata": {},
   "outputs": [
    {
     "data": {
      "text/plain": [
       "Timedelta('7 days 00:00:00')"
      ]
     },
     "execution_count": 11,
     "metadata": {},
     "output_type": "execute_result"
    }
   ],
   "source": [
    "delta"
   ]
  },
  {
   "cell_type": "code",
   "execution_count": 18,
   "metadata": {},
   "outputs": [],
   "source": [
    "deltaT = []\n",
    "for c in range(len(dfNoNan)-1):\n",
    "    date1 = dfNoNan.loc[c]['dt']\n",
    "    date2 = dfNoNan.loc[c+1]['dt']\n",
    "    delta = date2 - date1\n",
    "    delta = delta.total_seconds()\n",
    "    deltaT.append(delta)"
   ]
  },
  {
   "cell_type": "code",
   "execution_count": 19,
   "metadata": {},
   "outputs": [
    {
     "data": {
      "text/plain": [
       "[604800.0,\n",
       " 604800.0,\n",
       " 604800.0,\n",
       " 604800.0,\n",
       " 604800.0,\n",
       " 604800.0,\n",
       " 604800.0,\n",
       " 604800.0,\n",
       " 604800.0,\n",
       " 604800.0,\n",
       " 604800.0,\n",
       " 604800.0,\n",
       " 604800.0,\n",
       " 604800.0,\n",
       " 608400.0,\n",
       " 604800.0,\n",
       " 604800.0,\n",
       " 604800.0,\n",
       " 604800.0,\n",
       " 604800.0,\n",
       " 604800.0,\n",
       " 604800.0,\n",
       " 604800.0,\n",
       " 604800.0,\n",
       " 604800.0,\n",
       " 604800.0,\n",
       " 604800.0,\n",
       " 604800.0,\n",
       " 604800.0,\n",
       " 604800.0,\n",
       " 604800.0,\n",
       " 604800.0,\n",
       " 604800.0,\n",
       " 604800.0,\n",
       " 604800.0,\n",
       " 601200.0,\n",
       " 604800.0,\n",
       " 604800.0,\n",
       " 604800.0,\n",
       " 604800.0,\n",
       " 604800.0,\n",
       " 5443200.0,\n",
       " 604800.0]"
      ]
     },
     "execution_count": 19,
     "metadata": {},
     "output_type": "execute_result"
    }
   ],
   "source": [
    "deltaT"
   ]
  },
  {
   "cell_type": "code",
   "execution_count": 21,
   "metadata": {},
   "outputs": [],
   "source": [
    "deltaT = np.array(deltaT)\n",
    "avg_deltaT = deltaT.mean()\n",
    "days = avg_deltaT / 86400"
   ]
  },
  {
   "cell_type": "code",
   "execution_count": 22,
   "metadata": {},
   "outputs": [
    {
     "data": {
      "text/plain": [
       "8.30232558139535"
      ]
     },
     "execution_count": 22,
     "metadata": {},
     "output_type": "execute_result"
    }
   ],
   "source": [
    "days"
   ]
  },
  {
   "cell_type": "code",
   "execution_count": 23,
   "metadata": {},
   "outputs": [],
   "source": [
    "def getDeltaT(df):\n",
    "    dfNoNan = df.dropna().reset_index(drop=True)\n",
    "    deltaT = []\n",
    "    for c in range(len(dfNoNan)-1):\n",
    "        date1 = dfNoNan.loc[c]['dt']\n",
    "        date2 = dfNoNan.loc[c+1]['dt']\n",
    "        delta = date2 - date1\n",
    "        delta = delta.total_seconds()\n",
    "        deltaT.append(delta)\n",
    "    deltaT = np.array(deltaT)\n",
    "    avg_deltaT = deltaT.mean()\n",
    "    days = avg_deltaT / 86400\n",
    "    return days"
   ]
  },
  {
   "cell_type": "code",
   "execution_count": 28,
   "metadata": {},
   "outputs": [
    {
     "name": "stdout",
     "output_type": "stream",
     "text": [
      "Abilitazione al conteggio energia\n",
      "Anomalia #1\n",
      "Caldaia\n",
      "Caldaia giornaliero\n",
      "Cloud Status\n",
      "Connection Status\n",
      "Energia parziale in riscaldamento caldaia\n"
     ]
    },
    {
     "name": "stderr",
     "output_type": "stream",
     "text": [
      "/tmp/ipykernel_32321/1554738645.py:11: RuntimeWarning: Mean of empty slice.\n",
      "  avg_deltaT = deltaT.mean()\n",
      "/usr/lib/python3/dist-packages/numpy/core/_methods.py:170: RuntimeWarning: invalid value encountered in double_scalars\n",
      "  ret = ret.dtype.type(ret / rcount)\n"
     ]
    },
    {
     "name": "stdout",
     "output_type": "stream",
     "text": [
      "Energia parziale in sanitario caldaia\n",
      "Energia totale globale\n",
      "Energia totale globale delta\n",
      "Energia totale globale per day\n",
      "Energia totale globale per month\n",
      "Energia totale globale per week\n",
      "Energia totale in riscaldamento caldaia\n",
      "Energia totale in sanitario caldaia\n",
      "Fattore di correzione\n",
      "Flame status\n",
      "Flusso sanitario\n",
      "Intercetta della retta della potenza\n",
      "Livello modulazione\n",
      "M64A17E8\n",
      "M64A17E9\n",
      "M64A17EA\n",
      "M64A17EB\n",
      "M64A17EC\n",
      "M64A17ED\n",
      "M64A17EE\n",
      "M64A17EF\n",
      "Media T esterna\n",
      "Modalità Estate/Inverno (solo scrittura)\n",
      "Modo service\n",
      "Modo vacanza\n",
      "Pendenza della retta della potenza\n",
      "Pressione impianto\n",
      "Riscaldamento\n",
      "Riscaldamento attivo\n",
      "Riscaldamento giornaliero\n",
      "Riscaldamento on\n",
      "Ritorno riscaldamento\n",
      "Sanitario\n",
      "Sanitario attivo\n",
      "Sanitario giornaliero\n",
      "Sanitario on\n",
      "Standby\n",
      "Standby giornaliero\n",
      "Stato attivazione BOOST sanitario\n",
      "Taratura sensore\n",
      "Temperatura di mandata\n",
      "Temperatura esterna\n",
      "Temperatura esterna mediata\n",
      "Temperatura fumi\n",
      "Temperatura sanitario\n",
      "Temperatura scambiatore\n",
      "Velocita' ventilatore\n",
      "WiFi signal\n"
     ]
    }
   ],
   "source": [
    "dict_deltaT = {}\n",
    "for col in df_sorted.columns:\n",
    "    dict_deltaT[col] = None\n",
    "\n",
    "for col in df_sorted.columns:\n",
    "    if col != 'dt' and col != 'TIMESTAMP':\n",
    "        print(col)\n",
    "        df_col = df_sorted[[col,'dt']]\n",
    "        days = getDeltaT(df_col)\n",
    "        dict_deltaT[col] = days"
   ]
  },
  {
   "cell_type": "code",
   "execution_count": 29,
   "metadata": {},
   "outputs": [
    {
     "data": {
      "text/plain": [
       "{'TIMESTAMP': None,\n",
       " 'Abilitazione al conteggio energia': 2.2087709303385417,\n",
       " 'Anomalia #1': 0.12812732497191123,\n",
       " 'Caldaia': 8.30232558139535,\n",
       " 'Caldaia giornaliero': 1.21160409556314,\n",
       " 'Cloud Status': nan,\n",
       " 'Connection Status': 6.792829561032069,\n",
       " 'Energia parziale in riscaldamento caldaia': 0.09129271633126566,\n",
       " 'Energia parziale in sanitario caldaia': 0.10862968548711754,\n",
       " 'Energia totale globale': 0.07963527696998221,\n",
       " 'Energia totale globale delta': 0.07963738839526957,\n",
       " 'Energia totale globale per day': 1.2074829931972788,\n",
       " 'Energia totale globale per month': 40.55555555555556,\n",
       " 'Energia totale globale per week': 8.30232558139535,\n",
       " 'Energia totale in riscaldamento caldaia': 0.09274824578662562,\n",
       " 'Energia totale in sanitario caldaia': 0.10869624957093658,\n",
       " 'Fattore di correzione': 1.8455917212301587,\n",
       " 'Flame status': 0.03919902984763594,\n",
       " 'Flusso sanitario': 0.00028553742069214696,\n",
       " 'Intercetta della retta della potenza': 2.2226625714098533,\n",
       " 'Livello modulazione': 0.00028639384610458973,\n",
       " 'M64A17E8': 0.09316219175101854,\n",
       " 'M64A17E9': 0.12953068985115546,\n",
       " 'M64A17EA': 0.0933091739099736,\n",
       " 'M64A17EB': 0.12967271911634312,\n",
       " 'M64A17EC': 0.1114273092967732,\n",
       " 'M64A17ED': 0.12991012552212594,\n",
       " 'M64A17EE': 0.111637681812752,\n",
       " 'M64A17EF': 0.1301484074099549,\n",
       " 'Media T esterna': 0.8031907177767256,\n",
       " 'Modalità Estate/Inverno (solo scrittura)': 0.00028644549230214916,\n",
       " 'Modo service': 37.76893341269841,\n",
       " 'Modo vacanza': 0.12589921364886442,\n",
       " 'Pendenza della retta della potenza': 2.222662571409853,\n",
       " 'Pressione impianto': 0.013369077176452653,\n",
       " 'Riscaldamento': 8.30232558139535,\n",
       " 'Riscaldamento attivo': 0.03919470037670071,\n",
       " 'Riscaldamento giornaliero': 1.21160409556314,\n",
       " 'Riscaldamento on': 0.03925105820270414,\n",
       " 'Ritorno riscaldamento': 0.00353036511028595,\n",
       " 'Sanitario': 8.30232558139535,\n",
       " 'Sanitario attivo': 0.03919902984763594,\n",
       " 'Sanitario giornaliero': 1.21160409556314,\n",
       " 'Sanitario on': 0.039285820570203495,\n",
       " 'Standby': 8.30232558139535,\n",
       " 'Standby giornaliero': 1.21160409556314,\n",
       " 'Stato attivazione BOOST sanitario': 0.812422858343976,\n",
       " 'Taratura sensore': 1.289475544652442,\n",
       " 'Temperatura di mandata': 0.0018848074505454897,\n",
       " 'Temperatura esterna': 0.11055102323107766,\n",
       " 'Temperatura esterna mediata': 0.8901861751912491,\n",
       " 'Temperatura fumi': 0.11100055380695444,\n",
       " 'Temperatura sanitario': 0.0019292088722706994,\n",
       " 'Temperatura scambiatore': 0.11127901239286088,\n",
       " \"Velocita' ventilatore\": 0.000286464189563301,\n",
       " 'WiFi signal': 0.0006067406473385705,\n",
       " 'dt': None}"
      ]
     },
     "execution_count": 29,
     "metadata": {},
     "output_type": "execute_result"
    }
   ],
   "source": [
    "dict_deltaT"
   ]
  },
  {
   "cell_type": "code",
   "execution_count": 35,
   "metadata": {},
   "outputs": [],
   "source": [
    "keys_to_delete = ['TIMESTAMP','dt','Cloud Status']\n",
    "for key in keys_to_delete:\n",
    "    del dict_deltaT[key]"
   ]
  },
  {
   "cell_type": "code",
   "execution_count": 43,
   "metadata": {},
   "outputs": [],
   "source": [
    "arr_values = list(dict_deltaT.values())\n",
    "arr_values = np.array(arr_values)\n",
    "avg_deltaT = arr_values.mean()"
   ]
  },
  {
   "cell_type": "code",
   "execution_count": 44,
   "metadata": {},
   "outputs": [
    {
     "data": {
      "text/plain": [
       "2.7272721957477555"
      ]
     },
     "execution_count": 44,
     "metadata": {},
     "output_type": "execute_result"
    }
   ],
   "source": [
    "avg_deltaT"
   ]
  },
  {
   "cell_type": "code",
   "execution_count": null,
   "metadata": {},
   "outputs": [],
   "source": []
  }
 ],
 "metadata": {
  "kernelspec": {
   "display_name": "Python 3",
   "language": "python",
   "name": "python3"
  },
  "language_info": {
   "codemirror_mode": {
    "name": "ipython",
    "version": 3
   },
   "file_extension": ".py",
   "mimetype": "text/x-python",
   "name": "python",
   "nbconvert_exporter": "python",
   "pygments_lexer": "ipython3",
   "version": "3.9.5"
  },
  "orig_nbformat": 4
 },
 "nbformat": 4,
 "nbformat_minor": 2
}
